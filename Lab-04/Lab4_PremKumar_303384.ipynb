{
 "cells": [
  {
   "cell_type": "markdown",
   "metadata": {},
   "source": [
    "## 3115-Lab Programming Machine Learning\n",
    "\n",
    "### Lab Exercise 4\n",
    "\n",
    "### Yuvaraj Prem Kumar, 303384"
   ]
  },
  {
   "cell_type": "code",
   "execution_count": 13,
   "metadata": {},
   "outputs": [],
   "source": [
    "import numpy as np\n",
    "import pandas as pd\n",
    "import matplotlib.pyplot as plt\n",
    "import math\n",
    "%matplotlib inline"
   ]
  },
  {
   "cell_type": "markdown",
   "metadata": {},
   "source": [
    "## 1. Data Pre-processing"
   ]
  },
  {
   "cell_type": "markdown",
   "metadata": {},
   "source": [
    "From the dataset description [1]; \" This database encodes the complete set of possible board configurations at the end of tic-tac-toe games, where \"x\" is assumed to have played first. The target concept is \"win for x\" (i.e., true when \"x\" has one of 8 possible ways to create a \"three-in-a-row\"). \"\n",
    "\n",
    "* Data Set Characteristics: Multivariate\n",
    "* Attribute Characteristics: Categorical\n",
    "* Associated Tasks: Classification\n",
    "* Number of Instances: 958\n",
    "* Number of Attributes: 9\n",
    "\n",
    "This is basically a Binary Classification task on possible configurations and final outcomes of tic-tac-toe. And the task is to use this dataset in the logistic regression model, which is a linear classifier. The target here is \"class\" which is {positive, negative} corresponding to a 'win' or 'loss'. Since this is a logistic regression model, the predicted outputs are binary '1' or '0' for the classification - hence the target column will be converted accordingly.\n"
   ]
  },
  {
   "cell_type": "markdown",
   "metadata": {},
   "source": [
    "Steps for data preprocessing, also adapted from [2]:\n",
    "\n",
    "1. *Encode categorical variables as numeric*: We will one-hot encode {x, o, b} to {0, 1, 2} using pandas get_dummies() function.\n",
    "2. *Encode target categorical variable*: As mentioned, the target categorical variable must be changed from {positive, negative} to {0, 1}.\n",
    "3. *Implement stratified sampling*: Explained below\n",
    "4. *Train/test split* - 80% train and 20% test."
   ]
  },
  {
   "cell_type": "markdown",
   "metadata": {},
   "source": [
    "Stratified sampling, as explained from [5,6]:\n",
    "\n",
    "The dataset description file contains the following remark: \"Class Distribution: About 65.3% are positive (i.e., wins for \"x\")\". Meaning that the distribution of variables here are uneven. Since the class is either \"positive\" or \"negative\" its normally 50%/50%, but now it doesn't represent the true distribution of data. Imbalanced data set will lead algorithms to get good results by returning the majority. That will be a problem if we are also interested in the minority. For most machine learning models, a little imbalance is not a problem (60%/40%).\n",
    "\n",
    "So, balancing is a way to force the algorithm to give more weight to the minority, especially since we cannot collect more data here obviously. Hence we can implement stratified sampling, which splits the class proportionally between training and test set. The number of samples is arbitarily set to 200, through some testing I found this gave the balanced proportion."
   ]
  },
  {
   "cell_type": "code",
   "execution_count": 14,
   "metadata": {},
   "outputs": [],
   "source": [
    "# Code adapted from [7]\n",
    "def stratified_sample_df(df, col, n_samples):\n",
    "    n = min(n_samples, df[col].value_counts().min())\n",
    "    df_ = df.groupby(col).apply(lambda x: x.sample(n))\n",
    "    df_.index = df_.index.droplevel(0)\n",
    "    return df_"
   ]
  },
  {
   "cell_type": "code",
   "execution_count": 15,
   "metadata": {},
   "outputs": [],
   "source": [
    "# Function for missing or NA values, adapted from [3]\n",
    "def checknull(dataframe):\n",
    "    i = dataframe.isnull().sum().sum()\n",
    "    if i == 0:\n",
    "        print('No NaN values in dataset')\n",
    "    else:\n",
    "        print('NaN values found:', i)"
   ]
  },
  {
   "cell_type": "code",
   "execution_count": 16,
   "metadata": {},
   "outputs": [],
   "source": [
    "col_names = ['top-left-square','top-middle-square','top-right-square','middle-left-square','middle-middle-square',\n",
    "              'middle-right-square','bottom-left-square','bottom-middle-square','bottom-right-square','Class']"
   ]
  },
  {
   "cell_type": "code",
   "execution_count": 17,
   "metadata": {},
   "outputs": [
    {
     "name": "stdout",
     "output_type": "stream",
     "text": [
      "Intial shape of data: (958, 10)\n"
     ]
    },
    {
     "data": {
      "text/html": [
       "<div>\n",
       "<style scoped>\n",
       "    .dataframe tbody tr th:only-of-type {\n",
       "        vertical-align: middle;\n",
       "    }\n",
       "\n",
       "    .dataframe tbody tr th {\n",
       "        vertical-align: top;\n",
       "    }\n",
       "\n",
       "    .dataframe thead th {\n",
       "        text-align: right;\n",
       "    }\n",
       "</style>\n",
       "<table border=\"1\" class=\"dataframe\">\n",
       "  <thead>\n",
       "    <tr style=\"text-align: right;\">\n",
       "      <th></th>\n",
       "      <th>top-left-square</th>\n",
       "      <th>top-middle-square</th>\n",
       "      <th>top-right-square</th>\n",
       "      <th>middle-left-square</th>\n",
       "      <th>middle-middle-square</th>\n",
       "      <th>middle-right-square</th>\n",
       "      <th>bottom-left-square</th>\n",
       "      <th>bottom-middle-square</th>\n",
       "      <th>bottom-right-square</th>\n",
       "      <th>Class</th>\n",
       "    </tr>\n",
       "  </thead>\n",
       "  <tbody>\n",
       "    <tr>\n",
       "      <th>0</th>\n",
       "      <td>x</td>\n",
       "      <td>x</td>\n",
       "      <td>x</td>\n",
       "      <td>x</td>\n",
       "      <td>o</td>\n",
       "      <td>o</td>\n",
       "      <td>x</td>\n",
       "      <td>o</td>\n",
       "      <td>o</td>\n",
       "      <td>positive</td>\n",
       "    </tr>\n",
       "    <tr>\n",
       "      <th>1</th>\n",
       "      <td>x</td>\n",
       "      <td>x</td>\n",
       "      <td>x</td>\n",
       "      <td>x</td>\n",
       "      <td>o</td>\n",
       "      <td>o</td>\n",
       "      <td>o</td>\n",
       "      <td>x</td>\n",
       "      <td>o</td>\n",
       "      <td>positive</td>\n",
       "    </tr>\n",
       "    <tr>\n",
       "      <th>2</th>\n",
       "      <td>x</td>\n",
       "      <td>x</td>\n",
       "      <td>x</td>\n",
       "      <td>x</td>\n",
       "      <td>o</td>\n",
       "      <td>o</td>\n",
       "      <td>o</td>\n",
       "      <td>o</td>\n",
       "      <td>x</td>\n",
       "      <td>positive</td>\n",
       "    </tr>\n",
       "    <tr>\n",
       "      <th>3</th>\n",
       "      <td>x</td>\n",
       "      <td>x</td>\n",
       "      <td>x</td>\n",
       "      <td>x</td>\n",
       "      <td>o</td>\n",
       "      <td>o</td>\n",
       "      <td>o</td>\n",
       "      <td>b</td>\n",
       "      <td>b</td>\n",
       "      <td>positive</td>\n",
       "    </tr>\n",
       "    <tr>\n",
       "      <th>4</th>\n",
       "      <td>x</td>\n",
       "      <td>x</td>\n",
       "      <td>x</td>\n",
       "      <td>x</td>\n",
       "      <td>o</td>\n",
       "      <td>o</td>\n",
       "      <td>b</td>\n",
       "      <td>o</td>\n",
       "      <td>b</td>\n",
       "      <td>positive</td>\n",
       "    </tr>\n",
       "  </tbody>\n",
       "</table>\n",
       "</div>"
      ],
      "text/plain": [
       "  top-left-square top-middle-square top-right-square middle-left-square  \\\n",
       "0               x                 x                x                  x   \n",
       "1               x                 x                x                  x   \n",
       "2               x                 x                x                  x   \n",
       "3               x                 x                x                  x   \n",
       "4               x                 x                x                  x   \n",
       "\n",
       "  middle-middle-square middle-right-square bottom-left-square  \\\n",
       "0                    o                   o                  x   \n",
       "1                    o                   o                  o   \n",
       "2                    o                   o                  o   \n",
       "3                    o                   o                  o   \n",
       "4                    o                   o                  b   \n",
       "\n",
       "  bottom-middle-square bottom-right-square     Class  \n",
       "0                    o                   o  positive  \n",
       "1                    x                   o  positive  \n",
       "2                    o                   x  positive  \n",
       "3                    b                   b  positive  \n",
       "4                    o                   b  positive  "
      ]
     },
     "execution_count": 17,
     "metadata": {},
     "output_type": "execute_result"
    }
   ],
   "source": [
    "df = pd.read_csv('tic-tac-toe.data',header=None, names=col_names)\n",
    "print(\"Intial shape of data:\", df.shape)\n",
    "df.head(5)"
   ]
  },
  {
   "cell_type": "code",
   "execution_count": 18,
   "metadata": {},
   "outputs": [
    {
     "name": "stdout",
     "output_type": "stream",
     "text": [
      "No NaN values in dataset\n"
     ]
    }
   ],
   "source": [
    "# Anyway based on the dataset description, we know there are no missing attribute values\n",
    "checknull(df)"
   ]
  },
  {
   "cell_type": "code",
   "execution_count": 19,
   "metadata": {},
   "outputs": [
    {
     "data": {
      "text/html": [
       "<div>\n",
       "<style scoped>\n",
       "    .dataframe tbody tr th:only-of-type {\n",
       "        vertical-align: middle;\n",
       "    }\n",
       "\n",
       "    .dataframe tbody tr th {\n",
       "        vertical-align: top;\n",
       "    }\n",
       "\n",
       "    .dataframe thead th {\n",
       "        text-align: right;\n",
       "    }\n",
       "</style>\n",
       "<table border=\"1\" class=\"dataframe\">\n",
       "  <thead>\n",
       "    <tr style=\"text-align: right;\">\n",
       "      <th></th>\n",
       "      <th>top-left-square_b</th>\n",
       "      <th>top-left-square_o</th>\n",
       "      <th>top-left-square_x</th>\n",
       "      <th>top-middle-square_b</th>\n",
       "      <th>top-middle-square_o</th>\n",
       "      <th>top-middle-square_x</th>\n",
       "      <th>top-right-square_b</th>\n",
       "      <th>top-right-square_o</th>\n",
       "      <th>top-right-square_x</th>\n",
       "      <th>middle-left-square_b</th>\n",
       "      <th>...</th>\n",
       "      <th>middle-right-square_x</th>\n",
       "      <th>bottom-left-square_b</th>\n",
       "      <th>bottom-left-square_o</th>\n",
       "      <th>bottom-left-square_x</th>\n",
       "      <th>bottom-middle-square_b</th>\n",
       "      <th>bottom-middle-square_o</th>\n",
       "      <th>bottom-middle-square_x</th>\n",
       "      <th>bottom-right-square_b</th>\n",
       "      <th>bottom-right-square_o</th>\n",
       "      <th>bottom-right-square_x</th>\n",
       "    </tr>\n",
       "  </thead>\n",
       "  <tbody>\n",
       "    <tr>\n",
       "      <th>0</th>\n",
       "      <td>0</td>\n",
       "      <td>0</td>\n",
       "      <td>1</td>\n",
       "      <td>0</td>\n",
       "      <td>0</td>\n",
       "      <td>1</td>\n",
       "      <td>0</td>\n",
       "      <td>0</td>\n",
       "      <td>1</td>\n",
       "      <td>0</td>\n",
       "      <td>...</td>\n",
       "      <td>0</td>\n",
       "      <td>0</td>\n",
       "      <td>0</td>\n",
       "      <td>1</td>\n",
       "      <td>0</td>\n",
       "      <td>1</td>\n",
       "      <td>0</td>\n",
       "      <td>0</td>\n",
       "      <td>1</td>\n",
       "      <td>0</td>\n",
       "    </tr>\n",
       "    <tr>\n",
       "      <th>1</th>\n",
       "      <td>0</td>\n",
       "      <td>0</td>\n",
       "      <td>1</td>\n",
       "      <td>0</td>\n",
       "      <td>0</td>\n",
       "      <td>1</td>\n",
       "      <td>0</td>\n",
       "      <td>0</td>\n",
       "      <td>1</td>\n",
       "      <td>0</td>\n",
       "      <td>...</td>\n",
       "      <td>0</td>\n",
       "      <td>0</td>\n",
       "      <td>1</td>\n",
       "      <td>0</td>\n",
       "      <td>0</td>\n",
       "      <td>0</td>\n",
       "      <td>1</td>\n",
       "      <td>0</td>\n",
       "      <td>1</td>\n",
       "      <td>0</td>\n",
       "    </tr>\n",
       "    <tr>\n",
       "      <th>2</th>\n",
       "      <td>0</td>\n",
       "      <td>0</td>\n",
       "      <td>1</td>\n",
       "      <td>0</td>\n",
       "      <td>0</td>\n",
       "      <td>1</td>\n",
       "      <td>0</td>\n",
       "      <td>0</td>\n",
       "      <td>1</td>\n",
       "      <td>0</td>\n",
       "      <td>...</td>\n",
       "      <td>0</td>\n",
       "      <td>0</td>\n",
       "      <td>1</td>\n",
       "      <td>0</td>\n",
       "      <td>0</td>\n",
       "      <td>1</td>\n",
       "      <td>0</td>\n",
       "      <td>0</td>\n",
       "      <td>0</td>\n",
       "      <td>1</td>\n",
       "    </tr>\n",
       "    <tr>\n",
       "      <th>3</th>\n",
       "      <td>0</td>\n",
       "      <td>0</td>\n",
       "      <td>1</td>\n",
       "      <td>0</td>\n",
       "      <td>0</td>\n",
       "      <td>1</td>\n",
       "      <td>0</td>\n",
       "      <td>0</td>\n",
       "      <td>1</td>\n",
       "      <td>0</td>\n",
       "      <td>...</td>\n",
       "      <td>0</td>\n",
       "      <td>0</td>\n",
       "      <td>1</td>\n",
       "      <td>0</td>\n",
       "      <td>1</td>\n",
       "      <td>0</td>\n",
       "      <td>0</td>\n",
       "      <td>1</td>\n",
       "      <td>0</td>\n",
       "      <td>0</td>\n",
       "    </tr>\n",
       "    <tr>\n",
       "      <th>4</th>\n",
       "      <td>0</td>\n",
       "      <td>0</td>\n",
       "      <td>1</td>\n",
       "      <td>0</td>\n",
       "      <td>0</td>\n",
       "      <td>1</td>\n",
       "      <td>0</td>\n",
       "      <td>0</td>\n",
       "      <td>1</td>\n",
       "      <td>0</td>\n",
       "      <td>...</td>\n",
       "      <td>0</td>\n",
       "      <td>1</td>\n",
       "      <td>0</td>\n",
       "      <td>0</td>\n",
       "      <td>0</td>\n",
       "      <td>1</td>\n",
       "      <td>0</td>\n",
       "      <td>1</td>\n",
       "      <td>0</td>\n",
       "      <td>0</td>\n",
       "    </tr>\n",
       "  </tbody>\n",
       "</table>\n",
       "<p>5 rows × 27 columns</p>\n",
       "</div>"
      ],
      "text/plain": [
       "   top-left-square_b  top-left-square_o  top-left-square_x  \\\n",
       "0                  0                  0                  1   \n",
       "1                  0                  0                  1   \n",
       "2                  0                  0                  1   \n",
       "3                  0                  0                  1   \n",
       "4                  0                  0                  1   \n",
       "\n",
       "   top-middle-square_b  top-middle-square_o  top-middle-square_x  \\\n",
       "0                    0                    0                    1   \n",
       "1                    0                    0                    1   \n",
       "2                    0                    0                    1   \n",
       "3                    0                    0                    1   \n",
       "4                    0                    0                    1   \n",
       "\n",
       "   top-right-square_b  top-right-square_o  top-right-square_x  \\\n",
       "0                   0                   0                   1   \n",
       "1                   0                   0                   1   \n",
       "2                   0                   0                   1   \n",
       "3                   0                   0                   1   \n",
       "4                   0                   0                   1   \n",
       "\n",
       "   middle-left-square_b  ...  middle-right-square_x  bottom-left-square_b  \\\n",
       "0                     0  ...                      0                     0   \n",
       "1                     0  ...                      0                     0   \n",
       "2                     0  ...                      0                     0   \n",
       "3                     0  ...                      0                     0   \n",
       "4                     0  ...                      0                     1   \n",
       "\n",
       "   bottom-left-square_o  bottom-left-square_x  bottom-middle-square_b  \\\n",
       "0                     0                     1                       0   \n",
       "1                     1                     0                       0   \n",
       "2                     1                     0                       0   \n",
       "3                     1                     0                       1   \n",
       "4                     0                     0                       0   \n",
       "\n",
       "   bottom-middle-square_o  bottom-middle-square_x  bottom-right-square_b  \\\n",
       "0                       1                       0                      0   \n",
       "1                       0                       1                      0   \n",
       "2                       1                       0                      0   \n",
       "3                       0                       0                      1   \n",
       "4                       1                       0                      1   \n",
       "\n",
       "   bottom-right-square_o  bottom-right-square_x  \n",
       "0                      1                      0  \n",
       "1                      1                      0  \n",
       "2                      0                      1  \n",
       "3                      0                      0  \n",
       "4                      0                      0  \n",
       "\n",
       "[5 rows x 27 columns]"
      ]
     },
     "execution_count": 19,
     "metadata": {},
     "output_type": "execute_result"
    }
   ],
   "source": [
    "# Split now to avoid pd.get_dummies() from encoding target column Y\n",
    "df_x = df.iloc[:,:9]  # Observations\n",
    "df_x = pd.get_dummies(df_x)\n",
    "df_x.head(5)"
   ]
  },
  {
   "cell_type": "code",
   "execution_count": 20,
   "metadata": {},
   "outputs": [
    {
     "data": {
      "text/plain": [
       "0    1\n",
       "1    1\n",
       "2    1\n",
       "3    1\n",
       "4    1\n",
       "Name: Class, dtype: int64"
      ]
     },
     "execution_count": 20,
     "metadata": {},
     "output_type": "execute_result"
    }
   ],
   "source": [
    "df_y = df.iloc[:,-1]  # Target\n",
    "df_y = df_y.apply(lambda x : 1 if x == \"positive\" else 0)\n",
    "df_y.head(5)"
   ]
  },
  {
   "cell_type": "code",
   "execution_count": 24,
   "metadata": {},
   "outputs": [
    {
     "name": "stdout",
     "output_type": "stream",
     "text": [
      "Shape of stratified dataframe: (400, 28)\n"
     ]
    },
    {
     "data": {
      "text/html": [
       "<div>\n",
       "<style scoped>\n",
       "    .dataframe tbody tr th:only-of-type {\n",
       "        vertical-align: middle;\n",
       "    }\n",
       "\n",
       "    .dataframe tbody tr th {\n",
       "        vertical-align: top;\n",
       "    }\n",
       "\n",
       "    .dataframe thead th {\n",
       "        text-align: right;\n",
       "    }\n",
       "</style>\n",
       "<table border=\"1\" class=\"dataframe\">\n",
       "  <thead>\n",
       "    <tr style=\"text-align: right;\">\n",
       "      <th></th>\n",
       "      <th>top-left-square_b</th>\n",
       "      <th>top-left-square_o</th>\n",
       "      <th>top-left-square_x</th>\n",
       "      <th>top-middle-square_b</th>\n",
       "      <th>top-middle-square_o</th>\n",
       "      <th>top-middle-square_x</th>\n",
       "      <th>top-right-square_b</th>\n",
       "      <th>top-right-square_o</th>\n",
       "      <th>top-right-square_x</th>\n",
       "      <th>middle-left-square_b</th>\n",
       "      <th>...</th>\n",
       "      <th>bottom-left-square_b</th>\n",
       "      <th>bottom-left-square_o</th>\n",
       "      <th>bottom-left-square_x</th>\n",
       "      <th>bottom-middle-square_b</th>\n",
       "      <th>bottom-middle-square_o</th>\n",
       "      <th>bottom-middle-square_x</th>\n",
       "      <th>bottom-right-square_b</th>\n",
       "      <th>bottom-right-square_o</th>\n",
       "      <th>bottom-right-square_x</th>\n",
       "      <th>Class</th>\n",
       "    </tr>\n",
       "  </thead>\n",
       "  <tbody>\n",
       "    <tr>\n",
       "      <th>681</th>\n",
       "      <td>0</td>\n",
       "      <td>0</td>\n",
       "      <td>1</td>\n",
       "      <td>0</td>\n",
       "      <td>1</td>\n",
       "      <td>0</td>\n",
       "      <td>0</td>\n",
       "      <td>0</td>\n",
       "      <td>1</td>\n",
       "      <td>0</td>\n",
       "      <td>...</td>\n",
       "      <td>0</td>\n",
       "      <td>0</td>\n",
       "      <td>1</td>\n",
       "      <td>1</td>\n",
       "      <td>0</td>\n",
       "      <td>0</td>\n",
       "      <td>0</td>\n",
       "      <td>0</td>\n",
       "      <td>1</td>\n",
       "      <td>0</td>\n",
       "    </tr>\n",
       "    <tr>\n",
       "      <th>703</th>\n",
       "      <td>0</td>\n",
       "      <td>0</td>\n",
       "      <td>1</td>\n",
       "      <td>0</td>\n",
       "      <td>1</td>\n",
       "      <td>0</td>\n",
       "      <td>1</td>\n",
       "      <td>0</td>\n",
       "      <td>0</td>\n",
       "      <td>1</td>\n",
       "      <td>...</td>\n",
       "      <td>1</td>\n",
       "      <td>0</td>\n",
       "      <td>0</td>\n",
       "      <td>0</td>\n",
       "      <td>1</td>\n",
       "      <td>0</td>\n",
       "      <td>0</td>\n",
       "      <td>0</td>\n",
       "      <td>1</td>\n",
       "      <td>0</td>\n",
       "    </tr>\n",
       "    <tr>\n",
       "      <th>780</th>\n",
       "      <td>0</td>\n",
       "      <td>1</td>\n",
       "      <td>0</td>\n",
       "      <td>0</td>\n",
       "      <td>0</td>\n",
       "      <td>1</td>\n",
       "      <td>0</td>\n",
       "      <td>1</td>\n",
       "      <td>0</td>\n",
       "      <td>0</td>\n",
       "      <td>...</td>\n",
       "      <td>0</td>\n",
       "      <td>1</td>\n",
       "      <td>0</td>\n",
       "      <td>0</td>\n",
       "      <td>0</td>\n",
       "      <td>1</td>\n",
       "      <td>0</td>\n",
       "      <td>0</td>\n",
       "      <td>1</td>\n",
       "      <td>0</td>\n",
       "    </tr>\n",
       "    <tr>\n",
       "      <th>857</th>\n",
       "      <td>0</td>\n",
       "      <td>1</td>\n",
       "      <td>0</td>\n",
       "      <td>1</td>\n",
       "      <td>0</td>\n",
       "      <td>0</td>\n",
       "      <td>0</td>\n",
       "      <td>0</td>\n",
       "      <td>1</td>\n",
       "      <td>0</td>\n",
       "      <td>...</td>\n",
       "      <td>0</td>\n",
       "      <td>1</td>\n",
       "      <td>0</td>\n",
       "      <td>1</td>\n",
       "      <td>0</td>\n",
       "      <td>0</td>\n",
       "      <td>1</td>\n",
       "      <td>0</td>\n",
       "      <td>0</td>\n",
       "      <td>0</td>\n",
       "    </tr>\n",
       "    <tr>\n",
       "      <th>640</th>\n",
       "      <td>0</td>\n",
       "      <td>0</td>\n",
       "      <td>1</td>\n",
       "      <td>0</td>\n",
       "      <td>0</td>\n",
       "      <td>1</td>\n",
       "      <td>0</td>\n",
       "      <td>1</td>\n",
       "      <td>0</td>\n",
       "      <td>0</td>\n",
       "      <td>...</td>\n",
       "      <td>0</td>\n",
       "      <td>0</td>\n",
       "      <td>1</td>\n",
       "      <td>1</td>\n",
       "      <td>0</td>\n",
       "      <td>0</td>\n",
       "      <td>0</td>\n",
       "      <td>1</td>\n",
       "      <td>0</td>\n",
       "      <td>0</td>\n",
       "    </tr>\n",
       "  </tbody>\n",
       "</table>\n",
       "<p>5 rows × 28 columns</p>\n",
       "</div>"
      ],
      "text/plain": [
       "     top-left-square_b  top-left-square_o  top-left-square_x  \\\n",
       "681                  0                  0                  1   \n",
       "703                  0                  0                  1   \n",
       "780                  0                  1                  0   \n",
       "857                  0                  1                  0   \n",
       "640                  0                  0                  1   \n",
       "\n",
       "     top-middle-square_b  top-middle-square_o  top-middle-square_x  \\\n",
       "681                    0                    1                    0   \n",
       "703                    0                    1                    0   \n",
       "780                    0                    0                    1   \n",
       "857                    1                    0                    0   \n",
       "640                    0                    0                    1   \n",
       "\n",
       "     top-right-square_b  top-right-square_o  top-right-square_x  \\\n",
       "681                   0                   0                   1   \n",
       "703                   1                   0                   0   \n",
       "780                   0                   1                   0   \n",
       "857                   0                   0                   1   \n",
       "640                   0                   1                   0   \n",
       "\n",
       "     middle-left-square_b  ...  bottom-left-square_b  bottom-left-square_o  \\\n",
       "681                     0  ...                     0                     0   \n",
       "703                     1  ...                     1                     0   \n",
       "780                     0  ...                     0                     1   \n",
       "857                     0  ...                     0                     1   \n",
       "640                     0  ...                     0                     0   \n",
       "\n",
       "     bottom-left-square_x  bottom-middle-square_b  bottom-middle-square_o  \\\n",
       "681                     1                       1                       0   \n",
       "703                     0                       0                       1   \n",
       "780                     0                       0                       0   \n",
       "857                     0                       1                       0   \n",
       "640                     1                       1                       0   \n",
       "\n",
       "     bottom-middle-square_x  bottom-right-square_b  bottom-right-square_o  \\\n",
       "681                       0                      0                      0   \n",
       "703                       0                      0                      0   \n",
       "780                       1                      0                      0   \n",
       "857                       0                      1                      0   \n",
       "640                       0                      0                      1   \n",
       "\n",
       "     bottom-right-square_x  Class  \n",
       "681                      1      0  \n",
       "703                      1      0  \n",
       "780                      1      0  \n",
       "857                      0      0  \n",
       "640                      0      0  \n",
       "\n",
       "[5 rows x 28 columns]"
      ]
     },
     "execution_count": 24,
     "metadata": {},
     "output_type": "execute_result"
    }
   ],
   "source": [
    "df2 = pd.concat([df_x, df_y], axis=1).reindex(df_x.index)  # Merge back the X and Y dataframes for stratified sampler\n",
    "df3 = stratified_sample_df(df2, 'Class', 200)\n",
    "print(\"Shape of stratified dataframe:\", df3.shape)\n",
    "df3.head(5)"
   ]
  },
  {
   "cell_type": "markdown",
   "metadata": {},
   "source": [
    "We can observe that once the dataframe is stratified, the number of rows dropped from 958 to 400."
   ]
  },
  {
   "cell_type": "code",
   "execution_count": 25,
   "metadata": {},
   "outputs": [],
   "source": [
    "if 'Bias' not in df3.columns:\n",
    "    df3.insert(0, \"Bias\", 1)  # Insert column of \"ones\" to first index column, \"try\" helps with reruns\n",
    "else:\n",
    "    print(\"Bias column already exists\")\n",
    "df3_x = df3.iloc[:, :28]\n",
    "df3_y = df3.iloc[:, -1]"
   ]
  },
  {
   "cell_type": "code",
   "execution_count": 26,
   "metadata": {},
   "outputs": [
    {
     "data": {
      "text/html": [
       "<div>\n",
       "<style scoped>\n",
       "    .dataframe tbody tr th:only-of-type {\n",
       "        vertical-align: middle;\n",
       "    }\n",
       "\n",
       "    .dataframe tbody tr th {\n",
       "        vertical-align: top;\n",
       "    }\n",
       "\n",
       "    .dataframe thead th {\n",
       "        text-align: right;\n",
       "    }\n",
       "</style>\n",
       "<table border=\"1\" class=\"dataframe\">\n",
       "  <thead>\n",
       "    <tr style=\"text-align: right;\">\n",
       "      <th></th>\n",
       "      <th>Bias</th>\n",
       "      <th>top-left-square_b</th>\n",
       "      <th>top-left-square_o</th>\n",
       "      <th>top-left-square_x</th>\n",
       "      <th>top-middle-square_b</th>\n",
       "      <th>top-middle-square_o</th>\n",
       "      <th>top-middle-square_x</th>\n",
       "      <th>top-right-square_b</th>\n",
       "      <th>top-right-square_o</th>\n",
       "      <th>top-right-square_x</th>\n",
       "      <th>...</th>\n",
       "      <th>middle-right-square_x</th>\n",
       "      <th>bottom-left-square_b</th>\n",
       "      <th>bottom-left-square_o</th>\n",
       "      <th>bottom-left-square_x</th>\n",
       "      <th>bottom-middle-square_b</th>\n",
       "      <th>bottom-middle-square_o</th>\n",
       "      <th>bottom-middle-square_x</th>\n",
       "      <th>bottom-right-square_b</th>\n",
       "      <th>bottom-right-square_o</th>\n",
       "      <th>bottom-right-square_x</th>\n",
       "    </tr>\n",
       "  </thead>\n",
       "  <tbody>\n",
       "    <tr>\n",
       "      <th>681</th>\n",
       "      <td>1</td>\n",
       "      <td>0</td>\n",
       "      <td>0</td>\n",
       "      <td>1</td>\n",
       "      <td>0</td>\n",
       "      <td>1</td>\n",
       "      <td>0</td>\n",
       "      <td>0</td>\n",
       "      <td>0</td>\n",
       "      <td>1</td>\n",
       "      <td>...</td>\n",
       "      <td>0</td>\n",
       "      <td>0</td>\n",
       "      <td>0</td>\n",
       "      <td>1</td>\n",
       "      <td>1</td>\n",
       "      <td>0</td>\n",
       "      <td>0</td>\n",
       "      <td>0</td>\n",
       "      <td>0</td>\n",
       "      <td>1</td>\n",
       "    </tr>\n",
       "    <tr>\n",
       "      <th>703</th>\n",
       "      <td>1</td>\n",
       "      <td>0</td>\n",
       "      <td>0</td>\n",
       "      <td>1</td>\n",
       "      <td>0</td>\n",
       "      <td>1</td>\n",
       "      <td>0</td>\n",
       "      <td>1</td>\n",
       "      <td>0</td>\n",
       "      <td>0</td>\n",
       "      <td>...</td>\n",
       "      <td>1</td>\n",
       "      <td>1</td>\n",
       "      <td>0</td>\n",
       "      <td>0</td>\n",
       "      <td>0</td>\n",
       "      <td>1</td>\n",
       "      <td>0</td>\n",
       "      <td>0</td>\n",
       "      <td>0</td>\n",
       "      <td>1</td>\n",
       "    </tr>\n",
       "    <tr>\n",
       "      <th>780</th>\n",
       "      <td>1</td>\n",
       "      <td>0</td>\n",
       "      <td>1</td>\n",
       "      <td>0</td>\n",
       "      <td>0</td>\n",
       "      <td>0</td>\n",
       "      <td>1</td>\n",
       "      <td>0</td>\n",
       "      <td>1</td>\n",
       "      <td>0</td>\n",
       "      <td>...</td>\n",
       "      <td>0</td>\n",
       "      <td>0</td>\n",
       "      <td>1</td>\n",
       "      <td>0</td>\n",
       "      <td>0</td>\n",
       "      <td>0</td>\n",
       "      <td>1</td>\n",
       "      <td>0</td>\n",
       "      <td>0</td>\n",
       "      <td>1</td>\n",
       "    </tr>\n",
       "    <tr>\n",
       "      <th>857</th>\n",
       "      <td>1</td>\n",
       "      <td>0</td>\n",
       "      <td>1</td>\n",
       "      <td>0</td>\n",
       "      <td>1</td>\n",
       "      <td>0</td>\n",
       "      <td>0</td>\n",
       "      <td>0</td>\n",
       "      <td>0</td>\n",
       "      <td>1</td>\n",
       "      <td>...</td>\n",
       "      <td>1</td>\n",
       "      <td>0</td>\n",
       "      <td>1</td>\n",
       "      <td>0</td>\n",
       "      <td>1</td>\n",
       "      <td>0</td>\n",
       "      <td>0</td>\n",
       "      <td>1</td>\n",
       "      <td>0</td>\n",
       "      <td>0</td>\n",
       "    </tr>\n",
       "    <tr>\n",
       "      <th>640</th>\n",
       "      <td>1</td>\n",
       "      <td>0</td>\n",
       "      <td>0</td>\n",
       "      <td>1</td>\n",
       "      <td>0</td>\n",
       "      <td>0</td>\n",
       "      <td>1</td>\n",
       "      <td>0</td>\n",
       "      <td>1</td>\n",
       "      <td>0</td>\n",
       "      <td>...</td>\n",
       "      <td>0</td>\n",
       "      <td>0</td>\n",
       "      <td>0</td>\n",
       "      <td>1</td>\n",
       "      <td>1</td>\n",
       "      <td>0</td>\n",
       "      <td>0</td>\n",
       "      <td>0</td>\n",
       "      <td>1</td>\n",
       "      <td>0</td>\n",
       "    </tr>\n",
       "  </tbody>\n",
       "</table>\n",
       "<p>5 rows × 28 columns</p>\n",
       "</div>"
      ],
      "text/plain": [
       "     Bias  top-left-square_b  top-left-square_o  top-left-square_x  \\\n",
       "681     1                  0                  0                  1   \n",
       "703     1                  0                  0                  1   \n",
       "780     1                  0                  1                  0   \n",
       "857     1                  0                  1                  0   \n",
       "640     1                  0                  0                  1   \n",
       "\n",
       "     top-middle-square_b  top-middle-square_o  top-middle-square_x  \\\n",
       "681                    0                    1                    0   \n",
       "703                    0                    1                    0   \n",
       "780                    0                    0                    1   \n",
       "857                    1                    0                    0   \n",
       "640                    0                    0                    1   \n",
       "\n",
       "     top-right-square_b  top-right-square_o  top-right-square_x  ...  \\\n",
       "681                   0                   0                   1  ...   \n",
       "703                   1                   0                   0  ...   \n",
       "780                   0                   1                   0  ...   \n",
       "857                   0                   0                   1  ...   \n",
       "640                   0                   1                   0  ...   \n",
       "\n",
       "     middle-right-square_x  bottom-left-square_b  bottom-left-square_o  \\\n",
       "681                      0                     0                     0   \n",
       "703                      1                     1                     0   \n",
       "780                      0                     0                     1   \n",
       "857                      1                     0                     1   \n",
       "640                      0                     0                     0   \n",
       "\n",
       "     bottom-left-square_x  bottom-middle-square_b  bottom-middle-square_o  \\\n",
       "681                     1                       1                       0   \n",
       "703                     0                       0                       1   \n",
       "780                     0                       0                       0   \n",
       "857                     0                       1                       0   \n",
       "640                     1                       1                       0   \n",
       "\n",
       "     bottom-middle-square_x  bottom-right-square_b  bottom-right-square_o  \\\n",
       "681                       0                      0                      0   \n",
       "703                       0                      0                      0   \n",
       "780                       1                      0                      0   \n",
       "857                       0                      1                      0   \n",
       "640                       0                      0                      1   \n",
       "\n",
       "     bottom-right-square_x  \n",
       "681                      1  \n",
       "703                      1  \n",
       "780                      1  \n",
       "857                      0  \n",
       "640                      0  \n",
       "\n",
       "[5 rows x 28 columns]"
      ]
     },
     "execution_count": 26,
     "metadata": {},
     "output_type": "execute_result"
    }
   ],
   "source": [
    "df3_x.head(5)"
   ]
  },
  {
   "cell_type": "code",
   "execution_count": 27,
   "metadata": {},
   "outputs": [
    {
     "name": "stdout",
     "output_type": "stream",
     "text": [
      "Shape of x_train: (331, 28) Shape of y_train: (331,)\n",
      "Shape of x_test: (69, 28) Shape of y_test: (69,)\n"
     ]
    }
   ],
   "source": [
    "# Train / test split of 80% / 20%, code from my previous labs\n",
    "mask = np.random.rand(len(df3_x)) < 0.8\n",
    "x_train, y_train = df3_x[mask], df3_y[mask]\n",
    "x_test, y_test = df3_x[~mask], df3_y[~mask]\n",
    "print('Shape of x_train:', x_train.shape, 'Shape of y_train:', y_train.shape)\n",
    "print('Shape of x_test:', x_test.shape, 'Shape of y_test:', y_test.shape)"
   ]
  },
  {
   "cell_type": "markdown",
   "metadata": {},
   "source": [
    "## 2. Logistic Regression with Gradient Ascent"
   ]
  },
  {
   "cell_type": "markdown",
   "metadata": {},
   "source": [
    "Here, the task is to use the above dataset and implement linear classification with **stochastic** gradient ascent algorithm. The algorithm is following the lecture slides [8] <br>\n",
    "\n",
    "<img src=\"https://i.imgur.com/CWCv9jj.jpg\" width=\"45%\" align=\"left\"/>\n",
    "<img src=\"https://i.imgur.com/lGJ2phK.jpg\" width=\"45%\" align=\"left\"/>\n"
   ]
  },
  {
   "cell_type": "markdown",
   "metadata": {},
   "source": [
    "Code also adapted from [9]; for the cost function, and stochastic gradient descent implementation is from my DDA Lab SoSe19. Based on above there should be the condition epsilon, $\\epsilon$ for terminating the loop when the function value starts to diverge, but since we have the maximum iterations of 1000, we can do away with it."
   ]
  },
  {
   "cell_type": "code",
   "execution_count": 28,
   "metadata": {},
   "outputs": [],
   "source": [
    "# Logistic function, which is also sigmoid activation function (value always lies between 0 to 1)\n",
    "def sigmoid(X, beta):\n",
    "    z = np.dot(beta, X.T)\n",
    "    return 1 / (1 + np.exp(-z))"
   ]
  },
  {
   "cell_type": "code",
   "execution_count": 29,
   "metadata": {},
   "outputs": [],
   "source": [
    "def loglikelihood(X, y, beta):\n",
    "    z = np.dot(beta, X.T)\n",
    "    ll = np.sum(y*z - np.log(1 + np.exp(z)))\n",
    "    return ll"
   ]
  },
  {
   "cell_type": "markdown",
   "metadata": {},
   "source": [
    "From [10], logarithmic loss in \"sklearn.metrics.log_loss\" is computed as: $L = -(y_t\\log(y_p) + (1-y_t)\\log(1-y_p)$\n"
   ]
  },
  {
   "cell_type": "code",
   "execution_count": 30,
   "metadata": {},
   "outputs": [],
   "source": [
    "def logloss(y, p):\n",
    "    ls = np.sum(-(y * np.log(p) + (1 - y) * np.log(1 - p)))\n",
    "    return ls"
   ]
  },
  {
   "cell_type": "code",
   "execution_count": 32,
   "metadata": {},
   "outputs": [],
   "source": [
    "# Code adapted from my Lab 3\n",
    "def bolddriver(x, y_hat_old, y_hat_new, alpha, beta): \n",
    "    '''If f(x) value increases, then decrease alpha. And vice versa'''\n",
    "    \n",
    "    ll_old = loglikelihood(x, y_hat_old, beta )\n",
    "    ll_new = loglikelihood(x, y_hat_new, beta)\n",
    "\n",
    "    if (ll_old - ll_new) <= 0:\n",
    "        alpha *= 0.5  \n",
    "    else:\n",
    "        alpha *= 1.1  \n",
    "    return alpha"
   ]
  },
  {
   "cell_type": "code",
   "execution_count": 41,
   "metadata": {},
   "outputs": [],
   "source": [
    "def learn_logreg_ga(xtrain, ytrain, xtest, ytest, iters, alpha, steplength = None):\n",
    "    \n",
    "    xtrain = xtrain.to_numpy()  # Unpack dataframe to numpy arrays\n",
    "    ytrain = ytrain.to_numpy()\n",
    "    ytest = ytest.to_numpy()\n",
    "    xtest = xtest.to_numpy()\n",
    "    \n",
    "    beta = np.zeros(xtrain.shape[1])  # Initialize weights as vector of zeros\n",
    "    \n",
    "    residual, ll_hist, ls_hist, alpha_hist = [], [], [], []\n",
    "        \n",
    "    ll = loglikelihood(xtrain, ytrain, beta)  # Initial loglikelihood on train set\n",
    "    ll_hist.append(ll)\n",
    "    \n",
    "    # Calculate initial y_hat on test set\n",
    "    prev_ytest_hat = sigmoid(xtest, beta)    \n",
    "    ls = logloss(ytest, prev_ytest_hat)\n",
    "    ls_hist.append(ls)\n",
    "    \n",
    "    alpha_hist.append(alpha)\n",
    "                               \n",
    "    # Stochastic implementation updates Betas, after evaluating the cost function after each sample\n",
    "    for i in range(iters):\n",
    "        for k in range(len(xtrain)):\n",
    "            \n",
    "            y_hat = sigmoid(xtrain, beta)\n",
    "            gradient = np.dot(xtrain.T, (ytrain-y_hat))\n",
    "            beta = beta + alpha*gradient  # Adding because of gradient ascent\n",
    "        \n",
    "            ll_new = loglikelihood(xtrain, ytrain, beta)\n",
    "            ll_hist.append(ll_new)\n",
    "        \n",
    "            #f_diff = abs(ll - ll_new)\n",
    "            #residual.append(f_diff)\n",
    "        \n",
    "            try:\n",
    "                # Calculate log-loss on test set\n",
    "                ytest_hat = sigmoid(xtest, beta)\n",
    "                ls = logloss(ytest, ytest_hat)\n",
    "                ls_hist.append(ls)           \n",
    "              \n",
    "                prev_ytest_hat = ytest_hat\n",
    "            \n",
    "                # Calculate residuals on test set\n",
    "                f_diff = np.abs(ls_hist[-1] - ls_hist[-2])\n",
    "                residual.append(f_diff)\n",
    "            \n",
    "            except:\n",
    "                print(\"Function diverged after iteration #\", k)\n",
    "                break  \n",
    "            \n",
    "            # Update learning rate using bold-driver\n",
    "            if steplength == 'Bold_driver':\n",
    "                y_hat_new = sigmoid(xtrain, beta)\n",
    "                alpha = bolddriver(xtrain, y_hat, y_hat_new, alpha, beta)\n",
    "                y_hat = y_hat_new\n",
    "            alpha_hist.append(alpha)\n",
    "        \n",
    "    return beta, residual, ll_hist, ls_hist, alpha_hist    "
   ]
  },
  {
   "cell_type": "code",
   "execution_count": 34,
   "metadata": {},
   "outputs": [],
   "source": [
    "def pred_plot(residual, loglikelihood, logloss, title):\n",
    "    fig = plt.figure(figsize=(15, 5))\n",
    "    fig.suptitle(title, fontsize=20)\n",
    "    \n",
    "    fig.add_subplot(1,3,1)\n",
    "    plt.plot(loglikelihood)\n",
    "    plt.title(\"Loglikelihood on train-set\")\n",
    "    plt.xlabel(\"Iterations\")\n",
    "    plt.ylabel(\"Value\")\n",
    "    \n",
    "    fig.add_subplot(1,3,2)\n",
    "    plt.plot(logloss, color = 'Green')\n",
    "    plt.title(\"Logloss on test-set\")\n",
    "    plt.xlabel(\"Iterations\")\n",
    "    plt.ylabel(\"Value\")\n",
    "    \n",
    "    fig.add_subplot(1,3,3)\n",
    "    plt.plot(residual,  color = 'Red')\n",
    "    plt.title(\"Change in Function Value |f(x) - f(x−1)| on test-set\")\n",
    "    plt.xlabel(\"Iterations\")\n",
    "    plt.ylabel(\"Value\")\n",
    "    plt.show()"
   ]
  },
  {
   "cell_type": "code",
   "execution_count": 78,
   "metadata": {},
   "outputs": [
    {
     "name": "stdout",
     "output_type": "stream",
     "text": [
      "\n",
      "When Learning Rate =  0.01\n"
     ]
    },
    {
     "data": {
      "image/png": "[encoded data removed]",
      "text/plain": [
       "<Figure size 1080x360 with 3 Axes>"
      ]
     },
     "metadata": {
      "needs_background": "light"
     },
     "output_type": "display_data"
    },
    {
     "name": "stdout",
     "output_type": "stream",
     "text": [
      "\n",
      "When Learning Rate =  0.001\n"
     ]
    },
    {
     "data": {
      "image/png": "[encoded data removed]",
      "text/plain": [
       "<Figure size 1080x360 with 3 Axes>"
      ]
     },
     "metadata": {
      "needs_background": "light"
     },
     "output_type": "display_data"
    },
    {
     "name": "stdout",
     "output_type": "stream",
     "text": [
      "\n",
      "When Learning Rate =  0.0001\n"
     ]
    },
    {
     "data": {
      "image/png": "[encoded data removed]",
      "text/plain": [
       "<Figure size 1080x360 with 3 Axes>"
      ]
     },
     "metadata": {
      "needs_background": "light"
     },
     "output_type": "display_data"
    }
   ],
   "source": [
    "iters = 3\n",
    "alpha = [0.01, 0.001, 0.0001]\n",
    "for i in range(len(alpha)):\n",
    "    print(\"\\nWhen Learning Rate = \", alpha[i])\n",
    "    beta, residual, loglikelihood_hist, logloss_hist, alpha_hist = learn_logreg_ga(x_train, y_train, \n",
    "                                                                                                  x_test, y_test, iters, \n",
    "                                                                                                  alpha[i])\n",
    "    pred_plot(residual,loglikelihood_hist,logloss_hist, \"Without Bold-driver steplength controller\")"
   ]
  },
  {
   "cell_type": "markdown",
   "metadata": {},
   "source": [
    "Since the upper limit given is 1000 iterations, we just need to run the algorithm for 3 epochs, roughly 1000 iterations.\n",
    "\n",
    "\n",
    "Without using a bold-driver steplength controller, we can observe the following:\n",
    "1. Loglikelihood is increasing as expected, as the function is being maximised through gradient ascent. The intial drop is due to the eventual convergence, and initial calculation on train set.\n",
    "2. Similarly, logloss decreases gradually - barring the initial spike due to the intial calculation on test set. By iteration 300, the loss is beginning to plateau.\n",
    "3. The residual error, or change in function value is quite erratic intially due to calculation on logloss and sigmoid function, but it settles by iteration 150.\n",
    "\n",
    "Using 3 examples of learning rate, we can see the effect of it on the loglikelihood and logloss. A learning rate of 0.01 is too high initially, however it does eventually converge, taking longer. A learning rate of 0.001 and 0.0001 is better (and more or less equivalent), \n"
   ]
  },
  {
   "cell_type": "code",
   "execution_count": 69,
   "metadata": {},
   "outputs": [],
   "source": [
    "iters = 1\n",
    "alpha = 0.01\n",
    "beta, residual, loglikelihood_hist, logloss_hist, alpha_hist = learn_logreg_ga(x_train, y_train, x_test, y_test, \n",
    "                                                                               iters, alpha, steplength='Bold_driver')"
   ]
  },
  {
   "cell_type": "code",
   "execution_count": 70,
   "metadata": {},
   "outputs": [
    {
     "data": {
      "image/png": "[encoded data removed]",
      "text/plain": [
       "<Figure size 1080x360 with 3 Axes>"
      ]
     },
     "metadata": {
      "needs_background": "light"
     },
     "output_type": "display_data"
    }
   ],
   "source": [
    "pred_plot(residual,loglikelihood_hist,logloss_hist, \"With Bold-driver steplength controller\")"
   ]
  },
  {
   "cell_type": "markdown",
   "metadata": {},
   "source": [
    "We can immediately see that using bold-driver leads to convergence in <10 iterations and we only need one epoch across the entire training set, after which the learning rate becomes very small. The final logloss value is somewhere around 50.\n",
    "\n",
    "Also, we saw that without any step-control, the \"change in function value graph\" moves erratically when it reaches a local minima. The loss function is much smoother with step-control, since the learning rate deceases as the function converges to its local minima.\n",
    "\n",
    "We can plot the change in the learning rate to see how the bold-driver update works. The final value is extremely small, and it reaches this value in <10 iterations too."
   ]
  },
  {
   "cell_type": "code",
   "execution_count": 71,
   "metadata": {},
   "outputs": [
    {
     "data": {
      "image/png": "[encoded data removed]",
      "text/plain": [
       "<Figure size 432x288 with 1 Axes>"
      ]
     },
     "metadata": {
      "needs_background": "light"
     },
     "output_type": "display_data"
    },
    {
     "name": "stdout",
     "output_type": "stream",
     "text": [
      "Final value of alpha: 2.28597478256455e-102\n"
     ]
    }
   ],
   "source": [
    "# Plot alpha values to see how bold-driver update works\n",
    "plt.plot(alpha_hist)\n",
    "plt.title(\"Change in Learning Rate\")\n",
    "plt.xlabel(\"Iterations\")\n",
    "plt.xlabel(\"Alpha value\")\n",
    "plt.show()\n",
    "\n",
    "print(\"Final value of alpha:\", alpha_hist[-1])"
   ]
  },
  {
   "cell_type": "markdown",
   "metadata": {},
   "source": [
    "The learning rate, $\\alpha$ in this case was set to 0.01 anyway I didn't experiment with different learning rates because we can let the bolddriver algorithm optimize it. The plot above shows how the learning rate adjusts eventually, leading to a faster convergence in less iterations."
   ]
  },
  {
   "cell_type": "markdown",
   "metadata": {},
   "source": [
    "## Exercise 2: Implement Newton Algorithm"
   ]
  },
  {
   "cell_type": "markdown",
   "metadata": {},
   "source": [
    "Using the same dataset, we implement linear classification with Newton Method algorithm. The algorithm is following the lecture slides [8] <br>\n",
    "\n",
    "<img src=\"https://i.imgur.com/R3gg9YO.jpg\" width=\"45%\" align=\"left\"/>\n",
    "<img src=\"https://i.imgur.com/zYUA93U.jpg\" width=\"45%\" align=\"left\"/>"
   ]
  },
  {
   "cell_type": "markdown",
   "metadata": {},
   "source": [
    "The code is also adapted from [11]. Based on above there should be the condition epsilon, $\\epsilon$ for terminating the loop when the function value starts to diverge, but since we have the maximum iterations of 1000, we can do away with it."
   ]
  },
  {
   "cell_type": "markdown",
   "metadata": {},
   "source": [
    "For Logistic Regression, the Hessian is given by: $Hf(\\beta) = -X^TWX$, and the gradient is: $\\nabla f(\\beta) = X^T(y-p)$; where $W := \\text{diag}\\left(p(1-p)\\right)$ and $p$ are the predicted probabilites computed at the current value of $\\beta$."
   ]
  },
  {
   "cell_type": "code",
   "execution_count": 303,
   "metadata": {},
   "outputs": [],
   "source": [
    "def minimize_newton(gradient, H, beta, mu, iters):\n",
    "    for i in range(iters):\n",
    "        beta = beta - mu * np.dot(np.linalg.inv(H), gradient)\n",
    "    return beta"
   ]
  },
  {
   "cell_type": "code",
   "execution_count": 304,
   "metadata": {},
   "outputs": [],
   "source": [
    "def learn_logreg_newton(xtrain, ytrain, xtest, ytest, iters, alpha):\n",
    "    \n",
    "    xtrain = xtrain.to_numpy()  # Unpack dataframe to numpy arrays\n",
    "    ytrain = ytrain.to_numpy()\n",
    "    ytest = ytest.to_numpy()\n",
    "    xtest = xtest.to_numpy()\n",
    "    \n",
    "    beta = np.zeros(xtrain.shape[1])  # Initialize weights as vector of zeros\n",
    "    \n",
    "    y_hat = sigmoid(xtrain, beta)\n",
    "    \n",
    "    residual, ls_hist = [], []\n",
    "    \n",
    "    # Calculate initial y_hat on test set\n",
    "    prev_ytest_hat = sigmoid(xtest, beta)    \n",
    "    ls = logloss(ytest, prev_ytest_hat)\n",
    "    ls_hist.append(ls)\n",
    "    \n",
    "    for i in range(iters):\n",
    "        gradient = np.dot(xtrain.T, (ytrain-y_hat))\n",
    "        W = np.diag(y_hat * (1-y_hat))\n",
    "        H = -np.dot(xtrain.T, np.dot(W, xtrain))\n",
    "        beta = minimize_newton(gradient, H, beta, alpha, iters)\n",
    "        \n",
    "        try:\n",
    "            # Calculate log-loss on test set\n",
    "            ytest_hat = sigmoid(xtest, beta)\n",
    "            ls = logloss(ytest, ytest_hat)\n",
    "            ls_hist.append(ls)           \n",
    "              \n",
    "            prev_ytest_hat = ytest_hat\n",
    "            \n",
    "            # Calculate residuals on test set\n",
    "            f_diff = np.abs(ls_hist[-1] - ls_hist[-2])\n",
    "            residual.append(f_diff)\n",
    "            \n",
    "        except:\n",
    "            print(\"Function diverged after iteration #\", i)\n",
    "            break \n",
    "            \n",
    "    return beta, residual, ls_hist\n"
   ]
  },
  {
   "cell_type": "code",
   "execution_count": 322,
   "metadata": {},
   "outputs": [],
   "source": [
    "iters = 100\n",
    "alpha = 0.1\n",
    "newbeta = learn_logreg_newton(x_train,y_train,x_test,y_test,iters,alpha)"
   ]
  },
  {
   "cell_type": "code",
   "execution_count": 316,
   "metadata": {},
   "outputs": [],
   "source": [
    "def pred_plot2(residual, logloss, title):\n",
    "    fig = plt.figure(figsize=(15, 5))\n",
    "    fig.suptitle(title, fontsize=20)\n",
    "    \n",
    "    fig.add_subplot(1,2,1)\n",
    "    plt.plot(logloss)\n",
    "    plt.title(\"Logloss on test-set\")\n",
    "    plt.xlabel(\"Iterations\")\n",
    "    plt.ylabel(\"Value\")\n",
    "    \n",
    "    fig.add_subplot(1,2,2)\n",
    "    plt.plot(residual,  color = 'Orange')\n",
    "    plt.title(\"Change in Function Value |f(x) - f(x−1)| on test-set\")\n",
    "    plt.xlabel(\"Iterations\")\n",
    "    plt.ylabel(\"Value\")\n",
    "    plt.show()"
   ]
  },
  {
   "cell_type": "code",
   "execution_count": 317,
   "metadata": {},
   "outputs": [
    {
     "data": {
      "image/png": "[encoded data removed]",
      "text/plain": [
       "<Figure size 1080x360 with 2 Axes>"
      ]
     },
     "metadata": {
      "needs_background": "light"
     },
     "output_type": "display_data"
    }
   ],
   "source": [
    "pred_plot2(residual, logloss_hist, \"Newton's Method\")"
   ]
  },
  {
   "cell_type": "markdown",
   "metadata": {},
   "source": [
    "As observed, using Newton's Method, the model converges in very few number of iterations (<10 in this case), and achieves a high test accuracy quickly. It also outperforms the bold-driver function. Typically, Newton's method enjoys faster convergence than batch gradient descent, but calculating and inverting the Hessian is computationally expensive. As of now the dataset is smaller and the matrix dimensions are also smaller, but for larger data we would see the cost to the performance."
   ]
  },
  {
   "cell_type": "markdown",
   "metadata": {},
   "source": [
    "## References\n",
    "\n",
    "[1] https://archive.ics.uci.edu/ml/datasets/Tic-Tac-Toe+Endgame <br>\n",
    "[2] https://www.kdnuggets.com/2017/09/neural-networks-tic-tac-toe-keras.html <br>\n",
    "[3] https://stackoverflow.com/questions/41681693/pandas-isnull-sum-with-column-headers <br>\n",
    "[4] https://www.geeksforgeeks.org/ml-dummy-variable-trap-in-regression-models/ <br>\n",
    "[5] https://campus.datacamp.com/courses/preprocessing-for-machine-learning-in-python/introduction-to-data-preprocessing?ex=9 <br>\n",
    "[6] https://datascience.stackexchange.com/questions/24392/why-we-need-to-handle-data-imbalance <br>\n",
    "[7] https://stackoverflow.com/questions/44114463/stratified-sampling-in-pandas <br>\n",
    "[8] https://www.ismll.uni-hildesheim.de/lehre/ml-19w/script/ml-03-A2-linear-classification <br>\n",
    "[9] https://towardsdatascience.com/building-a-logistic-regression-in-python-301d27367c24 <br>\n",
    "[10] https://scikit-learn.org/stable/modules/generated/sklearn.metrics.log_loss.html<br>\n",
    "[11] https://github.com/jrios6/Math-of-Intelligence/tree/master/2-Second_Order_Optimization <br>"
   ]
  }
 ],
 "metadata": {
  "kernelspec": {
   "display_name": "Python 3",
   "language": "python",
   "name": "python3"
  },
  "language_info": {
   "codemirror_mode": {
    "name": "ipython",
    "version": 3
   },
   "file_extension": ".py",
   "mimetype": "text/x-python",
   "name": "python",
   "nbconvert_exporter": "python",
   "pygments_lexer": "ipython3",
   "version": "3.7.3"
  }
 },
 "nbformat": 4,
 "nbformat_minor": 2
}

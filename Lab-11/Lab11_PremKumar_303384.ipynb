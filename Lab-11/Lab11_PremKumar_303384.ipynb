{
 "cells": [
  {
   "cell_type": "markdown",
   "metadata": {},
   "source": [
    "# 3115 - Lab Programming Machine Learning\n",
    "\n",
    "## Lab Exercise 11\n",
    "\n",
    "## Yuvaraj Prem Kumar, 303384"
   ]
  },
  {
   "cell_type": "code",
   "execution_count": 1,
   "metadata": {},
   "outputs": [],
   "source": [
    "import numpy as np\n",
    "import pandas as pd\n",
    "import matplotlib.pyplot as plt\n",
    "from collections import Counter\n",
    "import operator\n",
    "import os\n",
    "%matplotlib inline\n",
    "\n",
    "plt.style.use('ggplot')"
   ]
  },
  {
   "cell_type": "code",
   "execution_count": 2,
   "metadata": {},
   "outputs": [],
   "source": [
    "from sklearn.datasets import load_svmlight_file, dump_svmlight_file\n",
    "from sklearn.feature_extraction.text import TfidfVectorizer\n",
    "from sklearn.preprocessing import Normalizer\n",
    "from sklearn.decomposition import TruncatedSVD\n",
    "from sklearn.pipeline import make_pipeline\n",
    "from copy import deepcopy\n",
    "from random import randint\n",
    "from scipy import sparse\n",
    "from sklearn.metrics import accuracy_score\n",
    "import time\n",
    "import warnings\n",
    "warnings.filterwarnings(\"ignore\", message=\"Changing the sparsity structure\")"
   ]
  },
  {
   "cell_type": "markdown",
   "metadata": {},
   "source": [
    "## Part 1: Implement K-Means Clustering Algorithm"
   ]
  },
  {
   "cell_type": "markdown",
   "metadata": {},
   "source": [
    "From [3, 4], K-Means is one of the most popular \"clustering\" algorithms. It is an unsupervised machine learning algorithm, with no pre-determined labels defined. Meaning that we don’t have any target variable as in the case of supervised learning K-means stores *k* centroids that it uses to define clusters. A point is considered to be in a particular cluster if it is closer to that cluster's centroid than any other centroid. K-Means finds the best centroids by alternating between (1) assigning data points to clusters based on the current centroids (2) chosing centroids (points which are the center of a cluster) based on the current assignment of data points to clusters.\n",
    "\n"
   ]
  },
  {
   "cell_type": "markdown",
   "metadata": {},
   "source": [
    "The algorithm:\n",
    "<img src=\"https://i.imgur.com/ZptQeCD.jpg\" width=\"45%\"/>\n",
    "\n",
    "The objective here is to return *P*, the partition (clustering). We compute a distortion measure $D_P$, whih measures how bad a partition $P\\in Part(X)$ for a data set $X \\subseteq X$ is.\n",
    "<img src=\"https://i.imgur.com/EkRyif3.jpg\" width=\"45%\"/>\n"
   ]
  },
  {
   "cell_type": "markdown",
   "metadata": {},
   "source": [
    "1. Randomly initialize K centroids. \n",
    "2. Assign each datapoint to its nearest centroid (using Euclidean distance)\n",
    "3. Recomputed centroids by taking mean of all datapoints assigned that that centroid's cluster.\n",
    "4. Iterate until stopping criteria met (no datapoints change clusters)"
   ]
  },
  {
   "cell_type": "markdown",
   "metadata": {},
   "source": [
    "**Choosing optimal value of K**\n",
    "\n",
    "An accurate estimate can be obtained using the Elbow Method plot. We run the algorithm for a range of K (1 to 5) and plot the K values against SSE (Sum of Squared Errors). We select the value of K that causes sudden drop in the sum of squared distances, i.e., the so-called \"elbow point\" in the plot."
   ]
  },
  {
   "cell_type": "markdown",
   "metadata": {},
   "source": [
    "### Iris Dataset exploration"
   ]
  },
  {
   "cell_type": "markdown",
   "metadata": {},
   "source": [
    "From [1], we have four attributes - sepal length, sepal width, petal length, and petal width - that defines if the flower belongs to one of the three particular classes:\n",
    "* Iris Setosa\n",
    "* Iris Versicolour\n",
    "* Iris Virginica\n",
    "\n",
    "Based on the dataset description, the following are noted:\n",
    "1. Number of Instances: 150 (50 in each of three classes)\n",
    "2. Number of Attributes: 4 numeric, predictive attributes and the class\n",
    "3. Missing Attribute Values: None\n",
    "4. Class Distribution: 33.3% for each of 3 classes\n",
    "\n",
    "However different from Lab 7, now the dataset source is from [2], which is in the Libsvm format. Each attribute is linearly scale to [-1,1] or [0,1]. Similar to Lab 9, we can use sklearn's *load_svmlight_file* to read the sparse matrix."
   ]
  },
  {
   "cell_type": "code",
   "execution_count": 3,
   "metadata": {},
   "outputs": [
    {
     "data": {
      "text/plain": [
       "(<150x4 sparse matrix of type '<class 'numpy.float64'>'\n",
       " \twith 587 stored elements in Compressed Sparse Row format>,\n",
       " array([1., 1., 1., 1., 1., 1., 1., 1., 1., 1., 1., 1., 1., 1., 1., 1., 1.,\n",
       "        1., 1., 1., 1., 1., 1., 1., 1., 1., 1., 1., 1., 1., 1., 1., 1., 1.,\n",
       "        1., 1., 1., 1., 1., 1., 1., 1., 1., 1., 1., 1., 1., 1., 1., 1., 2.,\n",
       "        2., 2., 2., 2., 2., 2., 2., 2., 2., 2., 2., 2., 2., 2., 2., 2., 2.,\n",
       "        2., 2., 2., 2., 2., 2., 2., 2., 2., 2., 2., 2., 2., 2., 2., 2., 2.,\n",
       "        2., 2., 2., 2., 2., 2., 2., 2., 2., 2., 2., 2., 2., 2., 2., 3., 3.,\n",
       "        3., 3., 3., 3., 3., 3., 3., 3., 3., 3., 3., 3., 3., 3., 3., 3., 3.,\n",
       "        3., 3., 3., 3., 3., 3., 3., 3., 3., 3., 3., 3., 3., 3., 3., 3., 3.,\n",
       "        3., 3., 3., 3., 3., 3., 3., 3., 3., 3., 3., 3., 3., 3.]))"
      ]
     },
     "execution_count": 3,
     "metadata": {},
     "output_type": "execute_result"
    }
   ],
   "source": [
    "iris = load_svmlight_file(\"iris.scale\")\n",
    "iris"
   ]
  },
  {
   "cell_type": "markdown",
   "metadata": {},
   "source": [
    "We have the following helper functions:\n",
    "\n",
    "**Distance measure**\n",
    "\n",
    "Similar to Lab 7, for the distance measure we are using the **Euclidean Distance**, which is also the L2 distance:\n",
    "\n",
    "\\begin{equation*}\n",
    "d(x,x') = \\sqrt{{(x_1-x'_2)}^2 +...+ {(x_n-x'_n)}^2}\n",
    "\\end{equation*}\n",
    "\n",
    "Since the X matrix is a sparse matrix (spicy csr_matrix) we can use built-in \"multiply\" function as normal numpy functions will not work [8].\n",
    "\n",
    "**Cluster distance**\n",
    "\n",
    "This is just the distance of any point from the current cluster assigned\n",
    "\n",
    "**Get labels**\n",
    "\n",
    "Returns a label for each piece of data in the dataset. For each element in the dataset, chose the closest centroid. Make that centroid the element's label\n",
    "\n",
    "**Distortion / Sum of square errors**\n",
    "\n",
    "As above, minimize total intra-cluster variance, or, the squared error function (distortion).\n",
    "\n",
    "In addition, the main references are from [3,4,6]."
   ]
  },
  {
   "cell_type": "code",
   "execution_count": 4,
   "metadata": {},
   "outputs": [],
   "source": [
    "def euclidean_distance(x1, x2):\n",
    "    eucl_dist = np.sqrt(np.sum((x1-x2).multiply((x1-x2))))\n",
    "    return eucl_dist\n",
    "\n",
    "\n",
    "def cluster_distance(X, centroid):\n",
    "    m = X.shape[0]\n",
    "    cluster = np.zeros(m)\n",
    "    for i in range(m):\n",
    "        cluster[i] = euclidean_distance(X[i],centroid)\n",
    "    return cluster\n",
    "\n",
    "\n",
    "def get_labels(new_clusters, target):\n",
    "    cluster_label = {}\n",
    "    for index, value in new_clusters.items():\n",
    "        cluster_label[index] = np.round(np.sum(target[value])/len(target[value]), 0)\n",
    "    return cluster_label\n",
    "\n",
    "\n",
    "def distortion(X, clusters, centroid_new, k):\n",
    "    sse = 0\n",
    "    for i in range(k):\n",
    "        sse += np.sum(cluster_distance(X[clusters[i]], centroid_new[i])) / X.shape[0]\n",
    "    return sse"
   ]
  },
  {
   "cell_type": "code",
   "execution_count": 5,
   "metadata": {},
   "outputs": [],
   "source": [
    "def cluster_kmeans(X, y, k):\n",
    "    \"\"\"\n",
    "    K-means algorithm\n",
    "    Initialize random centroids, compare between old and new centroids in each iteration.\n",
    "    Output final centriods, class label, final cluster arrangement\n",
    "    \n",
    "    \"\"\"\n",
    "    m, n = X.shape\n",
    "    centroid_old = np.zeros((k, n))  # Array to store old centroids\n",
    "    centroid_new = X[list(randint(0, m) for i in range(k))] \n",
    "    clusters = np.zeros(m)\n",
    "    dist = np.zeros((m, k)) # Distance matrix\n",
    "       \n",
    "    new_clusters, old_clusters = {}, {}\n",
    "    flag = True\n",
    "    while old_clusters != new_clusters or flag:\n",
    "        flag = False\n",
    "        for i in range(k):\n",
    "            dist[:, i] = cluster_distance(X, centroid_new[i]) \n",
    "        clusters = np.array(np.argmin(dist, axis = 1))  # Smallest distance\n",
    "        old_clusters = deepcopy(new_clusters)\n",
    "        \n",
    "        for i in range(k):\n",
    "            new_clusters[i] = list(np.argwhere(clusters == i).flatten())\n",
    "            centroid_new[i] = np.array(X[new_clusters[i]].mean(axis=0))\n",
    "    cluster_label = get_labels(new_clusters, y)\n",
    "    \n",
    "    return centroid_new,cluster_label,new_clusters"
   ]
  },
  {
   "cell_type": "code",
   "execution_count": 6,
   "metadata": {},
   "outputs": [],
   "source": [
    "distortion_measure = {}\n",
    "X = iris[0]\n",
    "y = iris[1]\n",
    "for k in range(1, 6):\n",
    "    centroids, cluster_label, clusters = cluster_kmeans(X, y, k)\n",
    "    distortion_measure[k] = (distortion(X, clusters, centroids, k))"
   ]
  },
  {
   "cell_type": "code",
   "execution_count": 7,
   "metadata": {},
   "outputs": [
    {
     "data": {
      "image/png": "[encoded data removed]",
      "text/plain": [
       "<Figure size 576x360 with 1 Axes>"
      ]
     },
     "metadata": {},
     "output_type": "display_data"
    }
   ],
   "source": [
    "plt.figure(figsize=(8, 5))\n",
    "plt.plot(list(distortion_measure.keys()), list(distortion_measure.values()), '-o')\n",
    "plt.xticks(range(1, 6))\n",
    "plt.title(\"Elbow plot for K\")\n",
    "plt.xlabel(\"K\")\n",
    "plt.ylabel(\"Distortion\")\n",
    "plt.show()"
   ]
  },
  {
   "cell_type": "markdown",
   "metadata": {},
   "source": [
    "Based on the elbow plot, we can identify *K* = 3 as the optimal value. Of course we already know it should be 3, as the Iris dataset has 3 types of flowers. Anyway the SSE / distortion measure confirms this class separation of clusters. Now we can use this optimal value ok *K*, to predict class labels and get the final centroids and cluster arrangement."
   ]
  },
  {
   "cell_type": "code",
   "execution_count": 8,
   "metadata": {},
   "outputs": [],
   "source": [
    "class_labels = {1:'Iris-setosa', 2:'Iris-versicolor', 3:'Iris-virginica'}\n",
    "\n",
    "def predict(X, centroids, clusters, target):\n",
    "    pred_label = []\n",
    "    for row in X:\n",
    "        pred_label.append(clusters[np.argmin([cluster_distance(row,sparse.csr_matrix(center)) for center in centroids])])\n",
    "    return pred_label"
   ]
  },
  {
   "cell_type": "code",
   "execution_count": 9,
   "metadata": {},
   "outputs": [
    {
     "name": "stdout",
     "output_type": "stream",
     "text": [
      "Final centroids array:\n",
      " [[-0.17592596 -0.44618056  0.11793781  0.04166668]\n",
      " [ 0.33546999 -0.11378209  0.5143415   0.56410263]\n",
      " [-0.60777778  0.18166667 -0.84271174 -0.88000014]]\n",
      "\n",
      "Final distortion: 0.3932\n",
      "\n",
      "Accuracy of predicted class labels: 88.0 %\n",
      "\n",
      "Program execution time: 1.73132 seconds\n"
     ]
    }
   ],
   "source": [
    "k = 3\n",
    "start_time = time.time()\n",
    "centroids, cluster_label, clusters = cluster_kmeans(X, y, k)\n",
    "print(\"Final centroids array:\\n\", centroids.toarray())\n",
    "                                                                                                  \n",
    "sse = distortion(X, clusters, centroids, k)\n",
    "print(\"\\nFinal distortion:\", np.round(sse, 4))\n",
    "\n",
    "predicted_class  = predict(X, centroids, cluster_label, class_labels)\n",
    "accuracy = accuracy_score(y, predicted_class)\n",
    "print(\"\\nAccuracy of predicted class labels:\",np.round(accuracy, 2)*100,'%')\n",
    "\n",
    "print(\"\\nProgram execution time: %s seconds\" % (np.round(time.time() - start_time, 5)))"
   ]
  },
  {
   "cell_type": "markdown",
   "metadata": {},
   "source": [
    "We achieved an accuracy of 89% using the custom K-Means implementation, which is quite good considering the nature of the dataset, as K-means works best for spherical datasets. We can plot the clusters from the sparse matrix, and recreate the orignal dataset using the discovered cluster arrangements."
   ]
  },
  {
   "cell_type": "code",
   "execution_count": 10,
   "metadata": {},
   "outputs": [
    {
     "data": {
      "text/html": [
       "<div>\n",
       "<style scoped>\n",
       "    .dataframe tbody tr th:only-of-type {\n",
       "        vertical-align: middle;\n",
       "    }\n",
       "\n",
       "    .dataframe tbody tr th {\n",
       "        vertical-align: top;\n",
       "    }\n",
       "\n",
       "    .dataframe thead th {\n",
       "        text-align: right;\n",
       "    }\n",
       "</style>\n",
       "<table border=\"1\" class=\"dataframe\">\n",
       "  <thead>\n",
       "    <tr style=\"text-align: right;\">\n",
       "      <th></th>\n",
       "      <th>sepal_length</th>\n",
       "      <th>sepal_width</th>\n",
       "      <th>petal_length</th>\n",
       "      <th>petal_width</th>\n",
       "      <th>class</th>\n",
       "    </tr>\n",
       "  </thead>\n",
       "  <tbody>\n",
       "    <tr>\n",
       "      <th>0</th>\n",
       "      <td>-0.555556</td>\n",
       "      <td>0.250000</td>\n",
       "      <td>-0.864407</td>\n",
       "      <td>-0.916667</td>\n",
       "      <td>Iris-setosa</td>\n",
       "    </tr>\n",
       "    <tr>\n",
       "      <th>1</th>\n",
       "      <td>-0.666667</td>\n",
       "      <td>-0.166667</td>\n",
       "      <td>-0.864407</td>\n",
       "      <td>-0.916667</td>\n",
       "      <td>Iris-setosa</td>\n",
       "    </tr>\n",
       "    <tr>\n",
       "      <th>2</th>\n",
       "      <td>-0.777778</td>\n",
       "      <td>0.000000</td>\n",
       "      <td>-0.898305</td>\n",
       "      <td>-0.916667</td>\n",
       "      <td>Iris-setosa</td>\n",
       "    </tr>\n",
       "    <tr>\n",
       "      <th>3</th>\n",
       "      <td>-0.833333</td>\n",
       "      <td>-0.083333</td>\n",
       "      <td>-0.830508</td>\n",
       "      <td>-0.916667</td>\n",
       "      <td>Iris-setosa</td>\n",
       "    </tr>\n",
       "    <tr>\n",
       "      <th>4</th>\n",
       "      <td>-0.611111</td>\n",
       "      <td>0.333333</td>\n",
       "      <td>-0.864407</td>\n",
       "      <td>-0.916667</td>\n",
       "      <td>Iris-setosa</td>\n",
       "    </tr>\n",
       "  </tbody>\n",
       "</table>\n",
       "</div>"
      ],
      "text/plain": [
       "   sepal_length  sepal_width  petal_length  petal_width        class\n",
       "0     -0.555556     0.250000     -0.864407    -0.916667  Iris-setosa\n",
       "1     -0.666667    -0.166667     -0.864407    -0.916667  Iris-setosa\n",
       "2     -0.777778     0.000000     -0.898305    -0.916667  Iris-setosa\n",
       "3     -0.833333    -0.083333     -0.830508    -0.916667  Iris-setosa\n",
       "4     -0.611111     0.333333     -0.864407    -0.916667  Iris-setosa"
      ]
     },
     "execution_count": 10,
     "metadata": {},
     "output_type": "execute_result"
    }
   ],
   "source": [
    "dataset = X.toarray()\n",
    "iris_df = pd.DataFrame({'sepal_length': dataset[:, 0], 'sepal_width': dataset[:, 1], \n",
    "                        'petal_length': dataset[:, 2], 'petal_width': dataset[:, 3],})\n",
    "df2 = pd.DataFrame(predicted_class)\n",
    "iris_df['class']= df2[0]\n",
    "iris_df = iris_df.replace({'class': {1.0: 'Iris-setosa', 2.0: 'Iris-versicolor', 3.0: 'Iris-virginica'}})\n",
    "iris_df.head()"
   ]
  },
  {
   "cell_type": "code",
   "execution_count": 11,
   "metadata": {},
   "outputs": [
    {
     "data": {
      "image/png": "[encoded data removed]",
      "text/plain": [
       "<Figure size 1080x432 with 2 Axes>"
      ]
     },
     "metadata": {},
     "output_type": "display_data"
    }
   ],
   "source": [
    "# This is copied directly from my Lab 7 submission, fitted to this sparse dataset.\n",
    "\n",
    "iris_class = ['1','2','3']\n",
    "colors = ['blue','red','green']\n",
    "labels = iris_df['class'].unique()\n",
    "\n",
    "centers = centroids.toarray()  # Getting cluster centers from the centroids scipy matrix\n",
    "\n",
    "for k in range(len(labels)):\n",
    "    iris_class[k] = iris_df[iris_df['class'] == labels[k]]\n",
    "\n",
    "fig, ax = plt.subplots(1, 2, figsize=(15, 6))\n",
    "fig.suptitle('Clustering on Iris Data with K-Means = 3', fontsize=20)\n",
    "for i in range(len(iris_class)):\n",
    "    ax[0].scatter(iris_class[i].sepal_length, iris_class[i].sepal_width, c=colors[i], label = labels[i])\n",
    "    ax[0].scatter(centers[:,0], centers[:,1], marker='*', c='purple', s=250)\n",
    "    ax[0].set_title(\"Sepal Length vs Sepal Width\")\n",
    "    ax[0].set_xlabel('Sepal Length')\n",
    "    ax[0].set_ylabel('Sepal Width')\n",
    "    ax[0].legend()\n",
    "    \n",
    "    ax[1].scatter(iris_class[i].petal_length, iris_class[i].petal_width, c=colors[i], label = labels[i])\n",
    "    ax[1].scatter(centers[:,2], centers[:,3], marker='*', c='purple', s=250)\n",
    "    ax[1].set_title(\"Petal Length vs Petal Width\")\n",
    "    ax[1].set_xlabel('Petal Length')\n",
    "    ax[1].set_ylabel('Petal Width')\n",
    "    ax[1].legend()\n",
    "plt.show()"
   ]
  },
  {
   "cell_type": "markdown",
   "metadata": {},
   "source": [
    "Based on the clusters plot (purple star are the final centroids), we are able to closely recreate and correctly cluster the datapoints as per the original data set."
   ]
  },
  {
   "cell_type": "markdown",
   "metadata": {},
   "source": [
    "**What is the fundamental difference between K-means and K-NN?**\n",
    "\n",
    "K-Means Clustering is an *unsupervised* learning algorithm that is used for clustering whereas K-NN is a *supervised* learning algorithm used for classification (or regression)[5]. The ‘K’ in K-Means Clustering has nothing to do with the ‘K’ in K-NN algorithm. K-means takes a set of unlabeled datapoints and tries to group them into “k” number of clusters.\n",
    "It is unsupervised because the points have no external classification."
   ]
  },
  {
   "cell_type": "markdown",
   "metadata": {},
   "source": [
    "# Part 2: Cluster News Articles"
   ]
  },
  {
   "cell_type": "markdown",
   "metadata": {},
   "source": [
    "### A. Manual K-means on text dataset"
   ]
  },
  {
   "cell_type": "markdown",
   "metadata": {},
   "source": [
    "This is a text-based clustering task. We download the dataset from [7]. It consists of approximately 20,000 newsgroup documents, partitioned across 20 different newsgroups. Each corresponds to a topic. Since they are text documents, we need to do some NLP text processing on it. The main references are from [9,10,11,12] Similar to Lab 9, we can use dump_svmlight_file to make it into Libsvm format, after encoding the target classes to the dataset. Then we can reload the file using load_svmlight_file. We have several helper functions to do the data preprocessing as follows."
   ]
  },
  {
   "cell_type": "code",
   "execution_count": 12,
   "metadata": {},
   "outputs": [],
   "source": [
    "import tarfile\n",
    "try:\n",
    "    flag = os.path.isdir('./20news-bydate-train')\n",
    "    if flag == False:\n",
    "        tar = tarfile.open(\"20news-bydate.tar.gz\")\n",
    "        tar.extractall()\n",
    "        tar.close()\n",
    "    else:\n",
    "        print('Already unzipped')\n",
    "except:\n",
    "    print('Already unzipped')"
   ]
  },
  {
   "cell_type": "code",
   "execution_count": 20,
   "metadata": {},
   "outputs": [],
   "source": [
    "def fetch20newsgroups(dataset):\n",
    "    X = []\n",
    "    y = []\n",
    "    for category in os.listdir(dataset):\n",
    "        for fileName in os.listdir(dataset+\"/\"+str(category)):\n",
    "            with open(dataset+\"/\"+str(category)+\"/\"+str(fileName), 'r') as file:\n",
    "                X.append(file.read())\n",
    "                y.append(category)\n",
    "    return X, y\n",
    "\n",
    "\n",
    "def nlp_vectorize(train_data, test_data):\n",
    "    vectorizer = TfidfVectorizer(stop_words = 'english',\n",
    "                                 min_df=10, \n",
    "                                 lowercase = True, \n",
    "                                 ngram_range=(1, 3))\n",
    "    data_train = vectorizer.fit_transform(train_data)\n",
    "    data_test = vectorizer.transform(test_data)\n",
    "    return data_train, data_test\n",
    "\n",
    "\n",
    "def get_target_dict(target):\n",
    "    target_dict = {}\n",
    "    index = 1\n",
    "    for i in set(target):\n",
    "        target_dict[i] = index\n",
    "        index += 1\n",
    "    return target_dict"
   ]
  },
  {
   "cell_type": "code",
   "execution_count": 14,
   "metadata": {},
   "outputs": [],
   "source": [
    "X_train_data, y_train_data = fetch20newsgroups(\"20news-bydate-train\")\n",
    "X_test_data, y_test_data = fetch20newsgroups(\"20news-bydate-test\")"
   ]
  },
  {
   "cell_type": "code",
   "execution_count": 15,
   "metadata": {},
   "outputs": [
    {
     "data": {
      "text/plain": [
       "(list, list)"
      ]
     },
     "execution_count": 15,
     "metadata": {},
     "output_type": "execute_result"
    }
   ],
   "source": [
    "type(X_train_data), type(y_train_data)"
   ]
  },
  {
   "cell_type": "code",
   "execution_count": 16,
   "metadata": {},
   "outputs": [],
   "source": [
    "X_train, X_test = nlp_vectorize(X_train_data, X_test_data)\n",
    "\n",
    "target_dict = get_target_dict(y_train_data)\n",
    "y_train = [target_dict[i] for i in y_train_data]\n",
    "y_test = [target_dict[i] for i in y_test_data]\n",
    "\n",
    "dump_svmlight_file(X_train, y_train, \"train.data\", zero_based=False, multilabel=False)\n",
    "dump_svmlight_file(X_test, y_test, \"test.data\", zero_based=False, multilabel=False)"
   ]
  },
  {
   "cell_type": "code",
   "execution_count": 17,
   "metadata": {},
   "outputs": [
    {
     "data": {
      "text/plain": [
       "(<11314x32659 sparse matrix of type '<class 'numpy.float64'>'\n",
       " \twith 1495055 stored elements in Compressed Sparse Row format>,\n",
       " array([19., 19., 19., ..., 14., 14., 14.]))"
      ]
     },
     "execution_count": 17,
     "metadata": {},
     "output_type": "execute_result"
    }
   ],
   "source": [
    "X_train, y_train = load_svmlight_file(\"train.data\")\n",
    "X_train, y_train "
   ]
  },
  {
   "cell_type": "markdown",
   "metadata": {},
   "source": [
    "Now that the data is ready, we can train the model on it using the same sparse K-means clustering in Exercise 1."
   ]
  },
  {
   "cell_type": "code",
   "execution_count": null,
   "metadata": {},
   "outputs": [],
   "source": [
    "distortion_measure = {}\n",
    "for k in range(18,23):\n",
    "    centroids,cluster_label,clusters = cluster_kmeans(X_train, y_train, k)\n",
    "    distortion_measure[k] = distortion(X_train, clusters, centroids, k)"
   ]
  },
  {
   "cell_type": "code",
   "execution_count": 6,
   "metadata": {},
   "outputs": [
    {
     "data": {
      "image/png": "[encoded data removed]",
      "text/plain": [
       "<Figure size 576x360 with 1 Axes>"
      ]
     },
     "metadata": {},
     "output_type": "display_data"
    }
   ],
   "source": [
    "plt.figure(figsize=(8, 5))\n",
    "plt.plot(list(distortion_measure.keys()), list(distortion_measure.values()), '-o')\n",
    "plt.xticks(range(18, 23))\n",
    "plt.title(\"Elbow plot for K\")\n",
    "plt.xlabel(\"K\")\n",
    "plt.ylabel(\"Distortion\")\n",
    "plt.show()"
   ]
  },
  {
   "cell_type": "markdown",
   "metadata": {},
   "source": [
    "We already know that *K* = 20, so we can run it on the model using the this value and make prediction on test set and accuracy."
   ]
  },
  {
   "cell_type": "code",
   "execution_count": 10,
   "metadata": {},
   "outputs": [
    {
     "name": "stdout",
     "output_type": "stream",
     "text": [
      "\n",
      "Final distortion: 18218.8816\n",
      "\n",
      "Accuracy of predicted class labels: 42.0 %\n",
      "\n",
      "Program execution time: 145.56596 seconds\n"
     ]
    }
   ],
   "source": [
    "k = 20\n",
    "start_time = time.time()\n",
    "centroids, cluster_label, clusters = cluster_kmeans(X_train, y_train, k)                                                                                                  \n",
    "sse = distortion(X, clusters, centroids, k)\n",
    "print(\"\\nFinal distortion:\", np.round(sse, 4))\n",
    "\n",
    "predicted_class  = predict(X_test, centroids, cluster_label, class_labels)\n",
    "accuracy = accuracy_score(y_test, predicted_class)\n",
    "print(\"\\nAccuracy of predicted class labels:\",np.round(accuracy, 2)*100,'%')\n",
    "\n",
    "print(\"\\nProgram execution time: %s seconds\" % (np.round(time.time() - start_time, 5)))"
   ]
  },
  {
   "cell_type": "markdown",
   "metadata": {},
   "source": [
    "### B. Sklearn K-means on Text dataset"
   ]
  },
  {
   "cell_type": "markdown",
   "metadata": {},
   "source": [
    "We can implement this part using sklearns in-built K-means classifier. As we know the news groups, the optimal value of k would be 20. Running for a range of K also takes too long so we only use a small range of values for the elbow plot. The main references are from [9,10].\n",
    "\n",
    "Using sklearn.Kmeans, we set:\n",
    "* init=k-means++ default\n",
    "* max_iter=100\n",
    "* n_init=1 so it will only run once with one centroid seed. \n",
    "All these parameters are to ensure the execution time is lower for this huge dataset. \n",
    "\n",
    "The inertia contains the SSE / distortion values, so we store that information for each iteration in a dict."
   ]
  },
  {
   "cell_type": "code",
   "execution_count": 3,
   "metadata": {},
   "outputs": [],
   "source": [
    "from sklearn.datasets import fetch_20newsgroups\n",
    "from sklearn.cluster import KMeans\n",
    "\n",
    "news_data = fetch_20newsgroups(subset='all',shuffle=True, random_state=42)\n",
    "\n",
    "X = news_data.data \n",
    "labels = news_data.target \n",
    "\n",
    "vectorizer = TfidfVectorizer(stop_words='english')\n",
    "X = vectorizer.fit_transform(X)"
   ]
  },
  {
   "cell_type": "code",
   "execution_count": 19,
   "metadata": {},
   "outputs": [],
   "source": [
    "inertia = {}\n",
    "for k in range(18, 23):\n",
    "    model = KMeans(n_clusters = k, init='k-means++', max_iter=100, n_init=1)\n",
    "    model.fit(X)\n",
    "    inertia[k] = model.inertia_"
   ]
  },
  {
   "cell_type": "code",
   "execution_count": 23,
   "metadata": {},
   "outputs": [
    {
     "data": {
      "image/png": "[encoded data removed]",
      "text/plain": [
       "<Figure size 576x360 with 1 Axes>"
      ]
     },
     "metadata": {},
     "output_type": "display_data"
    }
   ],
   "source": [
    "plt.figure(figsize=(8, 5))\n",
    "plt.plot(list(inertia.keys()), list(inertia.values()), '-o')\n",
    "plt.xticks(range(18, 23))\n",
    "plt.title(\"Elbow plot for K\")\n",
    "plt.xlabel(\"K\")\n",
    "plt.ylabel(\"Distortion\")\n",
    "plt.show()"
   ]
  },
  {
   "cell_type": "markdown",
   "metadata": {},
   "source": [
    "From the elbow plot we get the optimal value of *K* as 20, which we know already."
   ]
  },
  {
   "cell_type": "code",
   "execution_count": 25,
   "metadata": {},
   "outputs": [
    {
     "name": "stdout",
     "output_type": "stream",
     "text": [
      "\n",
      "Program execution time: 143.20954 seconds\n"
     ]
    }
   ],
   "source": [
    "k = 20\n",
    "start_time = time.time()\n",
    "model = KMeans(n_clusters=k, init='k-means++', max_iter=100, n_init=1)\n",
    "model.fit(X)\n",
    "print(\"\\nProgram execution time: %s seconds\" % (np.round(time.time() - start_time, 5)))"
   ]
  },
  {
   "cell_type": "markdown",
   "metadata": {},
   "source": [
    "We can print the terms to see the centroid arrangement for the 20 clusters."
   ]
  },
  {
   "cell_type": "code",
   "execution_count": 26,
   "metadata": {},
   "outputs": [
    {
     "name": "stdout",
     "output_type": "stream",
     "text": [
      "cluster 0:\n",
      "bike\n",
      "com\n",
      "sun\n",
      "dod\n",
      "edu\n",
      "writes\n",
      "article\n",
      "ca\n",
      "msg\n",
      "ride\n",
      "east\n",
      "bmw\n",
      "behanna\n",
      "dog\n",
      "like\n",
      "riding\n",
      "rider\n",
      "bnr\n",
      "motorcycle\n",
      "subject\n",
      "\n",
      "cluster 1:\n",
      "car\n",
      "uiuc\n",
      "edu\n",
      "cso\n",
      "cars\n",
      "com\n",
      "engine\n",
      "illinois\n",
      "writes\n",
      "urbana\n",
      "article\n",
      "uxa\n",
      "university\n",
      "just\n",
      "subject\n",
      "organization\n",
      "lines\n",
      "ford\n",
      "dealer\n",
      "don\n",
      "\n",
      "cluster 2:\n",
      "gun\n",
      "stratus\n",
      "fbi\n",
      "com\n",
      "batf\n",
      "people\n",
      "edu\n",
      "koresh\n",
      "guns\n",
      "government\n",
      "sw\n",
      "waco\n",
      "atf\n",
      "cdt\n",
      "compound\n",
      "writes\n",
      "don\n",
      "article\n",
      "children\n",
      "right\n",
      "\n",
      "cluster 3:\n",
      "cramer\n",
      "optilink\n",
      "clayton\n",
      "gay\n",
      "men\n",
      "homosexual\n",
      "com\n",
      "homosexuals\n",
      "sexual\n",
      "study\n",
      "people\n",
      "sex\n",
      "consent\n",
      "partners\n",
      "pyramid\n",
      "percentage\n",
      "promiscuous\n",
      "mutual\n",
      "male\n",
      "relations\n",
      "\n",
      "cluster 4:\n",
      "edu\n",
      "ohio\n",
      "monitor\n",
      "state\n",
      "card\n",
      "magnus\n",
      "apple\n",
      "acs\n",
      "video\n",
      "mac\n",
      "sale\n",
      "00\n",
      "university\n",
      "simms\n",
      "ram\n",
      "dartmouth\n",
      "lines\n",
      "price\n",
      "subject\n",
      "organization\n",
      "\n",
      "cluster 5:\n",
      "key\n",
      "clipper\n",
      "encryption\n",
      "chip\n",
      "keys\n",
      "escrow\n",
      "com\n",
      "government\n",
      "algorithm\n",
      "nsa\n",
      "netcom\n",
      "crypto\n",
      "des\n",
      "sternlight\n",
      "security\n",
      "david\n",
      "secure\n",
      "wiretap\n",
      "secret\n",
      "phone\n",
      "\n",
      "cluster 6:\n",
      "windows\n",
      "dos\n",
      "file\n",
      "edu\n",
      "window\n",
      "files\n",
      "ms\n",
      "program\n",
      "mouse\n",
      "os\n",
      "com\n",
      "use\n",
      "drivers\n",
      "run\n",
      "using\n",
      "card\n",
      "microsoft\n",
      "version\n",
      "problem\n",
      "pc\n",
      "\n",
      "cluster 7:\n",
      "nasa\n",
      "space\n",
      "gov\n",
      "access\n",
      "digex\n",
      "pat\n",
      "shuttle\n",
      "alaska\n",
      "jpl\n",
      "edu\n",
      "net\n",
      "mission\n",
      "com\n",
      "orbit\n",
      "prb\n",
      "larc\n",
      "jsc\n",
      "launch\n",
      "gsfc\n",
      "moon\n",
      "\n",
      "cluster 8:\n",
      "god\n",
      "jesus\n",
      "sandvik\n",
      "bible\n",
      "sin\n",
      "christ\n",
      "christians\n",
      "faith\n",
      "christian\n",
      "believe\n",
      "kent\n",
      "people\n",
      "newton\n",
      "com\n",
      "life\n",
      "edu\n",
      "heaven\n",
      "say\n",
      "apple\n",
      "hell\n",
      "\n",
      "cluster 9:\n",
      "scsi\n",
      "drive\n",
      "ide\n",
      "geb\n",
      "gordon\n",
      "banks\n",
      "pitt\n",
      "controller\n",
      "drives\n",
      "edu\n",
      "hard\n",
      "disk\n",
      "bus\n",
      "cs\n",
      "hd\n",
      "computer\n",
      "dsl\n",
      "n3jxp\n",
      "cadre\n",
      "chastity\n",
      "\n",
      "cluster 10:\n",
      "henry\n",
      "toronto\n",
      "zoo\n",
      "spencer\n",
      "zoology\n",
      "edu\n",
      "utzoo\n",
      "kipling\n",
      "launch\n",
      "svr3\n",
      "resembles\n",
      "work\n",
      "svr4\n",
      "collision\n",
      "dunn\n",
      "orbit\n",
      "space\n",
      "article\n",
      "dick\n",
      "solar\n",
      "\n",
      "cluster 11:\n",
      "cleveland\n",
      "cwru\n",
      "freenet\n",
      "edu\n",
      "reserve\n",
      "ins\n",
      "western\n",
      "case\n",
      "po\n",
      "usa\n",
      "hela\n",
      "university\n",
      "ohio\n",
      "oh\n",
      "nntp\n",
      "host\n",
      "posting\n",
      "broward\n",
      "an030\n",
      "horne\n",
      "\n",
      "cluster 12:\n",
      "israel\n",
      "israeli\n",
      "armenian\n",
      "turkish\n",
      "armenians\n",
      "jews\n",
      "arab\n",
      "armenia\n",
      "jake\n",
      "people\n",
      "arabs\n",
      "jewish\n",
      "serdar\n",
      "argic\n",
      "turks\n",
      "edu\n",
      "turkey\n",
      "soviet\n",
      "policy\n",
      "zuma\n",
      "\n",
      "cluster 13:\n",
      "cmu\n",
      "andrew\n",
      "carnegie\n",
      "mellon\n",
      "pittsburgh\n",
      "edu\n",
      "pa\n",
      "host\n",
      "nntp\n",
      "posting\n",
      "engineering\n",
      "reply\n",
      "po2\n",
      "computer\n",
      "organization\n",
      "know\n",
      "freshman\n",
      "subject\n",
      "lines\n",
      "po4\n",
      "\n",
      "cluster 14:\n",
      "virginia\n",
      "columbia\n",
      "cc\n",
      "edu\n",
      "cunixb\n",
      "gld\n",
      "buffalo\n",
      "dare\n",
      "university\n",
      "gary\n",
      "andi\n",
      "beyer\n",
      "ab4z\n",
      "insurance\n",
      "ubvmsb\n",
      "organization\n",
      "lines\n",
      "subject\n",
      "ranck\n",
      "freedom\n",
      "\n",
      "cluster 15:\n",
      "people\n",
      "edu\n",
      "christian\n",
      "god\n",
      "don\n",
      "church\n",
      "think\n",
      "com\n",
      "religion\n",
      "say\n",
      "writes\n",
      "just\n",
      "like\n",
      "article\n",
      "believe\n",
      "bible\n",
      "know\n",
      "christians\n",
      "does\n",
      "way\n",
      "\n",
      "cluster 16:\n",
      "edu\n",
      "university\n",
      "cs\n",
      "organization\n",
      "subject\n",
      "lines\n",
      "posting\n",
      "host\n",
      "nntp\n",
      "article\n",
      "writes\n",
      "distribution\n",
      "know\n",
      "just\n",
      "new\n",
      "like\n",
      "cc\n",
      "thanks\n",
      "washington\n",
      "com\n",
      "\n",
      "cluster 17:\n",
      "livesey\n",
      "sgi\n",
      "keith\n",
      "solntze\n",
      "wpd\n",
      "caltech\n",
      "jon\n",
      "schneider\n",
      "morality\n",
      "allan\n",
      "cco\n",
      "moral\n",
      "com\n",
      "edu\n",
      "objective\n",
      "atheists\n",
      "cruel\n",
      "writes\n",
      "political\n",
      "pasadena\n",
      "\n",
      "cluster 18:\n",
      "game\n",
      "team\n",
      "hockey\n",
      "games\n",
      "ca\n",
      "edu\n",
      "year\n",
      "players\n",
      "season\n",
      "play\n",
      "win\n",
      "baseball\n",
      "espn\n",
      "nhl\n",
      "player\n",
      "fans\n",
      "don\n",
      "think\n",
      "league\n",
      "toronto\n",
      "\n",
      "cluster 19:\n",
      "com\n",
      "lines\n",
      "subject\n",
      "organization\n",
      "uk\n",
      "ca\n",
      "ac\n",
      "thanks\n",
      "hp\n",
      "posting\n",
      "use\n",
      "host\n",
      "nntp\n",
      "know\n",
      "does\n",
      "writes\n",
      "like\n",
      "mail\n",
      "edu\n",
      "ibm\n",
      "\n"
     ]
    }
   ],
   "source": [
    "order_centroids = model.cluster_centers_.argsort()[:, ::-1]\n",
    "terms = vectorizer.get_feature_names()\n",
    "for i in range(k):\n",
    "    print(\"cluster %d:\" % i)\n",
    "    for ind in order_centroids[i,:20]:\n",
    "        print('%s' % terms[ind])\n",
    "    print()"
   ]
  },
  {
   "cell_type": "code",
   "execution_count": 27,
   "metadata": {},
   "outputs": [
    {
     "name": "stdout",
     "output_type": "stream",
     "text": [
      "Homogeneity: 0.360\n",
      "Completeness: 0.431\n",
      "V-measure: 0.392\n",
      "Silhouette Coefficient: 0.006\n"
     ]
    }
   ],
   "source": [
    "from sklearn import metrics\n",
    "\n",
    "print(\"Homogeneity: %0.3f\" % metrics.homogeneity_score(labels, model.labels_))\n",
    "print(\"Completeness: %0.3f\" % metrics.completeness_score(labels, model.labels_))\n",
    "print(\"V-measure: %0.3f\" % metrics.v_measure_score(labels, model.labels_))\n",
    "print(\"Silhouette Coefficient: %0.3f\" % metrics.silhouette_score(X, model.labels_, sample_size=1000))"
   ]
  },
  {
   "cell_type": "markdown",
   "metadata": {},
   "source": [
    "### Summary\n",
    "\n",
    "We can see that the accuracy from the manual implementation of K-Means is really low, compared to sklearn. And the implementation times are longer as well. But this is to be expected, as the sklearn libraries are already optimized. Also the data preprocessing is not clearly stated, so it depends on the various sources I found, as compared to using the built-in dataset from sklearn. Anyway for both cases we managed to get the optimal value of *K*=20."
   ]
  },
  {
   "cell_type": "markdown",
   "metadata": {},
   "source": [
    "## References\n",
    "\n",
    "[1] https://archive.ics.uci.edu/ml/datasets/Iris <br>\n",
    "[2] https://www.csie.ntu.edu.tw/~cjlin/libsvmtools/datasets/multiclass/iris.scale <br>\n",
    "[3] https://stanford.edu/~cpiech/cs221/handouts/kmeans.html <br>\n",
    "[4] https://mmuratarat.github.io/2019-07-23/kmeans_from_scratch <br>\n",
    "[5] https://becominghuman.ai/comprehending-k-means-and-knn-algorithms-c791be90883d <br>\n",
    "[6] https://pythonprogramming.net/k-means-from-scratch-2-machine-learning-tutorial/?completed=/k-means-from-scratch-machine-learning-tutorial/ <br>\n",
    "[7] http://qwone.com/~jason/20Newsgroups/ <br>\n",
    "[8] https://stackoverflow.com/questions/42537943/scipy-sparse-matrix-multiplication <br>\n",
    "[9] https://blog.glugmvit.com/clustering/ <br>\n",
    "[10] https://www.kaggle.com/carlosaguayo/text-clustering-with-unsupervised-learning <br>\n",
    "[11] https://pythonprogramminglanguage.com/kmeans-text-clustering/ <br>\n",
    "[12] https://github.com/khyatith/Clustering-newsgroup-dataset <br>\n"
   ]
  }
 ],
 "metadata": {
  "kernelspec": {
   "display_name": "Python 3",
   "language": "python",
   "name": "python3"
  },
  "language_info": {
   "codemirror_mode": {
    "name": "ipython",
    "version": 3
   },
   "file_extension": ".py",
   "mimetype": "text/x-python",
   "name": "python",
   "nbconvert_exporter": "python",
   "pygments_lexer": "ipython3",
   "version": "3.7.3"
  }
 },
 "nbformat": 4,
 "nbformat_minor": 2
}

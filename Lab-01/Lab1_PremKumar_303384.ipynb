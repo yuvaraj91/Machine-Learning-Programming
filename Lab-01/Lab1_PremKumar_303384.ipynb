{
 "cells": [
  {
   "cell_type": "markdown",
   "metadata": {},
   "source": [
    "## 3115-Lab Programming Machine Learning\n",
    "\n",
    "### Lab Exercise 1\n",
    "**Yuvaraj Prem Kumar, 303384**"
   ]
  },
  {
   "cell_type": "markdown",
   "metadata": {},
   "source": [
    "### 1.1 Python and Numpy (8 Points)"
   ]
  },
  {
   "cell_type": "markdown",
   "metadata": {},
   "source": [
    "* Compute the sum for all subjects for each student. <br>\n",
    "* Compute the average of the point for each student. (total points are 500). <br>\n",
    "* Compute the standard deviation of point for each student.<br>\n",
    "* Plot the average points for all the students (in one figure).<br>\n",
    "* For each student assign a grade based on the following rubric.<br>\n",
    "* Plot the histogram of the final grades.<br>"
   ]
  },
  {
   "cell_type": "code",
   "execution_count": 1,
   "metadata": {},
   "outputs": [],
   "source": [
    "import pandas as pd\n",
    "import numpy as np\n",
    "import matplotlib.pyplot as plt\n",
    "%matplotlib inline"
   ]
  },
  {
   "cell_type": "code",
   "execution_count": 2,
   "metadata": {},
   "outputs": [
    {
     "data": {
      "text/html": [
       "<div>\n",
       "<style scoped>\n",
       "    .dataframe tbody tr th:only-of-type {\n",
       "        vertical-align: middle;\n",
       "    }\n",
       "\n",
       "    .dataframe tbody tr th {\n",
       "        vertical-align: top;\n",
       "    }\n",
       "\n",
       "    .dataframe thead th {\n",
       "        text-align: right;\n",
       "    }\n",
       "</style>\n",
       "<table border=\"1\" class=\"dataframe\">\n",
       "  <thead>\n",
       "    <tr style=\"text-align: right;\">\n",
       "      <th></th>\n",
       "      <th>Name</th>\n",
       "      <th>English</th>\n",
       "      <th>Maths</th>\n",
       "      <th>Science</th>\n",
       "      <th>German</th>\n",
       "      <th>Sports</th>\n",
       "      <th>Final Grade</th>\n",
       "    </tr>\n",
       "  </thead>\n",
       "  <tbody>\n",
       "    <tr>\n",
       "      <th>0</th>\n",
       "      <td>Robyn Hobgood</td>\n",
       "      <td>60.95</td>\n",
       "      <td>24.77</td>\n",
       "      <td>20.60</td>\n",
       "      <td>69.32</td>\n",
       "      <td>8.36</td>\n",
       "      <td>184.00</td>\n",
       "    </tr>\n",
       "    <tr>\n",
       "      <th>1</th>\n",
       "      <td>Eddy Swearngin</td>\n",
       "      <td>100.00</td>\n",
       "      <td>12.99</td>\n",
       "      <td>100.00</td>\n",
       "      <td>52.24</td>\n",
       "      <td>100.00</td>\n",
       "      <td>365.23</td>\n",
       "    </tr>\n",
       "    <tr>\n",
       "      <th>2</th>\n",
       "      <td>Leoma Bridgman</td>\n",
       "      <td>83.37</td>\n",
       "      <td>100.00</td>\n",
       "      <td>78.69</td>\n",
       "      <td>100.00</td>\n",
       "      <td>19.50</td>\n",
       "      <td>381.56</td>\n",
       "    </tr>\n",
       "    <tr>\n",
       "      <th>3</th>\n",
       "      <td>Arnetta Peart</td>\n",
       "      <td>87.75</td>\n",
       "      <td>100.00</td>\n",
       "      <td>86.93</td>\n",
       "      <td>87.90</td>\n",
       "      <td>41.73</td>\n",
       "      <td>404.31</td>\n",
       "    </tr>\n",
       "    <tr>\n",
       "      <th>4</th>\n",
       "      <td>Maryland Colby</td>\n",
       "      <td>100.00</td>\n",
       "      <td>100.00</td>\n",
       "      <td>100.00</td>\n",
       "      <td>18.87</td>\n",
       "      <td>88.72</td>\n",
       "      <td>407.59</td>\n",
       "    </tr>\n",
       "  </tbody>\n",
       "</table>\n",
       "</div>"
      ],
      "text/plain": [
       "             Name  English   Maths  Science  German  Sports  Final Grade\n",
       "0   Robyn Hobgood    60.95   24.77    20.60   69.32    8.36       184.00\n",
       "1  Eddy Swearngin   100.00   12.99   100.00   52.24  100.00       365.23\n",
       "2  Leoma Bridgman    83.37  100.00    78.69  100.00   19.50       381.56\n",
       "3   Arnetta Peart    87.75  100.00    86.93   87.90   41.73       404.31\n",
       "4  Maryland Colby   100.00  100.00   100.00   18.87   88.72       407.59"
      ]
     },
     "execution_count": 2,
     "metadata": {},
     "output_type": "execute_result"
    }
   ],
   "source": [
    "# Data pre-processing\n",
    "df = pd.read_csv('Grades.csv')\n",
    "df['Name'] = df['First Name'] +' '+ df['Last Name']\n",
    "df = df[['Name', 'English', 'Maths', 'Science', 'German', 'Sports' ,'Final Grade']]\n",
    "df.head(5)"
   ]
  },
  {
   "cell_type": "code",
   "execution_count": 4,
   "metadata": {},
   "outputs": [],
   "source": [
    "# Sum of all subjects for each students is already computed in the input file column \"Final Grade\"\n",
    "# So we can just read from input dataframe and store into the new output table \"df2\"\n",
    "\n",
    "df2 = df[['Name','Final Grade']]\n",
    "df2.rename(columns={'Final Grade':'Sum'}, inplace=True)\n"
   ]
  },
  {
   "cell_type": "code",
   "execution_count": 6,
   "metadata": {},
   "outputs": [],
   "source": [
    "df2.loc[:,'Avg'] = df2.loc[:,'Sum'] / 5  # Average point, given total no. of subjects is 5"
   ]
  },
  {
   "cell_type": "code",
   "execution_count": 7,
   "metadata": {},
   "outputs": [
    {
     "data": {
      "text/html": [
       "<div>\n",
       "<style scoped>\n",
       "    .dataframe tbody tr th:only-of-type {\n",
       "        vertical-align: middle;\n",
       "    }\n",
       "\n",
       "    .dataframe tbody tr th {\n",
       "        vertical-align: top;\n",
       "    }\n",
       "\n",
       "    .dataframe thead th {\n",
       "        text-align: right;\n",
       "    }\n",
       "</style>\n",
       "<table border=\"1\" class=\"dataframe\">\n",
       "  <thead>\n",
       "    <tr style=\"text-align: right;\">\n",
       "      <th></th>\n",
       "      <th>Name</th>\n",
       "      <th>Sum</th>\n",
       "      <th>Avg</th>\n",
       "      <th>Std Dev</th>\n",
       "    </tr>\n",
       "  </thead>\n",
       "  <tbody>\n",
       "    <tr>\n",
       "      <th>0</th>\n",
       "      <td>Robyn Hobgood</td>\n",
       "      <td>184.00</td>\n",
       "      <td>36.800</td>\n",
       "      <td>26.724368</td>\n",
       "    </tr>\n",
       "    <tr>\n",
       "      <th>1</th>\n",
       "      <td>Eddy Swearngin</td>\n",
       "      <td>365.23</td>\n",
       "      <td>73.046</td>\n",
       "      <td>39.430848</td>\n",
       "    </tr>\n",
       "    <tr>\n",
       "      <th>2</th>\n",
       "      <td>Leoma Bridgman</td>\n",
       "      <td>381.56</td>\n",
       "      <td>76.312</td>\n",
       "      <td>33.186278</td>\n",
       "    </tr>\n",
       "    <tr>\n",
       "      <th>3</th>\n",
       "      <td>Arnetta Peart</td>\n",
       "      <td>404.31</td>\n",
       "      <td>80.862</td>\n",
       "      <td>22.535389</td>\n",
       "    </tr>\n",
       "    <tr>\n",
       "      <th>4</th>\n",
       "      <td>Maryland Colby</td>\n",
       "      <td>407.59</td>\n",
       "      <td>81.518</td>\n",
       "      <td>35.360266</td>\n",
       "    </tr>\n",
       "  </tbody>\n",
       "</table>\n",
       "</div>"
      ],
      "text/plain": [
       "             Name     Sum     Avg    Std Dev\n",
       "0   Robyn Hobgood  184.00  36.800  26.724368\n",
       "1  Eddy Swearngin  365.23  73.046  39.430848\n",
       "2  Leoma Bridgman  381.56  76.312  33.186278\n",
       "3   Arnetta Peart  404.31  80.862  22.535389\n",
       "4  Maryland Colby  407.59  81.518  35.360266"
      ]
     },
     "execution_count": 7,
     "metadata": {},
     "output_type": "execute_result"
    }
   ],
   "source": [
    "if 'Final Grade' in df.columns:  # Check if exists, for easier re-run\n",
    "    df.drop(['Final Grade'], inplace=True,axis = 1)  # Drop 'Final Grade' column before calc std dev of all subjects\n",
    "\n",
    "df2.loc[:,'Std Dev'] = df.std(axis=1)\n",
    "df2.head(5)"
   ]
  },
  {
   "cell_type": "code",
   "execution_count": 8,
   "metadata": {},
   "outputs": [
    {
     "data": {
      "text/plain": [
       "<function matplotlib.pyplot.show(*args, **kw)>"
      ]
     },
     "execution_count": 8,
     "metadata": {},
     "output_type": "execute_result"
    },
    {
     "data": {
      "image/png": "[encoded data removed]",
      "text/plain": [
       "<Figure size 432x288 with 1 Axes>"
      ]
     },
     "metadata": {
      "needs_background": "light"
     },
     "output_type": "display_data"
    }
   ],
   "source": [
    "# Plotting histogram of the average points for each students\n",
    "bins=df2['Name'].tolist()  # Convert to numeric for plotting\n",
    "plt.bar(bins,df2['Avg'])\n",
    "plt.xticks(rotation=90)\n",
    "plt.xlabel('Students')\n",
    "plt.ylabel('Average Points')\n",
    "plt.title('Histogram of Average Points')\n",
    "plt.show"
   ]
  },
  {
   "cell_type": "code",
   "execution_count": 9,
   "metadata": {},
   "outputs": [],
   "source": [
    "# Grade rubric function\n",
    "def rubric(i):\n",
    "    if i >= 96: return 'A+'\n",
    "    elif i < 96 and i >= 90: return 'A '\n",
    "    elif i < 90 and i >= 86: return 'A-'\n",
    "    elif i < 86 and i >= 80: return 'B+'\n",
    "    elif i < 80 and i >= 76: return 'B '\n",
    "    elif i < 76 and i >= 70: return 'B-'\n",
    "    elif i < 70 and i >= 66: return 'C+'\n",
    "    elif i < 66 and i >= 60: return 'C '\n",
    "    elif i < 60 and i >= 56: return 'D '\n",
    "    else: return 'F '"
   ]
  },
  {
   "cell_type": "code",
   "execution_count": 10,
   "metadata": {},
   "outputs": [
    {
     "data": {
      "text/html": [
       "<div>\n",
       "<style scoped>\n",
       "    .dataframe tbody tr th:only-of-type {\n",
       "        vertical-align: middle;\n",
       "    }\n",
       "\n",
       "    .dataframe tbody tr th {\n",
       "        vertical-align: top;\n",
       "    }\n",
       "\n",
       "    .dataframe thead th {\n",
       "        text-align: right;\n",
       "    }\n",
       "</style>\n",
       "<table border=\"1\" class=\"dataframe\">\n",
       "  <thead>\n",
       "    <tr style=\"text-align: right;\">\n",
       "      <th></th>\n",
       "      <th>Name</th>\n",
       "      <th>Sum</th>\n",
       "      <th>Avg</th>\n",
       "      <th>Std Dev</th>\n",
       "      <th>Grade</th>\n",
       "    </tr>\n",
       "  </thead>\n",
       "  <tbody>\n",
       "    <tr>\n",
       "      <th>0</th>\n",
       "      <td>Robyn Hobgood</td>\n",
       "      <td>184.00</td>\n",
       "      <td>36.800</td>\n",
       "      <td>26.724368</td>\n",
       "      <td>F</td>\n",
       "    </tr>\n",
       "    <tr>\n",
       "      <th>1</th>\n",
       "      <td>Eddy Swearngin</td>\n",
       "      <td>365.23</td>\n",
       "      <td>73.046</td>\n",
       "      <td>39.430848</td>\n",
       "      <td>B-</td>\n",
       "    </tr>\n",
       "    <tr>\n",
       "      <th>2</th>\n",
       "      <td>Leoma Bridgman</td>\n",
       "      <td>381.56</td>\n",
       "      <td>76.312</td>\n",
       "      <td>33.186278</td>\n",
       "      <td>B</td>\n",
       "    </tr>\n",
       "    <tr>\n",
       "      <th>3</th>\n",
       "      <td>Arnetta Peart</td>\n",
       "      <td>404.31</td>\n",
       "      <td>80.862</td>\n",
       "      <td>22.535389</td>\n",
       "      <td>B+</td>\n",
       "    </tr>\n",
       "    <tr>\n",
       "      <th>4</th>\n",
       "      <td>Maryland Colby</td>\n",
       "      <td>407.59</td>\n",
       "      <td>81.518</td>\n",
       "      <td>35.360266</td>\n",
       "      <td>B+</td>\n",
       "    </tr>\n",
       "  </tbody>\n",
       "</table>\n",
       "</div>"
      ],
      "text/plain": [
       "             Name     Sum     Avg    Std Dev Grade\n",
       "0   Robyn Hobgood  184.00  36.800  26.724368    F \n",
       "1  Eddy Swearngin  365.23  73.046  39.430848    B-\n",
       "2  Leoma Bridgman  381.56  76.312  33.186278    B \n",
       "3   Arnetta Peart  404.31  80.862  22.535389    B+\n",
       "4  Maryland Colby  407.59  81.518  35.360266    B+"
      ]
     },
     "execution_count": 10,
     "metadata": {},
     "output_type": "execute_result"
    }
   ],
   "source": [
    "df2.loc[:,'Grade'] = df2['Avg'].apply(rubric)  # Call the function and append the grade column to dataframe\n",
    "df2.head(5)"
   ]
  },
  {
   "cell_type": "code",
   "execution_count": 11,
   "metadata": {},
   "outputs": [
    {
     "data": {
      "text/html": [
       "<div>\n",
       "<style scoped>\n",
       "    .dataframe tbody tr th:only-of-type {\n",
       "        vertical-align: middle;\n",
       "    }\n",
       "\n",
       "    .dataframe tbody tr th {\n",
       "        vertical-align: top;\n",
       "    }\n",
       "\n",
       "    .dataframe thead th {\n",
       "        text-align: right;\n",
       "    }\n",
       "</style>\n",
       "<table border=\"1\" class=\"dataframe\">\n",
       "  <thead>\n",
       "    <tr style=\"text-align: right;\">\n",
       "      <th></th>\n",
       "      <th>Grade</th>\n",
       "      <th>Count</th>\n",
       "    </tr>\n",
       "  </thead>\n",
       "  <tbody>\n",
       "    <tr>\n",
       "      <th>0</th>\n",
       "      <td>A</td>\n",
       "      <td>3</td>\n",
       "    </tr>\n",
       "    <tr>\n",
       "      <th>1</th>\n",
       "      <td>A-</td>\n",
       "      <td>1</td>\n",
       "    </tr>\n",
       "    <tr>\n",
       "      <th>2</th>\n",
       "      <td>B</td>\n",
       "      <td>2</td>\n",
       "    </tr>\n",
       "    <tr>\n",
       "      <th>3</th>\n",
       "      <td>B+</td>\n",
       "      <td>5</td>\n",
       "    </tr>\n",
       "    <tr>\n",
       "      <th>4</th>\n",
       "      <td>B-</td>\n",
       "      <td>6</td>\n",
       "    </tr>\n",
       "    <tr>\n",
       "      <th>5</th>\n",
       "      <td>C+</td>\n",
       "      <td>3</td>\n",
       "    </tr>\n",
       "    <tr>\n",
       "      <th>6</th>\n",
       "      <td>D</td>\n",
       "      <td>1</td>\n",
       "    </tr>\n",
       "    <tr>\n",
       "      <th>7</th>\n",
       "      <td>F</td>\n",
       "      <td>9</td>\n",
       "    </tr>\n",
       "  </tbody>\n",
       "</table>\n",
       "</div>"
      ],
      "text/plain": [
       "  Grade  Count\n",
       "0    A       3\n",
       "1    A-      1\n",
       "2    B       2\n",
       "3    B+      5\n",
       "4    B-      6\n",
       "5    C+      3\n",
       "6    D       1\n",
       "7    F       9"
      ]
     },
     "execution_count": 11,
     "metadata": {},
     "output_type": "execute_result"
    }
   ],
   "source": [
    "df3 = df2.groupby([\"Grade\"])[\"Name\"].count().reset_index(name=\"Count\")  # Adapted from [2]\n",
    "df3"
   ]
  },
  {
   "cell_type": "code",
   "execution_count": 12,
   "metadata": {},
   "outputs": [
    {
     "data": {
      "text/plain": [
       "<function matplotlib.pyplot.show(*args, **kw)>"
      ]
     },
     "execution_count": 12,
     "metadata": {},
     "output_type": "execute_result"
    },
    {
     "data": {
      "image/png": "[encoded data removed]",
      "text/plain": [
       "<Figure size 432x288 with 1 Axes>"
      ]
     },
     "metadata": {
      "needs_background": "light"
     },
     "output_type": "display_data"
    }
   ],
   "source": [
    "# Plotting total grades histogram\n",
    "bins=df3['Grade'].tolist()  # Convert to numeric for plotting\n",
    "plt.bar(bins,df3['Count'])\n",
    "plt.xlabel('Grade')\n",
    "plt.ylabel('Count')\n",
    "plt.title('Grades Histogram')\n",
    "plt.show"
   ]
  },
  {
   "cell_type": "markdown",
   "metadata": {},
   "source": [
    "**Matrix Multiplication:** <br>\n",
    "Create a matrix A of dimensions n x m, where n = 100 and m = 20. <br>\n",
    "Create a vector v of dimension m x 1. <br>\n",
    "Initialize the matrix with random values and vector with normal distribution using mu = 5 and sigma = 0:01. <br>\n",
    "Perform following operation on them: <br>\n",
    "* Iterative multiply (element-wise) each row of matrix A with vector v and sum the result of each iteration in another vector c\n",
    "* Find the mean and standard deviation of the new vector c\n",
    "* Plot histogram of vector c using 5 bins"
   ]
  },
  {
   "cell_type": "code",
   "execution_count": 13,
   "metadata": {},
   "outputs": [
    {
     "data": {
      "text/plain": [
       "((100, 20), (20,))"
      ]
     },
     "execution_count": 13,
     "metadata": {},
     "output_type": "execute_result"
    }
   ],
   "source": [
    "A = np.random.rand(100,20)\n",
    "v = np.random.normal(5,0.01,20)\n",
    "A.shape,v.shape"
   ]
  },
  {
   "cell_type": "code",
   "execution_count": 14,
   "metadata": {},
   "outputs": [
    {
     "name": "stdout",
     "output_type": "stream",
     "text": [
      "[51.764264544546506, 42.90591956915882, 56.59198610697077, 43.892326301457516, 55.83449450716335, 57.309975713735284, 47.13988949095796, 42.91496699384526, 53.46743601932968, 52.38757152293144, 50.37506623730151, 43.589349409290385, 49.95204237211974, 50.06311336602424, 46.75702349568435, 66.32420535421497, 45.295569949651274, 44.352250705168366, 45.035444659652256, 54.23668706472343, 41.97989567517654, 50.99330803864872, 49.412371555826184, 54.33013264116764, 54.723395540276734, 46.84606286942632, 45.21468420663442, 55.99398365538221, 50.5139315397766, 48.45894959728763, 49.973822930439205, 44.70364547164083, 48.21555524707761, 52.70407880934537, 63.38284224608186, 52.49880533570432, 36.70984477037065, 56.28873313229291, 48.99563363209026, 46.865728362194076, 44.81337820532986, 40.79692197976647, 37.12385011860989, 41.444121193515485, 55.11261744124998, 56.98389169058872, 46.03793608295995, 56.339708432013225, 47.215969488493215, 60.442513104660456, 45.15801208280878, 55.016809525310705, 42.81516932613551, 51.031125567912724, 58.72254370169055, 57.498820695674475, 51.71343009673836, 54.64020255537687, 43.82843913045638, 60.813330955194346, 63.2323965795903, 51.580481617630824, 52.3452819385781, 43.85885046677876, 39.91724287125204, 52.422065083296665, 54.39856471308304, 55.09837488767819, 48.135095943224464, 51.72844732325892, 34.19531927925718, 46.124808972217785, 50.15875269892224, 41.88833867826193, 47.00258555756907, 44.0655979017441, 52.92005855788498, 58.13585175457267, 54.35217622257495, 49.25076386455438, 44.17739636176223, 48.615448770799595, 43.67091711188497, 52.57998947078463, 58.22485158159424, 57.83337760233968, 41.704602875610526, 44.94922914004155, 41.19101291724211, 59.53033196626487, 52.34787209963871, 51.1647939648669, 56.66200509137036, 51.2008480026225, 58.72547112866289, 41.184178818090736, 41.41630254965226, 40.32743138891122, 45.76688668375942, 42.02898616515573]\n"
     ]
    }
   ],
   "source": [
    "# A (dot) V will be a vector, C of dimensions [100 x 1]\n",
    "C = []\n",
    "for i in range(100):  # Adapted from [1]\n",
    "    temp = 0\n",
    "    for j in range(20):\n",
    "        temp += A[i][j] * v[j]\n",
    "    C.append(temp)\n",
    "print(C)"
   ]
  },
  {
   "cell_type": "code",
   "execution_count": 15,
   "metadata": {},
   "outputs": [
    {
     "name": "stdout",
     "output_type": "stream",
     "text": [
      "Mean:  49.70656768618238 \n",
      "Standard Deviation:  6.4211228137203635\n"
     ]
    }
   ],
   "source": [
    "muC = np.mean(C)\n",
    "sigmaC = np.std(C)\n",
    "print(\"Mean: \", muC, \"\\nStandard Deviation: \", sigmaC)"
   ]
  },
  {
   "cell_type": "code",
   "execution_count": 16,
   "metadata": {},
   "outputs": [
    {
     "data": {
      "image/png": "[encoded data removed]",
      "text/plain": [
       "<Figure size 432x288 with 1 Axes>"
      ]
     },
     "metadata": {
      "needs_background": "light"
     },
     "output_type": "display_data"
    }
   ],
   "source": [
    "# Plotting histogram of C\n",
    "plt.hist(C, bins = 5)    \n",
    "plt.title('Histogram of C')\n",
    "plt.show()"
   ]
  },
  {
   "cell_type": "markdown",
   "metadata": {},
   "source": [
    "### 1.2.1 OLS using an artificial dataset"
   ]
  },
  {
   "cell_type": "markdown",
   "metadata": {},
   "source": [
    "* Generate some simple data. i.e. a matrix A with dimensions 100 x 2. Initialize it with normal distribution mu = 2 and sigma = 1\n",
    "* Implement LEARN-SIMPLE-LINREG algorithm and train it using matrix A to learn values of B0 and B1\n",
    "* Implement PREDICT-SIMPLE-LINREG and calculate the points for each training example in matrix A.\n",
    "* Plot the training data (use plt.scatter) and your predicted line (use plt.plot).\n",
    "* Put B0 to zero and rerun the program to generate the predicted line. Comment on the change you see for the varying values of sigma\n",
    "* Put B1 to zero and rerun the program to generate the predicted line. Comment on the change you see for the varying values of sigma\n",
    "* Use numpy.linalg lstsq to replace step 2 for learning values of B0 and B1. Explain the difference between your values and the values from numpy.linalg lstsq."
   ]
  },
  {
   "cell_type": "code",
   "execution_count": 17,
   "metadata": {},
   "outputs": [
    {
     "data": {
      "text/plain": [
       "(100, 2)"
      ]
     },
     "execution_count": 17,
     "metadata": {},
     "output_type": "execute_result"
    }
   ],
   "source": [
    "# Input data\n",
    "A = np.random.normal(2,1,(100,2))\n",
    "A.shape"
   ]
  },
  {
   "cell_type": "markdown",
   "metadata": {},
   "source": [
    "**LEARN-SIMPLE-LINREG**<br>\n",
    "From the slide 18/39 in [2]:\n",
    "<img src=\"https://i.imgur.com/IuNm4EM.jpg\" style=\"height:250px\">"
   ]
  },
  {
   "cell_type": "code",
   "execution_count": 18,
   "metadata": {},
   "outputs": [],
   "source": [
    "# Function to find beta values, also adapted from [4]\n",
    "def learn_simple_linreg(x,y):\n",
    "    x_mean = np.mean(x)\n",
    "    y_mean = np.mean(y)\n",
    "    num = np.multiply((x - x_mean), (y - y_mean))\n",
    "    denom = (x - x_mean)**2\n",
    "    b1 = np.sum(num)/np.sum(denom)\n",
    "    b0 = y_mean - b1 * x_mean\n",
    "    return b0, b1"
   ]
  },
  {
   "cell_type": "code",
   "execution_count": 19,
   "metadata": {},
   "outputs": [
    {
     "name": "stdout",
     "output_type": "stream",
     "text": [
      "b0 = 1.4022932066140947 \n",
      "b1 = 0.24767996768704423\n"
     ]
    }
   ],
   "source": [
    "# For input data, I just take the first column of A as X(observations) and second column of A as Y(predictions)\n",
    "x = A[:,0]\n",
    "y = A[:,1]\n",
    "\n",
    "b0,b1 = learn_simple_linreg(x,y)\n",
    "print(\"b0 = {} \\nb1 = {}\".format(b0,b1))"
   ]
  },
  {
   "cell_type": "markdown",
   "metadata": {},
   "source": [
    "**PREDICT-SIMPLE-LINREG**<br>\n",
    "I cannot find this algorithm in the lecture slides, anyway we know that the prediction can be made using the line of best-fit, for the so-called 'y hat' or predicted value of y:\n",
    "\n",
    "$\n",
    "\\tilde{y} = \\beta_0 + \\beta_1*x[i]\n",
    "$\n",
    "\n"
   ]
  },
  {
   "cell_type": "code",
   "execution_count": 20,
   "metadata": {},
   "outputs": [],
   "source": [
    "def predict_simple_linreg(x,b0, b1):\n",
    "    yhat = b0 + x*b1\n",
    "    return yhat"
   ]
  },
  {
   "cell_type": "code",
   "execution_count": 21,
   "metadata": {},
   "outputs": [
    {
     "name": "stdout",
     "output_type": "stream",
     "text": [
      "[1.688444   1.8542707  2.03547738 1.99866575 2.15991392]\n"
     ]
    }
   ],
   "source": [
    "yhat = predict_simple_linreg(x,b0,b1)\n",
    "print(yhat[0:5])  # Output sample values"
   ]
  },
  {
   "cell_type": "code",
   "execution_count": 22,
   "metadata": {},
   "outputs": [],
   "source": [
    "# Plotting function\n",
    "def plots(x,y,yhat):\n",
    "    plt.scatter(x, y, label='Training data')  # Scatter plot of training data\n",
    "    plt.plot(x, yhat, 'y', label='Predicted line')\n",
    "    plt.legend()\n",
    "    plt.show()"
   ]
  },
  {
   "cell_type": "code",
   "execution_count": 23,
   "metadata": {},
   "outputs": [
    {
     "data": {
      "image/png": "[encoded data removed]",
      "text/plain": [
       "<Figure size 432x288 with 1 Axes>"
      ]
     },
     "metadata": {
      "needs_background": "light"
     },
     "output_type": "display_data"
    }
   ],
   "source": [
    "# For calculated b0,b1,yhat\n",
    "plots(x,y,yhat)"
   ]
  },
  {
   "cell_type": "code",
   "execution_count": 24,
   "metadata": {},
   "outputs": [
    {
     "data": {
      "image/png": "[encoded data removed]",
      "text/plain": [
       "<Figure size 432x288 with 1 Axes>"
      ]
     },
     "metadata": {
      "needs_background": "light"
     },
     "output_type": "display_data"
    }
   ],
   "source": [
    "# When b0 = 0\n",
    "yhat_2 = predict_simple_linreg(x,0,b1)\n",
    "plots(x,y,yhat_2)"
   ]
  },
  {
   "cell_type": "markdown",
   "metadata": {},
   "source": [
    "$\\beta_0$ is the distance of the regression line from the origin. Hence when its '0' the line originates from x=0; causing the lowering skew seen."
   ]
  },
  {
   "cell_type": "code",
   "execution_count": 25,
   "metadata": {},
   "outputs": [
    {
     "data": {
      "image/png": "[encoded data removed]",
      "text/plain": [
       "<Figure size 432x288 with 1 Axes>"
      ]
     },
     "metadata": {
      "needs_background": "light"
     },
     "output_type": "display_data"
    }
   ],
   "source": [
    "# When b1 = 0 \n",
    "yhat_3 = predict_simple_linreg(x,b0,0)\n",
    "plots(x,y,yhat_3)"
   ]
  },
  {
   "cell_type": "markdown",
   "metadata": {},
   "source": [
    "$\\beta_1$ represents the gradient or slope component of the regression line. When it is 0, this line becomes flat (horizontal). Also the regression line becomes 1-D since $X$ multiply 0 is also 0, hence only the $\\beta_0$ value is being plotted."
   ]
  },
  {
   "cell_type": "code",
   "execution_count": 28,
   "metadata": {},
   "outputs": [],
   "source": [
    "# Using numpy linear algebra toolkit, code adapted from [5]\n",
    "def lstsq(x,y):\n",
    "    A = np.vstack([x, np.ones(len(x))]).T\n",
    "    m, c = np.linalg.lstsq(A, y, rcond=None)[0]\n",
    "    return c, m  # b0 and b1"
   ]
  },
  {
   "cell_type": "code",
   "execution_count": 29,
   "metadata": {},
   "outputs": [
    {
     "data": {
      "image/png": "[encoded data removed]",
      "text/plain": [
       "<Figure size 432x288 with 1 Axes>"
      ]
     },
     "metadata": {
      "needs_background": "light"
     },
     "output_type": "display_data"
    }
   ],
   "source": [
    "b0_2, b1_2 = lstsq(x,y)\n",
    "yhat_4 = predict_simple_linreg(x,b0_2,b1_2)\n",
    "plots(x,y,yhat_4)"
   ]
  },
  {
   "cell_type": "markdown",
   "metadata": {},
   "source": [
    "The results are identical."
   ]
  },
  {
   "cell_type": "markdown",
   "metadata": {},
   "source": [
    "### 1.2.2 OLS using a Real dataset"
   ]
  },
  {
   "cell_type": "markdown",
   "metadata": {},
   "source": [
    "* Load the dataset and split it into our uni-variate case. use 'Displacement' as the independent variable and 'MPG' as the dependant variable.\n",
    "* Implement LEARN-SIMPLE-LINREG algorithm and train it using matrix A to learn values of $\\beta_0$ and $\\beta_1$.\n",
    "* Implement PREDICT-SIMPLE-LINREG and calculate the points for each training example in matrix A.\n",
    "* Plot the training data (use plt.scatter) and your predicted line (use plt.plot).\n",
    "* Repeat the above but change the indepedant variable to [\"horsepower\",\"weight\",\"acceleration\"]. Dependant variable stays as MPG.\n",
    "* Comment on the behavior you notice for each of the independent variable.\n",
    "* Use scikit learn to implement OLS Linear Model.\n",
    "* Plot the training data (use plt.scatter) and your predicted line (use plt.plot)."
   ]
  },
  {
   "cell_type": "code",
   "execution_count": 52,
   "metadata": {},
   "outputs": [],
   "source": [
    "# Data preprocessing function taken from [6] and also from my DDA Lab 5 (SoSe2019)\n",
    "#\n",
    "\n",
    "def generate_data():\n",
    "    filename = \"auto-mpg.data\"\n",
    "    column_names = ['mpg', 'cylinders', 'displacement', 'horsepower', 'weight', 'acceleration', 'year', 'origin','name']\n",
    "    df = pd.read_csv(filename, delim_whitespace=True, header=None, na_values=\"?\", names=column_names)\n",
    "    df = df.drop('name', axis=1)\n",
    "    df = df.dropna()\n",
    "    print(df.head(5))\n",
    "    x_data = df.drop(['mpg','cylinders','year','origin'], axis=1)\n",
    "    y_data = df[['mpg']]  # Continuous target variable : mpg\n",
    "    #x_data = pd.DataFrame(normalize(x_data))\n",
    "    #y_data = pd.DataFrame(normalize(y_data))\n",
    "\n",
    "    return x_data, y_data"
   ]
  },
  {
   "cell_type": "code",
   "execution_count": 53,
   "metadata": {},
   "outputs": [
    {
     "name": "stdout",
     "output_type": "stream",
     "text": [
      "    mpg  cylinders  displacement  horsepower  weight  acceleration  year  \\\n",
      "0  18.0          8         307.0       130.0  3504.0          12.0    70   \n",
      "1  15.0          8         350.0       165.0  3693.0          11.5    70   \n",
      "2  18.0          8         318.0       150.0  3436.0          11.0    70   \n",
      "3  16.0          8         304.0       150.0  3433.0          12.0    70   \n",
      "4  17.0          8         302.0       140.0  3449.0          10.5    70   \n",
      "\n",
      "   origin  \n",
      "0       1  \n",
      "1       1  \n",
      "2       1  \n",
      "3       1  \n",
      "4       1  \n"
     ]
    }
   ],
   "source": [
    "x_data, y_data = generate_data()"
   ]
  },
  {
   "cell_type": "code",
   "execution_count": 54,
   "metadata": {},
   "outputs": [
    {
     "name": "stdout",
     "output_type": "stream",
     "text": [
      "   displacement  horsepower  weight  acceleration\n",
      "0         307.0       130.0  3504.0          12.0\n",
      "1         350.0       165.0  3693.0          11.5\n",
      "2         318.0       150.0  3436.0          11.0\n",
      "3         304.0       150.0  3433.0          12.0\n",
      "4         302.0       140.0  3449.0          10.5\n",
      "    mpg\n",
      "0  18.0\n",
      "1  15.0\n",
      "2  18.0\n",
      "3  16.0\n",
      "4  17.0\n"
     ]
    }
   ],
   "source": [
    "print(x_data[0:5])\n",
    "print(y_data[0:5])"
   ]
  },
  {
   "cell_type": "markdown",
   "metadata": {},
   "source": [
    "I dont know why the question is asking for \"Matrix A\" here, must be a typo in this part. Anyway the same functions in part 1 can be applied here for the univariate linear regression."
   ]
  },
  {
   "cell_type": "code",
   "execution_count": 55,
   "metadata": {},
   "outputs": [
    {
     "name": "stdout",
     "output_type": "stream",
     "text": [
      "b0 = 35.12063593840391 \n",
      "b1 = -0.06005142781220625\n",
      "[16.6848476  14.1026362  16.02428189 16.86500188 16.98510474]\n"
     ]
    }
   ],
   "source": [
    "# When X is Displacement\n",
    "x = x_data.iloc[:,0].values  # To get array \n",
    "y = y_data.iloc[:,0].values\n",
    "\n",
    "b0_1,b1_1 = learn_simple_linreg(x,y)\n",
    "print(\"b0 = {} \\nb1 = {}\".format(b0_1,b1_1))\n",
    "yhat_1 = predict_simple_linreg(x,b0_1,b1_1)\n",
    "print(yhat_1[0:5])  # Output sample values"
   ]
  },
  {
   "cell_type": "code",
   "execution_count": 56,
   "metadata": {},
   "outputs": [
    {
     "name": "stdout",
     "output_type": "stream",
     "text": [
      "b0 = 39.93586102117047 \n",
      "b1 = -0.15784473335365362\n",
      "[19.41604569 13.89148002 16.25915102 16.25915102 17.83759835]\n"
     ]
    }
   ],
   "source": [
    "# When X is Horsepower\n",
    "x2 = x_data.iloc[:,1].values\n",
    "b0_2,b1_2 = learn_simple_linreg(x2,y)\n",
    "print(\"b0 = {} \\nb1 = {}\".format(b0_2,b1_2))\n",
    "yhat_2 = predict_simple_linreg(x2,b0_2,b1_2)\n",
    "print(yhat_2[0:5])"
   ]
  },
  {
   "cell_type": "code",
   "execution_count": 60,
   "metadata": {},
   "outputs": [
    {
     "name": "stdout",
     "output_type": "stream",
     "text": [
      "b0 = 46.21652454901758 \n",
      "b1 = -0.007647342535779581\n",
      "[19.4202363  17.97488856 19.9402556  19.96319762 19.84084014]\n"
     ]
    }
   ],
   "source": [
    "# When X is Weight\n",
    "x3 = x_data.iloc[:,2].values\n",
    "b0_3,b1_3 = learn_simple_linreg(x3,y)\n",
    "print(\"b0 = {} \\nb1 = {}\".format(b0_3,b1_3))\n",
    "yhat_3 = predict_simple_linreg(x3,b0_3,b1_3)\n",
    "print(yhat_3[0:5])  # Output sample values"
   ]
  },
  {
   "cell_type": "code",
   "execution_count": 58,
   "metadata": {},
   "outputs": [
    {
     "name": "stdout",
     "output_type": "stream",
     "text": [
      "b0 = 4.8332498048437955 \n",
      "b1 = 1.1976241877320561\n",
      "[19.20474006 18.60592796 18.00711587 19.20474006 17.40830378]\n"
     ]
    }
   ],
   "source": [
    "# When X is Acceleration\n",
    "x4 = x_data.iloc[:,3].values\n",
    "b0_4,b1_4 = learn_simple_linreg(x4,y)\n",
    "print(\"b0 = {} \\nb1 = {}\".format(b0_4,b1_4))\n",
    "yhat_4 = predict_simple_linreg(x4,b0_4,b1_4)\n",
    "print(yhat_4[0:5])  # Output sample values"
   ]
  },
  {
   "cell_type": "code",
   "execution_count": 70,
   "metadata": {},
   "outputs": [
    {
     "data": {
      "image/png": "[encoded data removed]",
      "text/plain": [
       "<Figure size 432x288 with 1 Axes>"
      ]
     },
     "metadata": {
      "needs_background": "light"
     },
     "output_type": "display_data"
    },
    {
     "data": {
      "image/png": "[encoded data removed]",
      "text/plain": [
       "<Figure size 432x288 with 1 Axes>"
      ]
     },
     "metadata": {
      "needs_background": "light"
     },
     "output_type": "display_data"
    },
    {
     "data": {
      "image/png": "[encoded data removed]",
      "text/plain": [
       "<Figure size 432x288 with 1 Axes>"
      ]
     },
     "metadata": {
      "needs_background": "light"
     },
     "output_type": "display_data"
    },
    {
     "data": {
      "image/png": "[encoded data removed]",
      "text/plain": [
       "<Figure size 432x288 with 1 Axes>"
      ]
     },
     "metadata": {
      "needs_background": "light"
     },
     "output_type": "display_data"
    }
   ],
   "source": [
    "# First subplot\n",
    "ax = plt.subplot()\n",
    "plt.scatter(x,y) \n",
    "plt.plot(x,yhat_1,'y')\n",
    "plt.title('MPG vs Displacement')\n",
    "plt.xlabel('Displacement')\n",
    "plt.ylabel('MPG')\n",
    "plt.tight_layout()\n",
    "plt.show()\n",
    "\n",
    "# Second subplot\n",
    "ax = plt.subplot()\n",
    "plt.scatter(x2,y)\n",
    "plt.plot(x2,yhat_2,'y')\n",
    "plt.title('MPG vs Horsepower')\n",
    "plt.xlabel('Horsepower')\n",
    "plt.ylabel('MPG')\n",
    "plt.tight_layout()\n",
    "plt.show()\n",
    "\n",
    "# Third subplot\n",
    "ax = plt.subplot()\n",
    "plt.scatter(x3,y)\n",
    "plt.plot(x3,yhat_3,'y')\n",
    "plt.title('MPG vs Weight')\n",
    "plt.xlabel('Weight')\n",
    "plt.ylabel('MPG')\n",
    "plt.tight_layout()\n",
    "plt.show()\n",
    "\n",
    "# Fourth subplot\n",
    "ax = plt.subplot()\n",
    "plt.scatter(x4,y)\n",
    "plt.plot(x4,yhat_4,'y')\n",
    "plt.title('MPG vs Acceleration')\n",
    "plt.xlabel('Acceleration')\n",
    "plt.ylabel('MPG')\n",
    "plt.tight_layout()\n",
    "plt.show()"
   ]
  },
  {
   "cell_type": "markdown",
   "metadata": {},
   "source": [
    "From an intial glance each independant variable looks to have a linear relationship with the dependant variable MPG. However plotting them indiviually reveals a rather large variance in the predicted values and line of best fit. Hence a better method would be the include all the independant variables together and model this as a multivariate linear regression."
   ]
  },
  {
   "cell_type": "code",
   "execution_count": 71,
   "metadata": {},
   "outputs": [
    {
     "name": "stdout",
     "output_type": "stream",
     "text": [
      "    mpg  cylinders  displacement  horsepower  weight  acceleration  year  \\\n",
      "0  18.0          8         307.0       130.0  3504.0          12.0    70   \n",
      "1  15.0          8         350.0       165.0  3693.0          11.5    70   \n",
      "2  18.0          8         318.0       150.0  3436.0          11.0    70   \n",
      "3  16.0          8         304.0       150.0  3433.0          12.0    70   \n",
      "4  17.0          8         302.0       140.0  3449.0          10.5    70   \n",
      "\n",
      "   origin  \n",
      "0       1  \n",
      "1       1  \n",
      "2       1  \n",
      "3       1  \n",
      "4       1  \n"
     ]
    }
   ],
   "source": [
    "from sklearn.model_selection import train_test_split\n",
    "from sklearn.linear_model import LinearRegression\n",
    "from sklearn.preprocessing import normalize\n",
    "x_data, y_data = generate_data()\n",
    "\n",
    "x_data = x_data.iloc[:,0].values\n",
    "y_data = y_data.iloc[:,0].values\n",
    "\n",
    "\n",
    "xTrain, xTest, yTrain, yTest = train_test_split(x_data, y_data, test_size = 0.2, random_state = 0)\n",
    "xTrain= xTrain.reshape(-1, 1)\n",
    "yTrain= yTrain.reshape(-1, 1)\n",
    "xTest = xTest.reshape(-1, 1)\n",
    "yTest = yTest.reshape(-1, 1)"
   ]
  },
  {
   "cell_type": "code",
   "execution_count": 72,
   "metadata": {},
   "outputs": [],
   "source": [
    "linearRegressor = LinearRegression()\n",
    "linearRegressor.fit(xTrain, yTrain)\n",
    "yPrediction = linearRegressor.predict(xTest)"
   ]
  },
  {
   "cell_type": "code",
   "execution_count": 73,
   "metadata": {},
   "outputs": [
    {
     "data": {
      "image/png": "[encoded data removed]",
      "text/plain": [
       "<Figure size 432x288 with 1 Axes>"
      ]
     },
     "metadata": {
      "needs_background": "light"
     },
     "output_type": "display_data"
    }
   ],
   "source": [
    "plt.scatter(xTrain, yTrain)\n",
    "plt.plot(xTrain, linearRegressor.predict(xTrain), color = 'yellow')\n",
    "plt.title('MPG vs Displacement (Training set)')\n",
    "plt.xlabel('Displacement')\n",
    "plt.ylabel('MPG')\n",
    "plt.show()"
   ]
  },
  {
   "cell_type": "markdown",
   "metadata": {},
   "source": [
    "## References:\n",
    "\n",
    "[1] https://stackoverflow.com/questions/28253102/python-3-multiply-a-vector-by-a-matrix-without-numpy <br>\n",
    "[2] https://stackoverflow.com/questions/29836477/pandas-create-new-column-with-count-from-groupby <br>\n",
    "[3] https://www.uni-hildesheim.de/learnweb2019/mod/folder/view.php?id=34464 <br>\n",
    "[4] https://www.geeksforgeeks.org/linear-regression-python-implementation/ <br>\n",
    "[5] https://docs.scipy.org/doc/numpy/reference/generated/numpy.linalg.lstsq.html <br>\n",
    "[6] https://fatihsarigoz.com/tag/python-machine_learning-auto-mpg-dataset.html <br>"
   ]
  }
 ],
 "metadata": {
  "kernelspec": {
   "display_name": "Python 3",
   "language": "python",
   "name": "python3"
  },
  "language_info": {
   "codemirror_mode": {
    "name": "ipython",
    "version": 3
   },
   "file_extension": ".py",
   "mimetype": "text/x-python",
   "name": "python",
   "nbconvert_exporter": "python",
   "pygments_lexer": "ipython3",
   "version": "3.7.3"
  }
 },
 "nbformat": 4,
 "nbformat_minor": 2
}

{
 "cells": [
  {
   "cell_type": "markdown",
   "metadata": {},
   "source": [
    "# 3115-Lab Programming Machine Learning\n",
    "\n",
    "## Lab Exercise 7\n",
    "\n",
    "## Yuvaraj Prem Kumar, 303384"
   ]
  },
  {
   "cell_type": "code",
   "execution_count": 1,
   "metadata": {},
   "outputs": [],
   "source": [
    "import numpy as np\n",
    "import pandas as pd\n",
    "import matplotlib.pyplot as plt\n",
    "from collections import Counter\n",
    "import operator\n",
    "%matplotlib inline\n",
    "\n",
    "plt.style.use('ggplot')"
   ]
  },
  {
   "cell_type": "markdown",
   "metadata": {},
   "source": [
    "# K-NN\n",
    "\n",
    "\n",
    "K-nearest neighbours is a classification or regression model, based on supervised learning. Informally, we have a labelled dataset consisting of training observations $(x,y)$ and would like to capture the relationship between $x$ and $y$. Formally, our goal is to learn a function $h:X→Y$l so that given an unseen observation $x$, $h(x)$ can confidently predict the corresponding output $y'$. K-NN has no 'learning' phase, meaning the algorithm doesn't actually learn a model. Instead it will memorize the training instances which are then used as the knowledge for predictions. I.e.; the algorithm will only call the training instance when asked to predict a label, given a particular input.\n",
    "\n",
    "K-NN is computationally expensive, since classifying a particular observation (test phase) requires a whole pass through the training set. It also has a high memory cost, since we have to store the dataset in memory.\n",
    "\n",
    "We are using the Iris dataset[1] here, which is well studied. The bulk of the code follows the Stanford CS231n [8] for CIFAR-10 dataset, adapted for use with the Iris dataset."
   ]
  },
  {
   "cell_type": "markdown",
   "metadata": {},
   "source": [
    "## Part 1: Data Preprocessing on Iris Dataset"
   ]
  },
  {
   "cell_type": "markdown",
   "metadata": {},
   "source": [
    "This is a classification based dataset [1]. We have four attributes - sepal length, sepal width, petal length, and petal width - that defines if the flower belongs to one of the three particular classes:\n",
    "* Iris Setosa\n",
    "* Iris Versicolour\n",
    "* Iris Virginica\n",
    "\n",
    "Based on the dataset description, the following are noted:\n",
    "1. Number of Instances: 150 (50 in each of three classes)\n",
    "2. Number of Attributes: 4 numeric, predictive attributes and the class\n",
    "3. Missing Attribute Values: None\n",
    "4. Class Distribution: 33.3% for each of 3 classes"
   ]
  },
  {
   "cell_type": "code",
   "execution_count": 2,
   "metadata": {},
   "outputs": [],
   "source": [
    "# Helper functions\n",
    "def normalize(x):\n",
    "    \"\"\"We should just normalize the \"X\" aka observations\n",
    "    \"\"\"\n",
    "    return (x - np.mean(x)) / np.std(x) \n",
    "\n",
    "def train_test_split(dfx, dfy):\n",
    "    mask = np.random.rand(len(dfx)) < 0.7\n",
    "    x_train, y_train = dfx[mask], dfy[mask]\n",
    "    x_test, y_test = dfx[~mask], dfy[~mask]\n",
    "    \n",
    "    x_train = x_train.to_numpy()  # Unpack dataframe to numpy arrays\n",
    "    y_train = y_train.to_numpy()\n",
    "    x_test = x_test.to_numpy()\n",
    "    y_test = y_test.to_numpy()\n",
    "\n",
    "    print('\\nShape of x_train:', x_train.shape, ';', 'Shape of y_train:', y_train.shape)\n",
    "    print('\\nShape of x_test:', x_test.shape, ';', 'Shape of y_test:', y_test.shape)\n",
    "    \n",
    "    return x_train, y_train, x_test, y_test\n"
   ]
  },
  {
   "cell_type": "code",
   "execution_count": 3,
   "metadata": {},
   "outputs": [
    {
     "data": {
      "text/html": [
       "<div>\n",
       "<style scoped>\n",
       "    .dataframe tbody tr th:only-of-type {\n",
       "        vertical-align: middle;\n",
       "    }\n",
       "\n",
       "    .dataframe tbody tr th {\n",
       "        vertical-align: top;\n",
       "    }\n",
       "\n",
       "    .dataframe thead th {\n",
       "        text-align: right;\n",
       "    }\n",
       "</style>\n",
       "<table border=\"1\" class=\"dataframe\">\n",
       "  <thead>\n",
       "    <tr style=\"text-align: right;\">\n",
       "      <th></th>\n",
       "      <th>sepal_length</th>\n",
       "      <th>sepal_width</th>\n",
       "      <th>petal_length</th>\n",
       "      <th>petal_width</th>\n",
       "      <th>class</th>\n",
       "    </tr>\n",
       "  </thead>\n",
       "  <tbody>\n",
       "    <tr>\n",
       "      <th>0</th>\n",
       "      <td>5.1</td>\n",
       "      <td>3.5</td>\n",
       "      <td>1.4</td>\n",
       "      <td>0.2</td>\n",
       "      <td>Iris-setosa</td>\n",
       "    </tr>\n",
       "    <tr>\n",
       "      <th>1</th>\n",
       "      <td>4.9</td>\n",
       "      <td>3.0</td>\n",
       "      <td>1.4</td>\n",
       "      <td>0.2</td>\n",
       "      <td>Iris-setosa</td>\n",
       "    </tr>\n",
       "    <tr>\n",
       "      <th>2</th>\n",
       "      <td>4.7</td>\n",
       "      <td>3.2</td>\n",
       "      <td>1.3</td>\n",
       "      <td>0.2</td>\n",
       "      <td>Iris-setosa</td>\n",
       "    </tr>\n",
       "    <tr>\n",
       "      <th>3</th>\n",
       "      <td>4.6</td>\n",
       "      <td>3.1</td>\n",
       "      <td>1.5</td>\n",
       "      <td>0.2</td>\n",
       "      <td>Iris-setosa</td>\n",
       "    </tr>\n",
       "    <tr>\n",
       "      <th>4</th>\n",
       "      <td>5.0</td>\n",
       "      <td>3.6</td>\n",
       "      <td>1.4</td>\n",
       "      <td>0.2</td>\n",
       "      <td>Iris-setosa</td>\n",
       "    </tr>\n",
       "  </tbody>\n",
       "</table>\n",
       "</div>"
      ],
      "text/plain": [
       "   sepal_length  sepal_width  petal_length  petal_width        class\n",
       "0           5.1          3.5           1.4          0.2  Iris-setosa\n",
       "1           4.9          3.0           1.4          0.2  Iris-setosa\n",
       "2           4.7          3.2           1.3          0.2  Iris-setosa\n",
       "3           4.6          3.1           1.5          0.2  Iris-setosa\n",
       "4           5.0          3.6           1.4          0.2  Iris-setosa"
      ]
     },
     "execution_count": 3,
     "metadata": {},
     "output_type": "execute_result"
    }
   ],
   "source": [
    "cols = ['sepal_length', 'sepal_width', 'petal_length', 'petal_width', 'class']\n",
    "df = pd.read_csv(\"iris.data\", header = None, names = cols)\n",
    "df.head(5)"
   ]
  },
  {
   "cell_type": "markdown",
   "metadata": {},
   "source": [
    "We can visualize the initial dataset to better see the distributions of attributes and how they relate to their classes."
   ]
  },
  {
   "cell_type": "code",
   "execution_count": 4,
   "metadata": {},
   "outputs": [
    {
     "data": {
      "image/png": "[encoded data removed]",
      "text/plain": [
       "<Figure size 1080x360 with 2 Axes>"
      ]
     },
     "metadata": {
      "needs_background": "light"
     },
     "output_type": "display_data"
    }
   ],
   "source": [
    "iris_class=['sentosa','versicolor','virginica']\n",
    "colors=['blue','red','green']\n",
    "labels=df['class'].unique()\n",
    "\n",
    "for k in range(len(labels)):\n",
    "    iris_class[k]=df[df['class'] == labels[k]]\n",
    "\n",
    "# Plotting the distribution\n",
    "fig, ax = plt.subplots(1, 2, figsize=(15, 5))\n",
    "fig.suptitle('Iris Dataset Distribution', fontsize=20)\n",
    "for i in range(len(iris_class)):\n",
    "    ax[0].scatter(iris_class[i].sepal_length, iris_class[i].sepal_width, c=colors[i], label = labels[i])\n",
    "    ax[0].set_title(\"Sepal Length vs Sepal Width\")\n",
    "    ax[0].set_xlabel('Sepal Length')\n",
    "    ax[0].set_ylabel('Sepal Width')\n",
    "    ax[0].legend()\n",
    "    \n",
    "    ax[1].scatter(iris_class[i].petal_length, iris_class[i].petal_width, c=colors[i], label = labels[i])\n",
    "    ax[1].set_title(\"Petal Length vs Petal Width\")\n",
    "    ax[1].set_xlabel('Petal Length')\n",
    "    ax[1].set_ylabel('Petal Width')\n",
    "    ax[1].legend()\n",
    "    \n",
    "plt.show()"
   ]
  },
  {
   "cell_type": "markdown",
   "metadata": {},
   "source": [
    "The current dataset values are all bunched up together, so we can shuffle the data. Then, convert the target column \"class\" from string to integers."
   ]
  },
  {
   "cell_type": "code",
   "execution_count": 5,
   "metadata": {},
   "outputs": [
    {
     "data": {
      "text/html": [
       "<div>\n",
       "<style scoped>\n",
       "    .dataframe tbody tr th:only-of-type {\n",
       "        vertical-align: middle;\n",
       "    }\n",
       "\n",
       "    .dataframe tbody tr th {\n",
       "        vertical-align: top;\n",
       "    }\n",
       "\n",
       "    .dataframe thead th {\n",
       "        text-align: right;\n",
       "    }\n",
       "</style>\n",
       "<table border=\"1\" class=\"dataframe\">\n",
       "  <thead>\n",
       "    <tr style=\"text-align: right;\">\n",
       "      <th></th>\n",
       "      <th>sepal_length</th>\n",
       "      <th>sepal_width</th>\n",
       "      <th>petal_length</th>\n",
       "      <th>petal_width</th>\n",
       "      <th>class</th>\n",
       "    </tr>\n",
       "  </thead>\n",
       "  <tbody>\n",
       "    <tr>\n",
       "      <th>0</th>\n",
       "      <td>7.2</td>\n",
       "      <td>3.2</td>\n",
       "      <td>6.0</td>\n",
       "      <td>1.8</td>\n",
       "      <td>2</td>\n",
       "    </tr>\n",
       "    <tr>\n",
       "      <th>1</th>\n",
       "      <td>5.2</td>\n",
       "      <td>3.5</td>\n",
       "      <td>1.5</td>\n",
       "      <td>0.2</td>\n",
       "      <td>0</td>\n",
       "    </tr>\n",
       "    <tr>\n",
       "      <th>2</th>\n",
       "      <td>6.3</td>\n",
       "      <td>3.3</td>\n",
       "      <td>6.0</td>\n",
       "      <td>2.5</td>\n",
       "      <td>2</td>\n",
       "    </tr>\n",
       "    <tr>\n",
       "      <th>3</th>\n",
       "      <td>6.3</td>\n",
       "      <td>2.5</td>\n",
       "      <td>5.0</td>\n",
       "      <td>1.9</td>\n",
       "      <td>2</td>\n",
       "    </tr>\n",
       "    <tr>\n",
       "      <th>4</th>\n",
       "      <td>7.6</td>\n",
       "      <td>3.0</td>\n",
       "      <td>6.6</td>\n",
       "      <td>2.1</td>\n",
       "      <td>2</td>\n",
       "    </tr>\n",
       "  </tbody>\n",
       "</table>\n",
       "</div>"
      ],
      "text/plain": [
       "   sepal_length  sepal_width  petal_length  petal_width  class\n",
       "0           7.2          3.2           6.0          1.8      2\n",
       "1           5.2          3.5           1.5          0.2      0\n",
       "2           6.3          3.3           6.0          2.5      2\n",
       "3           6.3          2.5           5.0          1.9      2\n",
       "4           7.6          3.0           6.6          2.1      2"
      ]
     },
     "execution_count": 5,
     "metadata": {},
     "output_type": "execute_result"
    }
   ],
   "source": [
    "# Shuffle and replace string with integers\n",
    "df1 = df.sample(frac=1).reset_index(drop=True)\n",
    "df1['class'] = df1['class'].map({'Iris-setosa': 0, 'Iris-versicolor': 1, 'Iris-virginica': 2})\n",
    "df1.head(5)"
   ]
  },
  {
   "cell_type": "code",
   "execution_count": 6,
   "metadata": {},
   "outputs": [
    {
     "data": {
      "text/html": [
       "<div>\n",
       "<style scoped>\n",
       "    .dataframe tbody tr th:only-of-type {\n",
       "        vertical-align: middle;\n",
       "    }\n",
       "\n",
       "    .dataframe tbody tr th {\n",
       "        vertical-align: top;\n",
       "    }\n",
       "\n",
       "    .dataframe thead th {\n",
       "        text-align: right;\n",
       "    }\n",
       "</style>\n",
       "<table border=\"1\" class=\"dataframe\">\n",
       "  <thead>\n",
       "    <tr style=\"text-align: right;\">\n",
       "      <th></th>\n",
       "      <th>sepal_length</th>\n",
       "      <th>sepal_width</th>\n",
       "      <th>petal_length</th>\n",
       "      <th>petal_width</th>\n",
       "      <th>class</th>\n",
       "    </tr>\n",
       "  </thead>\n",
       "  <tbody>\n",
       "    <tr>\n",
       "      <th>0</th>\n",
       "      <td>1.643844</td>\n",
       "      <td>0.337848</td>\n",
       "      <td>1.274550</td>\n",
       "      <td>0.790591</td>\n",
       "      <td>2</td>\n",
       "    </tr>\n",
       "    <tr>\n",
       "      <th>1</th>\n",
       "      <td>-0.779513</td>\n",
       "      <td>1.032057</td>\n",
       "      <td>-1.284407</td>\n",
       "      <td>-1.312977</td>\n",
       "      <td>0</td>\n",
       "    </tr>\n",
       "    <tr>\n",
       "      <th>2</th>\n",
       "      <td>0.553333</td>\n",
       "      <td>0.569251</td>\n",
       "      <td>1.274550</td>\n",
       "      <td>1.710902</td>\n",
       "      <td>2</td>\n",
       "    </tr>\n",
       "    <tr>\n",
       "      <th>3</th>\n",
       "      <td>0.553333</td>\n",
       "      <td>-1.281972</td>\n",
       "      <td>0.705893</td>\n",
       "      <td>0.922064</td>\n",
       "      <td>2</td>\n",
       "    </tr>\n",
       "    <tr>\n",
       "      <th>4</th>\n",
       "      <td>2.128516</td>\n",
       "      <td>-0.124958</td>\n",
       "      <td>1.615744</td>\n",
       "      <td>1.185010</td>\n",
       "      <td>2</td>\n",
       "    </tr>\n",
       "  </tbody>\n",
       "</table>\n",
       "</div>"
      ],
      "text/plain": [
       "   sepal_length  sepal_width  petal_length  petal_width  class\n",
       "0      1.643844     0.337848      1.274550     0.790591      2\n",
       "1     -0.779513     1.032057     -1.284407    -1.312977      0\n",
       "2      0.553333     0.569251      1.274550     1.710902      2\n",
       "3      0.553333    -1.281972      0.705893     0.922064      2\n",
       "4      2.128516    -0.124958      1.615744     1.185010      2"
      ]
     },
     "execution_count": 6,
     "metadata": {},
     "output_type": "execute_result"
    }
   ],
   "source": [
    "df2 = df1.iloc[:,:4].apply(lambda x: normalize(x), axis=0)\n",
    "df2['class'] = df1['class']\n",
    "df2.head(5)"
   ]
  },
  {
   "cell_type": "code",
   "execution_count": 7,
   "metadata": {},
   "outputs": [],
   "source": [
    "# Split out into X (features) and Y (target)\n",
    "dfx = df2.iloc[:, :4]\n",
    "dfy = df2.iloc[:, -1]"
   ]
  },
  {
   "cell_type": "code",
   "execution_count": 42,
   "metadata": {},
   "outputs": [
    {
     "name": "stdout",
     "output_type": "stream",
     "text": [
      "\n",
      "Shape of x_train: (105, 4) ; Shape of y_train: (105,)\n",
      "\n",
      "Shape of x_test: (45, 4) ; Shape of y_test: (45,)\n"
     ]
    }
   ],
   "source": [
    "# Its important to use the same random split, as my train/test split returns a different output each time due to random mask \n",
    "# k-NN computes the distances based on the location, hence the optimum value of k may change after rerun \n",
    "# Its not an issue, just to keep in mind this would cause my pdf report to be different from the code output \n",
    "# if random seed is not set\n",
    "np.random.seed(19)\n",
    "X_train, y_train, X_test, y_test = train_test_split(dfx, dfy)"
   ]
  },
  {
   "cell_type": "markdown",
   "metadata": {},
   "source": [
    "## Part 2: Implement K-Nearest Neighbor (KNN)"
   ]
  },
  {
   "cell_type": "markdown",
   "metadata": {},
   "source": [
    "**K-Nearest Neighbours Algorithm**\n",
    "\n",
    "This algorithm is for classifying a test set to its predicted label, based on the distance measure among train sets [2]. For training, the classifier takes the training data and simply remembers it. Hence there is no \"learning tasks\" unlike previously implemented linear models. For testing, k-NN classifies every test set by comparing to all train sets and transfering the labels of the k-most similar training examples. The algorithm mainly follows the lecture slides below, and from [3]. The main steps are:\n",
    "1. Compute distances between all test examples and all train examples.\n",
    "2. With those distances, for each test example we find the **k-nearest** examples and have them vote for the label.\n",
    "\n",
    "<img src=\"https://i.imgur.com/XWkzf4h.jpg\" width=\"45%\" align=\"left\"/>\n",
    "<img src=\"https://i.imgur.com/mIDZ6gn.jpg\" width=\"45%\" align=\"left\"/>"
   ]
  },
  {
   "cell_type": "markdown",
   "metadata": {},
   "source": [
    "**Distance measure**\n",
    "\n",
    "For the distance measure, we are using the **Euclidean Distance**, which is also the L2 distance:\n",
    "\n",
    "\\begin{equation*}\n",
    "d(x,x') = \\sqrt{{(x_1-x'_2)}^2 +...+ {(x_n-x'_n)}^2}\n",
    "\\end{equation*}"
   ]
  },
  {
   "cell_type": "code",
   "execution_count": 9,
   "metadata": {},
   "outputs": [],
   "source": [
    "def euclidean_dist(x1, x2):\n",
    "    dist = np.sum(np.sqrt(np.square(x1 - x2)))\n",
    "    return dist"
   ]
  },
  {
   "cell_type": "markdown",
   "metadata": {},
   "source": [
    "**Scoring criteria**\n",
    "\n",
    "For scoring criteria, as the Iris Dataset is a classification based task, we can apply an accuracy score and missclassification score. From sklearn.metrics.accuracy_score [5], we can recreate it and evaluate our KNN classifier model based on it. Basically it compares the number of matching counts from predicted label to the ground truth."
   ]
  },
  {
   "cell_type": "code",
   "execution_count": 10,
   "metadata": {},
   "outputs": [],
   "source": [
    "def acc_score(ytest_hat, ytest):\n",
    "    acc = np.sum(ytest_hat == y_test) / len(y_test)\n",
    "    return acc"
   ]
  },
  {
   "cell_type": "markdown",
   "metadata": {},
   "source": [
    "**Error criteria**\n",
    "\n",
    "Besides simply scoring the model, we can show the *misclassification rate* which is the proportion of misclassified observations [6]:\n",
    "\n",
    "\\begin{equation*}\n",
    "\\frac{1}{n}\\sum{I(y_i \\neq y_i')}\n",
    "\\end{equation*}"
   ]
  },
  {
   "cell_type": "code",
   "execution_count": 11,
   "metadata": {},
   "outputs": [],
   "source": [
    "def misclassification(ytest_hat, ytest):\n",
    "    misclass = np.round(1 - acc_score(ytest_hat, ytest), 5)\n",
    "    return misclass"
   ]
  },
  {
   "cell_type": "code",
   "execution_count": 12,
   "metadata": {},
   "outputs": [],
   "source": [
    "def argmin_k(X_train, y_train, x_test, k):\n",
    "    \"\"\"Function to calculate the array of distances, then sort by ascending order. \n",
    "    \n",
    "    Input: X , y, xtest, k= number of nearest neighbour to compare and search distances\n",
    "    Ouput: K-nearest neighbors, which are the first K distances), associated targel label\n",
    "    \n",
    "    Returns the argmax, the majority vote using python Counter.\n",
    "    \n",
    "    \"\"\"\n",
    "    distance_hist, target_label = [], []\n",
    "\n",
    "    for i in range(len(X_train)):\n",
    "        dist = euclidean_dist(x_test , X_train[i, :])\n",
    "        distance_hist.append([dist, i])\n",
    "\n",
    "    # Sorting in ascending order, meaning the shortest distance\n",
    "    sorted_distance_hist = sorted(distance_hist)\n",
    "\n",
    "    # This is our specified number of 'K' nearest neighbours to investigate the computed distance\n",
    "    for i in range(k):\n",
    "        index = sorted_distance_hist[i][1]\n",
    "        target_label.append(y_train[index])\n",
    "\n",
    "    # Counting the most common N (1), taken from [4]\n",
    "    common_nn = Counter(target_label).most_common(1)[0][0]\n",
    "    return common_nn"
   ]
  },
  {
   "cell_type": "code",
   "execution_count": 13,
   "metadata": {},
   "outputs": [],
   "source": [
    "def predict_knn_class(X_train, y_train, X_test, k):\n",
    "    predicted_labels = []\n",
    "\n",
    "    # loop over all observations\n",
    "    for i in range(len(X_test)):\n",
    "        labels = argmin_k(X_train, y_train, X_test[i, :], k)\n",
    "        predicted_labels.append(labels)\n",
    "    \n",
    "    return predicted_labels"
   ]
  },
  {
   "cell_type": "code",
   "execution_count": 43,
   "metadata": {},
   "outputs": [
    {
     "name": "stdout",
     "output_type": "stream",
     "text": [
      "K-NN Classifier model accuracy for \"k\" = 1 -----> 95.5556% & misclassification error of 0.04444\n",
      "K-NN Classifier model accuracy for \"k\" = 2 -----> 95.5556% & misclassification error of 0.04444\n",
      "K-NN Classifier model accuracy for \"k\" = 3 -----> 95.5556% & misclassification error of 0.04444\n",
      "K-NN Classifier model accuracy for \"k\" = 5 -----> 95.5556% & misclassification error of 0.04444\n",
      "K-NN Classifier model accuracy for \"k\" = 7 -----> 95.5556% & misclassification error of 0.04444\n",
      "K-NN Classifier model accuracy for \"k\" = 10 -----> 95.5556% & misclassification error of 0.04444\n",
      "K-NN Classifier model accuracy for \"k\" = 20 -----> 95.5556% & misclassification error of 0.04444\n",
      "K-NN Classifier model accuracy for \"k\" = 50 -----> 91.1111% & misclassification error of 0.08889\n",
      "K-NN Classifier model accuracy for \"k\" = 80 -----> 80.0000% & misclassification error of 0.2\n"
     ]
    }
   ],
   "source": [
    "# Manually testing values of k\n",
    "k=[1,2,3,5,7,10,20,50,80]\n",
    "\n",
    "acc_hist, misclass_hist = [], []\n",
    "\n",
    "for i in range(len(k)):\n",
    "    ytest_hat = predict_knn_class(X_train, y_train, X_test, k[i])\n",
    "    acc = acc_score(ytest_hat, y_test) * 100\n",
    "    misclass = misclassification(ytest_hat, y_test)\n",
    "    \n",
    "    acc_hist.append(acc)\n",
    "    misclass_hist.append(misclass)\n",
    "    \n",
    "    print ('K-NN Classifier model accuracy for \"k\" = {} -----> {:0.4f}% & misclassification error of {}'\n",
    "           .format(k[i], acc, misclass))"
   ]
  },
  {
   "cell_type": "code",
   "execution_count": 33,
   "metadata": {},
   "outputs": [
    {
     "data": {
      "image/png": "[encoded data removed]",
      "text/plain": [
       "<Figure size 1080x360 with 2 Axes>"
      ]
     },
     "metadata": {
      "needs_background": "light"
     },
     "output_type": "display_data"
    }
   ],
   "source": [
    "fig, ax = plt.subplots(1, 2, figsize=(15, 5))\n",
    "fig.suptitle('K-NN Classifier performance with random \"k\"')\n",
    "ax[0].plot(k, acc_hist, linestyle='dashed', marker='o', color='blue')\n",
    "ax[0].set_title(\"Model Accuracy against k\")\n",
    "ax[0].set_xlabel('k')\n",
    "ax[0].set_ylabel('Accuracy')\n",
    " \n",
    "ax[1].plot(k, misclass_hist, color='red')\n",
    "ax[1].set_title(\"Misclassification error\")\n",
    "ax[1].set_xlabel('k')\n",
    "ax[1].set_ylabel('Error')\n",
    "\n",
    "plt.show()"
   ]
  },
  {
   "cell_type": "markdown",
   "metadata": {},
   "source": [
    "Anyway we are simply inputting manual values for *'k'* without discovering the optimum values. Having said that, let's check the predicted labels for a sample value of *'k' = 5*."
   ]
  },
  {
   "cell_type": "code",
   "execution_count": 34,
   "metadata": {},
   "outputs": [
    {
     "data": {
      "text/html": [
       "<div>\n",
       "<style scoped>\n",
       "    .dataframe tbody tr th:only-of-type {\n",
       "        vertical-align: middle;\n",
       "    }\n",
       "\n",
       "    .dataframe tbody tr th {\n",
       "        vertical-align: top;\n",
       "    }\n",
       "\n",
       "    .dataframe thead th {\n",
       "        text-align: right;\n",
       "    }\n",
       "</style>\n",
       "<table border=\"1\" class=\"dataframe\">\n",
       "  <thead>\n",
       "    <tr style=\"text-align: right;\">\n",
       "      <th></th>\n",
       "      <th>Features</th>\n",
       "      <th>Ground Truth</th>\n",
       "      <th>Predicted Class</th>\n",
       "      <th>Ground Truth Label</th>\n",
       "      <th>Predicted Label</th>\n",
       "    </tr>\n",
       "  </thead>\n",
       "  <tbody>\n",
       "    <tr>\n",
       "      <th>0</th>\n",
       "      <td>[2.1285, -0.125, 1.6157, 1.185]</td>\n",
       "      <td>2</td>\n",
       "      <td>2</td>\n",
       "      <td>Iris-virginica</td>\n",
       "      <td>Iris-virginica</td>\n",
       "    </tr>\n",
       "    <tr>\n",
       "      <th>1</th>\n",
       "      <td>[-0.9007, 1.7263, -1.2844, -1.1815]</td>\n",
       "      <td>0</td>\n",
       "      <td>0</td>\n",
       "      <td>Iris-setosa</td>\n",
       "      <td>Iris-setosa</td>\n",
       "    </tr>\n",
       "    <tr>\n",
       "      <th>2</th>\n",
       "      <td>[-1.7489, 0.3378, -1.3981, -1.313]</td>\n",
       "      <td>0</td>\n",
       "      <td>0</td>\n",
       "      <td>Iris-setosa</td>\n",
       "      <td>Iris-setosa</td>\n",
       "    </tr>\n",
       "    <tr>\n",
       "      <th>3</th>\n",
       "      <td>[0.6745, -0.5878, 1.0471, 1.3165]</td>\n",
       "      <td>2</td>\n",
       "      <td>2</td>\n",
       "      <td>Iris-virginica</td>\n",
       "      <td>Iris-virginica</td>\n",
       "    </tr>\n",
       "    <tr>\n",
       "      <th>4</th>\n",
       "      <td>[-1.143, 0.1064, -1.2844, -1.4444]</td>\n",
       "      <td>0</td>\n",
       "      <td>0</td>\n",
       "      <td>Iris-setosa</td>\n",
       "      <td>Iris-setosa</td>\n",
       "    </tr>\n",
       "    <tr>\n",
       "      <th>5</th>\n",
       "      <td>[-0.2948, -0.125, 0.4216, 0.3962]</td>\n",
       "      <td>1</td>\n",
       "      <td>1</td>\n",
       "      <td>Iris-versicolor</td>\n",
       "      <td>Iris-versicolor</td>\n",
       "    </tr>\n",
       "    <tr>\n",
       "      <th>6</th>\n",
       "      <td>[0.4322, -1.9762, 0.4216, 0.3962]</td>\n",
       "      <td>1</td>\n",
       "      <td>1</td>\n",
       "      <td>Iris-versicolor</td>\n",
       "      <td>Iris-versicolor</td>\n",
       "    </tr>\n",
       "    <tr>\n",
       "      <th>7</th>\n",
       "      <td>[0.7957, -0.125, 1.1608, 1.3165]</td>\n",
       "      <td>2</td>\n",
       "      <td>2</td>\n",
       "      <td>Iris-virginica</td>\n",
       "      <td>Iris-virginica</td>\n",
       "    </tr>\n",
       "    <tr>\n",
       "      <th>8</th>\n",
       "      <td>[-1.0218, 1.0321, -1.3981, -1.1815]</td>\n",
       "      <td>0</td>\n",
       "      <td>0</td>\n",
       "      <td>Iris-setosa</td>\n",
       "      <td>Iris-setosa</td>\n",
       "    </tr>\n",
       "    <tr>\n",
       "      <th>9</th>\n",
       "      <td>[1.2803, 0.1064, 0.649, 0.3962]</td>\n",
       "      <td>1</td>\n",
       "      <td>1</td>\n",
       "      <td>Iris-versicolor</td>\n",
       "      <td>Iris-versicolor</td>\n",
       "    </tr>\n",
       "  </tbody>\n",
       "</table>\n",
       "</div>"
      ],
      "text/plain": [
       "                              Features  Ground Truth  Predicted Class  \\\n",
       "0      [2.1285, -0.125, 1.6157, 1.185]             2                2   \n",
       "1  [-0.9007, 1.7263, -1.2844, -1.1815]             0                0   \n",
       "2   [-1.7489, 0.3378, -1.3981, -1.313]             0                0   \n",
       "3    [0.6745, -0.5878, 1.0471, 1.3165]             2                2   \n",
       "4   [-1.143, 0.1064, -1.2844, -1.4444]             0                0   \n",
       "5    [-0.2948, -0.125, 0.4216, 0.3962]             1                1   \n",
       "6    [0.4322, -1.9762, 0.4216, 0.3962]             1                1   \n",
       "7     [0.7957, -0.125, 1.1608, 1.3165]             2                2   \n",
       "8  [-1.0218, 1.0321, -1.3981, -1.1815]             0                0   \n",
       "9      [1.2803, 0.1064, 0.649, 0.3962]             1                1   \n",
       "\n",
       "  Ground Truth Label  Predicted Label  \n",
       "0     Iris-virginica   Iris-virginica  \n",
       "1        Iris-setosa      Iris-setosa  \n",
       "2        Iris-setosa      Iris-setosa  \n",
       "3     Iris-virginica   Iris-virginica  \n",
       "4        Iris-setosa      Iris-setosa  \n",
       "5    Iris-versicolor  Iris-versicolor  \n",
       "6    Iris-versicolor  Iris-versicolor  \n",
       "7     Iris-virginica   Iris-virginica  \n",
       "8        Iris-setosa      Iris-setosa  \n",
       "9    Iris-versicolor  Iris-versicolor  "
      ]
     },
     "execution_count": 34,
     "metadata": {},
     "output_type": "execute_result"
    }
   ],
   "source": [
    "ytest_hat = predict_knn_class(X_train, y_train, X_test, 5)\n",
    "\n",
    "class_map={0:'Iris-setosa', 1:'Iris-versicolor', 2:'Iris-virginica'}\n",
    "df_labels = pd.DataFrame({'Features':np.round(X_test,4).tolist(), 'Ground Truth':y_test, 'Predicted Class': ytest_hat})\n",
    "df_labels['Ground Truth Label'] = df_labels['Ground Truth'].map(class_map)\n",
    "df_labels['Predicted Label'] = df_labels['Predicted Class'].map(class_map)\n",
    "df_labels.head(10)"
   ]
  },
  {
   "cell_type": "markdown",
   "metadata": {},
   "source": [
    "## Part 2: Determine Optimal Value of K in KNN algorithm"
   ]
  },
  {
   "cell_type": "markdown",
   "metadata": {},
   "source": [
    "We can use k-folds cross-validation with Grid-Search technique to tune our hyperparameter $k$ and find the optimal value of $k$. Since the Iris dataset is not large, we can exhaustively run the k-nearest-neighbor algorithm for chosen k-fold (default 5) times. Meaning, in each case we use all but one of the folds as training data and the last fold as a validation set. Then the prediction is done on that set, and the related accuracies are computed.\n",
    "\n",
    "The code adapted from [2] and [7]."
   ]
  },
  {
   "cell_type": "code",
   "execution_count": 35,
   "metadata": {},
   "outputs": [],
   "source": [
    "def kfolds_cv(X_train, y_train, k_folds, k_list):\n",
    "    \"\"\"Function to have k-folds cross validation on the training dataset\n",
    "    \n",
    "    Input: X, y, number of k-folds (default - 5), possible choices for k, not to exceed length of X\n",
    "    \n",
    "    Split the training data into folds, where X_folds and y_folds are arrays of length k-folds. y_fold[i] will be the \n",
    "    label vector for datapoints in X_fold[i]. Predicted labels and related accuracy are computed and stored in a dict. \n",
    "    \n",
    "    Output: k_to_accuracies[k] a list of length num_folds giving the different accuracy values that we found \n",
    "    when using that value of k.\n",
    "    \"\"\"\n",
    "    n_split = X_train.shape[0] / k_folds\n",
    "    \n",
    "    X_train_folds, y_train_folds = [], []\n",
    "    \n",
    "    X_train_folds = np.array_split(X_train, k_folds)\n",
    "    y_train_folds = np.array_split(y_train, k_folds)\n",
    "    \n",
    "    k_to_accuracies = {}  # Dict\n",
    "    \n",
    "    acc_k = np.zeros((len(k_list), k_folds), dtype=np.float)\n",
    "    \n",
    "    for j, k in enumerate(k_list):\n",
    "        for i in range(k_folds):\n",
    "            X_train_cv = np.concatenate((X_train_folds[:i]+X_train_folds[i+1:]))\n",
    "            y_train_cv = np.concatenate((y_train_folds[:i]+y_train_folds[i+1:]))\n",
    "            ytest_hat = predict_knn_class(X_train_cv, y_train_cv, X_train_folds[i], k=k)       \n",
    "            acc_k[j, i] = float(np.sum(ytest_hat == y_train_folds[i])) / n_split\n",
    "        k_to_accuracies[k] = acc_k[j]\n",
    "    \n",
    "    return k_to_accuracies"
   ]
  },
  {
   "cell_type": "code",
   "execution_count": 44,
   "metadata": {},
   "outputs": [
    {
     "name": "stdout",
     "output_type": "stream",
     "text": [
      "For k = 1; Classifier model accuracy = 0.857143\n",
      "For k = 1; Classifier model accuracy = 0.952381\n",
      "For k = 1; Classifier model accuracy = 1.000000\n",
      "For k = 1; Classifier model accuracy = 1.000000\n",
      "For k = 1; Classifier model accuracy = 0.952381\n",
      "For k = 2; Classifier model accuracy = 0.857143\n",
      "For k = 2; Classifier model accuracy = 0.952381\n",
      "For k = 2; Classifier model accuracy = 1.000000\n",
      "For k = 2; Classifier model accuracy = 1.000000\n",
      "For k = 2; Classifier model accuracy = 0.952381\n",
      "For k = 3; Classifier model accuracy = 0.809524\n",
      "For k = 3; Classifier model accuracy = 0.952381\n",
      "For k = 3; Classifier model accuracy = 1.000000\n",
      "For k = 3; Classifier model accuracy = 0.952381\n",
      "For k = 3; Classifier model accuracy = 1.000000\n",
      "For k = 4; Classifier model accuracy = 0.857143\n",
      "For k = 4; Classifier model accuracy = 0.952381\n",
      "For k = 4; Classifier model accuracy = 1.000000\n",
      "For k = 4; Classifier model accuracy = 0.952381\n",
      "For k = 4; Classifier model accuracy = 1.000000\n",
      "For k = 5; Classifier model accuracy = 0.904762\n",
      "For k = 5; Classifier model accuracy = 0.952381\n",
      "For k = 5; Classifier model accuracy = 1.000000\n",
      "For k = 5; Classifier model accuracy = 0.952381\n",
      "For k = 5; Classifier model accuracy = 1.000000\n",
      "For k = 6; Classifier model accuracy = 0.857143\n",
      "For k = 6; Classifier model accuracy = 0.952381\n",
      "For k = 6; Classifier model accuracy = 1.000000\n",
      "For k = 6; Classifier model accuracy = 0.952381\n",
      "For k = 6; Classifier model accuracy = 1.000000\n",
      "For k = 7; Classifier model accuracy = 0.904762\n",
      "For k = 7; Classifier model accuracy = 0.952381\n",
      "For k = 7; Classifier model accuracy = 1.000000\n",
      "For k = 7; Classifier model accuracy = 0.952381\n",
      "For k = 7; Classifier model accuracy = 1.000000\n",
      "For k = 8; Classifier model accuracy = 0.857143\n",
      "For k = 8; Classifier model accuracy = 0.952381\n",
      "For k = 8; Classifier model accuracy = 1.000000\n",
      "For k = 8; Classifier model accuracy = 0.952381\n",
      "For k = 8; Classifier model accuracy = 1.000000\n",
      "For k = 9; Classifier model accuracy = 0.857143\n",
      "For k = 9; Classifier model accuracy = 0.952381\n",
      "For k = 9; Classifier model accuracy = 1.000000\n",
      "For k = 9; Classifier model accuracy = 0.952381\n",
      "For k = 9; Classifier model accuracy = 1.000000\n",
      "For k = 10; Classifier model accuracy = 0.857143\n",
      "For k = 10; Classifier model accuracy = 0.952381\n",
      "For k = 10; Classifier model accuracy = 1.000000\n",
      "For k = 10; Classifier model accuracy = 0.952381\n",
      "For k = 10; Classifier model accuracy = 1.000000\n",
      "For k = 12; Classifier model accuracy = 0.904762\n",
      "For k = 12; Classifier model accuracy = 0.952381\n",
      "For k = 12; Classifier model accuracy = 1.000000\n",
      "For k = 12; Classifier model accuracy = 0.952381\n",
      "For k = 12; Classifier model accuracy = 1.000000\n",
      "For k = 15; Classifier model accuracy = 0.857143\n",
      "For k = 15; Classifier model accuracy = 0.952381\n",
      "For k = 15; Classifier model accuracy = 1.000000\n",
      "For k = 15; Classifier model accuracy = 1.000000\n",
      "For k = 15; Classifier model accuracy = 1.000000\n",
      "For k = 20; Classifier model accuracy = 0.857143\n",
      "For k = 20; Classifier model accuracy = 0.952381\n",
      "For k = 20; Classifier model accuracy = 1.000000\n",
      "For k = 20; Classifier model accuracy = 1.000000\n",
      "For k = 20; Classifier model accuracy = 0.952381\n",
      "For k = 50; Classifier model accuracy = 0.904762\n",
      "For k = 50; Classifier model accuracy = 0.857143\n",
      "For k = 50; Classifier model accuracy = 0.809524\n",
      "For k = 50; Classifier model accuracy = 0.809524\n",
      "For k = 50; Classifier model accuracy = 0.904762\n"
     ]
    }
   ],
   "source": [
    "# Range of hyperparameter 'k', not to be confused with k-folds of 5\n",
    "k_folds = 5\n",
    "k_list = [1, 2, 3, 4, 5, 6, 7, 8, 9, 10, 12, 15, 20, 50]\n",
    "\n",
    "k_to_accuracies = kfolds_cv(X_train, y_train, k_folds, k_list)\n",
    "\n",
    "for k in sorted(k_to_accuracies):\n",
    "    for accuracy in k_to_accuracies[k]:\n",
    "        print('For k = %d; Classifier model accuracy = %f' % (k, accuracy))"
   ]
  },
  {
   "cell_type": "code",
   "execution_count": 45,
   "metadata": {},
   "outputs": [
    {
     "name": "stdout",
     "output_type": "stream",
     "text": [
      "Dictionary values:\n",
      "k_accuracy[1] = [0.85714286 0.95238095 1.         1.         0.95238095]\n",
      "k_accuracy[2] = [0.85714286 0.95238095 1.         1.         0.95238095]\n",
      "k_accuracy[3] = [0.80952381 0.95238095 1.         0.95238095 1.        ]\n",
      "k_accuracy[4] = [0.85714286 0.95238095 1.         0.95238095 1.        ]\n",
      "k_accuracy[5] = [0.9047619  0.95238095 1.         0.95238095 1.        ]\n",
      "k_accuracy[6] = [0.85714286 0.95238095 1.         0.95238095 1.        ]\n",
      "k_accuracy[7] = [0.9047619  0.95238095 1.         0.95238095 1.        ]\n",
      "k_accuracy[8] = [0.85714286 0.95238095 1.         0.95238095 1.        ]\n",
      "k_accuracy[9] = [0.85714286 0.95238095 1.         0.95238095 1.        ]\n",
      "k_accuracy[10] = [0.85714286 0.95238095 1.         0.95238095 1.        ]\n",
      "k_accuracy[12] = [0.9047619  0.95238095 1.         0.95238095 1.        ]\n",
      "k_accuracy[15] = [0.85714286 0.95238095 1.         1.         1.        ]\n",
      "k_accuracy[20] = [0.85714286 0.95238095 1.         1.         0.95238095]\n",
      "k_accuracy[50] = [0.9047619  0.85714286 0.80952381 0.80952381 0.9047619 ]\n"
     ]
    }
   ],
   "source": [
    "print('Dictionary values:')\n",
    "for key,value in k_to_accuracies.items():\n",
    "    print(\"k_accuracy[%s] = %s\" % (key,value))\n"
   ]
  },
  {
   "cell_type": "markdown",
   "metadata": {},
   "source": [
    "So we get the list of accuracies, corresponding to our 5 folds of cross validation. Now we can plot the values, by computing the mean and standard deviation of the accuracy spreads."
   ]
  },
  {
   "cell_type": "code",
   "execution_count": 46,
   "metadata": {},
   "outputs": [
    {
     "data": {
      "image/png": "[encoded data removed]",
      "text/plain": [
       "<Figure size 1080x576 with 1 Axes>"
      ]
     },
     "metadata": {
      "needs_background": "light"
     },
     "output_type": "display_data"
    }
   ],
   "source": [
    "plt.figure(figsize=(15,8)) \n",
    "for k in k_list:\n",
    "    accuracies = k_to_accuracies[k]\n",
    "    plt.scatter([k] * len(accuracies), accuracies)\n",
    "\n",
    "accuracies_mean = np.array([np.mean(v) for k,v in sorted(k_to_accuracies.items())])\n",
    "accuracies_std = np.array([np.std(v) for k,v in sorted(k_to_accuracies.items())])\n",
    "plt.errorbar(k_list, accuracies_mean, yerr=accuracies_std)\n",
    "\n",
    "plt.title('Cross-Validation on possible K')\n",
    "plt.xlabel('K')\n",
    "plt.ylabel('Accuracy')\n",
    "plt.show()"
   ]
  },
  {
   "cell_type": "markdown",
   "metadata": {},
   "source": [
    "Based on the above, we can pick the best value of $k$, and run our K-NN Classifier model using that optimal value"
   ]
  },
  {
   "cell_type": "code",
   "execution_count": 52,
   "metadata": {},
   "outputs": [
    {
     "name": "stdout",
     "output_type": "stream",
     "text": [
      "K-NN Classifier model accuracy for \"k\" = 9 -----> 95.5556% & misclassification error of 0.04444\n"
     ]
    }
   ],
   "source": [
    "optimum_k = 9\n",
    "ytest_hat = predict_knn_class(X_train, y_train, X_test, optimum_k)\n",
    "acc = acc_score(ytest_hat, y_test) * 100\n",
    "misclass = misclassification(ytest_hat, y_test)\n",
    "print ('K-NN Classifier model accuracy for \"k\" = {} -----> {:0.4f}% & misclassification error of {}'\n",
    "       .format(optimum_k, acc, misclass))"
   ]
  },
  {
   "cell_type": "markdown",
   "metadata": {},
   "source": [
    "## Summary\n",
    "\n",
    "\n",
    "* We used k-NN for classification of the Iris dataset, to predict the class label given four observations.\n",
    "* There are multiple hyper-parameters (such as value of k, or the type of distance used to compare examples) that could be used.\n",
    "* For the distance measure, L2 distance or Euclidean distance was chosen. \n",
    "* The optimal value of $k$ was selected via cross-validation\n",
    "* Cross validation helps when there is a lack of training data, as it helps to reduce noise in estimating which hyperparameters work best.\n",
    "* After getting the optimal value of $k$ (there are few with same accuracy, hence we can choose randomly) we perform a single evaluation on the actual test set.\n",
    "* k-NN is simple to implement but requires to store the entire training set. Also it is computationally expensive to evaluate on a test set.\n",
    "* However, the Iris dataset is small enough, and the values are highly homogenous in a multidimensional setting. Hence it is very easy to obtain high accuracies (>90%) for a wide range of $k$ values.\n",
    "* **In fact depending on how is the arrangement of the training and test dataset after the random split, it is possible to achieve even 100% accuracy (which I get somtimes, due to the randomness of the shuffle).**"
   ]
  },
  {
   "cell_type": "markdown",
   "metadata": {},
   "source": [
    "## References\n",
    "\n",
    "[1] https://archive.ics.uci.edu/ml/datasets/Iris <br>\n",
    "[2] https://github.com/MahanFathi/CS231/blob/master/assignment1/knn.ipynb <br>\n",
    "[3] https://kevinzakka.github.io/2016/07/13/k-nearest-neighbor/ <br>\n",
    "[4] https://stackoverflow.com/questions/19850856/manipulating-counter-information-python-2-7 <br>\n",
    "[5] https://mahata.github.io/machine%20learning/2014/12/31/sklearn-accuracy_score/ <br>\n",
    "[6] https://stats.stackexchange.com/questions/146294/what-is-misclassification-rate-how-do-we-calculate-it <br>\n",
    "[7] https://medium.com/@avulurivenkatasaireddy/k-nearest-neighbors-and-implementation-on-iris-data-set-f5817dd33711 <br>\n",
    "[8] http://cs231n.github.io/classification/ <br>"
   ]
  }
 ],
 "metadata": {
  "kernelspec": {
   "display_name": "Python 3",
   "language": "python",
   "name": "python3"
  },
  "language_info": {
   "codemirror_mode": {
    "name": "ipython",
    "version": 3
   },
   "file_extension": ".py",
   "mimetype": "text/x-python",
   "name": "python",
   "nbconvert_exporter": "python",
   "pygments_lexer": "ipython3",
   "version": "3.7.3"
  }
 },
 "nbformat": 4,
 "nbformat_minor": 2
}

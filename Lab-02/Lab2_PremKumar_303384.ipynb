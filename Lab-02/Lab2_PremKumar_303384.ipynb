{
 "cells": [
  {
   "cell_type": "markdown",
   "metadata": {},
   "source": [
    "## 3115-Lab Programming Machine Learning\n",
    "\n",
    "### Lab Exercise 2\n",
    "**Yuvaraj Prem Kumar, 303384**"
   ]
  },
  {
   "cell_type": "markdown",
   "metadata": {},
   "source": [
    "### 1.1 Pandas (10 Points)"
   ]
  },
  {
   "cell_type": "markdown",
   "metadata": {},
   "source": [
    "Dataset Exploration: The 1985 Auto Imports Database is made up of information about the cars that\n",
    "were imported during the year 1987.\n",
    "\n",
    "* Load the data using pandas\n",
    "* Find the mean, median and standard deviation for each NUMERIC Column\n",
    "* Doing the above is obviously not the most ideal method since it gives no real information.\n",
    "* Group data by the field 'make'.\n",
    "    * Find the **average price** , **average highway-mpg** and **average city-mpg** for each make.\n",
    "    * Use a seaborn pairplot to visualize all int64 data types. Explain the plot, what information can we take out of it.\n",
    "    * Similar to the first exercise use city-mpg as your dependant variable and engine-size as the independent value. Fit a line, use scatterplot for the data points and plot the line you predicted on top.\n",
    "    * Comment on the fit and explain if it is a good prediction? if not, why?"
   ]
  },
  {
   "cell_type": "code",
   "execution_count": 1,
   "metadata": {},
   "outputs": [],
   "source": [
    "import pandas as pd\n",
    "import numpy as np\n",
    "import matplotlib.pyplot as plt\n",
    "import seaborn as sns\n",
    "from IPython.display import display, Math\n",
    "%matplotlib inline"
   ]
  },
  {
   "cell_type": "markdown",
   "metadata": {},
   "source": [
    "From the description provided:\n",
    "\n",
    "\"This data set consists of three types of entities: <br>\n",
    "(a) the specification of an auto in terms of various characteristics <br>\n",
    "(b) its assigned insurance risk rating <br>\n",
    "(c) its normalized losses in use as compared to other cars.<br>\n",
    "The second rating corresponds to the degree to which the auto is more risky than its price indicates. Cars are initially assigned a risk factor symbol associated with its price.Then, if it is more risky (or less), this symbol is adjusted by moving it up (or down) the scale.  Actuarians call this process \"symboling\".  A value of +3 indicates that the auto is risky, -3 that it is probably pretty safe.\n",
    "The third factor is the relative average loss payment per insured vehicle year.  This value is normalized for all autos within a particular size classification (two-door small, station wagons, sports/speciality, etc...), and represents the average loss per car per year.\""
   ]
  },
  {
   "cell_type": "markdown",
   "metadata": {},
   "source": [
    "Most of the preprocessing will be done in Part 1.2. However first we need to load the data and provide the headers. The dataset contains many \"?\"/NaN values, but instead of dropping them, we can replace those values with the average of other values in that column."
   ]
  },
  {
   "cell_type": "code",
   "execution_count": 38,
   "metadata": {},
   "outputs": [
    {
     "data": {
      "text/html": [
       "<div>\n",
       "<style scoped>\n",
       "    .dataframe tbody tr th:only-of-type {\n",
       "        vertical-align: middle;\n",
       "    }\n",
       "\n",
       "    .dataframe tbody tr th {\n",
       "        vertical-align: top;\n",
       "    }\n",
       "\n",
       "    .dataframe thead th {\n",
       "        text-align: right;\n",
       "    }\n",
       "</style>\n",
       "<table border=\"1\" class=\"dataframe\">\n",
       "  <thead>\n",
       "    <tr style=\"text-align: right;\">\n",
       "      <th></th>\n",
       "      <th>Symboling</th>\n",
       "      <th>Normalized-losses</th>\n",
       "      <th>Make</th>\n",
       "      <th>Fuel-type</th>\n",
       "      <th>Aspiration</th>\n",
       "      <th>Num-of-doors</th>\n",
       "      <th>Body-style</th>\n",
       "      <th>Drive-wheels</th>\n",
       "      <th>Engine-location</th>\n",
       "      <th>Wheel-base</th>\n",
       "      <th>...</th>\n",
       "      <th>Engine-size</th>\n",
       "      <th>Fuel-system</th>\n",
       "      <th>Bore</th>\n",
       "      <th>Stroke</th>\n",
       "      <th>Compression-ratio</th>\n",
       "      <th>Horsepower</th>\n",
       "      <th>Peak-rpm</th>\n",
       "      <th>City-mpg</th>\n",
       "      <th>Highway-mpg</th>\n",
       "      <th>Price</th>\n",
       "    </tr>\n",
       "  </thead>\n",
       "  <tbody>\n",
       "    <tr>\n",
       "      <th>0</th>\n",
       "      <td>3</td>\n",
       "      <td>122.0</td>\n",
       "      <td>alfa-romero</td>\n",
       "      <td>gas</td>\n",
       "      <td>std</td>\n",
       "      <td>two</td>\n",
       "      <td>convertible</td>\n",
       "      <td>rwd</td>\n",
       "      <td>front</td>\n",
       "      <td>88.6</td>\n",
       "      <td>...</td>\n",
       "      <td>130</td>\n",
       "      <td>mpfi</td>\n",
       "      <td>3.47</td>\n",
       "      <td>2.68</td>\n",
       "      <td>9.0</td>\n",
       "      <td>111.0</td>\n",
       "      <td>5000.0</td>\n",
       "      <td>21</td>\n",
       "      <td>27</td>\n",
       "      <td>13495.0</td>\n",
       "    </tr>\n",
       "    <tr>\n",
       "      <th>1</th>\n",
       "      <td>3</td>\n",
       "      <td>122.0</td>\n",
       "      <td>alfa-romero</td>\n",
       "      <td>gas</td>\n",
       "      <td>std</td>\n",
       "      <td>two</td>\n",
       "      <td>convertible</td>\n",
       "      <td>rwd</td>\n",
       "      <td>front</td>\n",
       "      <td>88.6</td>\n",
       "      <td>...</td>\n",
       "      <td>130</td>\n",
       "      <td>mpfi</td>\n",
       "      <td>3.47</td>\n",
       "      <td>2.68</td>\n",
       "      <td>9.0</td>\n",
       "      <td>111.0</td>\n",
       "      <td>5000.0</td>\n",
       "      <td>21</td>\n",
       "      <td>27</td>\n",
       "      <td>16500.0</td>\n",
       "    </tr>\n",
       "    <tr>\n",
       "      <th>2</th>\n",
       "      <td>1</td>\n",
       "      <td>122.0</td>\n",
       "      <td>alfa-romero</td>\n",
       "      <td>gas</td>\n",
       "      <td>std</td>\n",
       "      <td>two</td>\n",
       "      <td>hatchback</td>\n",
       "      <td>rwd</td>\n",
       "      <td>front</td>\n",
       "      <td>94.5</td>\n",
       "      <td>...</td>\n",
       "      <td>152</td>\n",
       "      <td>mpfi</td>\n",
       "      <td>2.68</td>\n",
       "      <td>3.47</td>\n",
       "      <td>9.0</td>\n",
       "      <td>154.0</td>\n",
       "      <td>5000.0</td>\n",
       "      <td>19</td>\n",
       "      <td>26</td>\n",
       "      <td>16500.0</td>\n",
       "    </tr>\n",
       "    <tr>\n",
       "      <th>3</th>\n",
       "      <td>2</td>\n",
       "      <td>164.0</td>\n",
       "      <td>audi</td>\n",
       "      <td>gas</td>\n",
       "      <td>std</td>\n",
       "      <td>four</td>\n",
       "      <td>sedan</td>\n",
       "      <td>fwd</td>\n",
       "      <td>front</td>\n",
       "      <td>99.8</td>\n",
       "      <td>...</td>\n",
       "      <td>109</td>\n",
       "      <td>mpfi</td>\n",
       "      <td>3.19</td>\n",
       "      <td>3.40</td>\n",
       "      <td>10.0</td>\n",
       "      <td>102.0</td>\n",
       "      <td>5500.0</td>\n",
       "      <td>24</td>\n",
       "      <td>30</td>\n",
       "      <td>13950.0</td>\n",
       "    </tr>\n",
       "    <tr>\n",
       "      <th>4</th>\n",
       "      <td>2</td>\n",
       "      <td>164.0</td>\n",
       "      <td>audi</td>\n",
       "      <td>gas</td>\n",
       "      <td>std</td>\n",
       "      <td>four</td>\n",
       "      <td>sedan</td>\n",
       "      <td>4wd</td>\n",
       "      <td>front</td>\n",
       "      <td>99.4</td>\n",
       "      <td>...</td>\n",
       "      <td>136</td>\n",
       "      <td>mpfi</td>\n",
       "      <td>3.19</td>\n",
       "      <td>3.40</td>\n",
       "      <td>8.0</td>\n",
       "      <td>115.0</td>\n",
       "      <td>5500.0</td>\n",
       "      <td>18</td>\n",
       "      <td>22</td>\n",
       "      <td>17450.0</td>\n",
       "    </tr>\n",
       "  </tbody>\n",
       "</table>\n",
       "<p>5 rows × 26 columns</p>\n",
       "</div>"
      ],
      "text/plain": [
       "   Symboling  Normalized-losses         Make Fuel-type Aspiration  \\\n",
       "0          3              122.0  alfa-romero       gas        std   \n",
       "1          3              122.0  alfa-romero       gas        std   \n",
       "2          1              122.0  alfa-romero       gas        std   \n",
       "3          2              164.0         audi       gas        std   \n",
       "4          2              164.0         audi       gas        std   \n",
       "\n",
       "  Num-of-doors   Body-style Drive-wheels Engine-location  Wheel-base  ...  \\\n",
       "0          two  convertible          rwd           front        88.6  ...   \n",
       "1          two  convertible          rwd           front        88.6  ...   \n",
       "2          two    hatchback          rwd           front        94.5  ...   \n",
       "3         four        sedan          fwd           front        99.8  ...   \n",
       "4         four        sedan          4wd           front        99.4  ...   \n",
       "\n",
       "   Engine-size  Fuel-system  Bore  Stroke Compression-ratio Horsepower  \\\n",
       "0          130         mpfi  3.47    2.68               9.0      111.0   \n",
       "1          130         mpfi  3.47    2.68               9.0      111.0   \n",
       "2          152         mpfi  2.68    3.47               9.0      154.0   \n",
       "3          109         mpfi  3.19    3.40              10.0      102.0   \n",
       "4          136         mpfi  3.19    3.40               8.0      115.0   \n",
       "\n",
       "   Peak-rpm City-mpg  Highway-mpg    Price  \n",
       "0    5000.0       21           27  13495.0  \n",
       "1    5000.0       21           27  16500.0  \n",
       "2    5000.0       19           26  16500.0  \n",
       "3    5500.0       24           30  13950.0  \n",
       "4    5500.0       18           22  17450.0  \n",
       "\n",
       "[5 rows x 26 columns]"
      ]
     },
     "execution_count": 38,
     "metadata": {},
     "output_type": "execute_result"
    }
   ],
   "source": [
    "# Loading data with pandas. The column names follow \"imports-85.names\". \n",
    "# There is not much preprocessing steps here, that will be done in Question 1.2\n",
    "\n",
    "col_names = ['Symboling','Normalized-losses','Make','Fuel-type','Aspiration','Num-of-doors','Body-style','Drive-wheels',\n",
    "             'Engine-location','Wheel-base','Length','Width','Height','Curb-weight','Engine-type','Num-of-cylinders',\n",
    "             'Engine-size','Fuel-system','Bore','Stroke','Compression-ratio','Horsepower','Peak-rpm','City-mpg','Highway-mpg',\n",
    "            'Price']\n",
    "\n",
    "df = pd.read_csv('imports-85.data',header=None, na_values=\"?\", names=col_names)\n",
    "df = df.fillna(df.mean())  # Fill missing values with the average of other values [1]\n",
    "df.head(5)\n"
   ]
  },
  {
   "cell_type": "code",
   "execution_count": 3,
   "metadata": {},
   "outputs": [
    {
     "data": {
      "text/html": [
       "<div>\n",
       "<style scoped>\n",
       "    .dataframe tbody tr th:only-of-type {\n",
       "        vertical-align: middle;\n",
       "    }\n",
       "\n",
       "    .dataframe tbody tr th {\n",
       "        vertical-align: top;\n",
       "    }\n",
       "\n",
       "    .dataframe thead th {\n",
       "        text-align: right;\n",
       "    }\n",
       "</style>\n",
       "<table border=\"1\" class=\"dataframe\">\n",
       "  <thead>\n",
       "    <tr style=\"text-align: right;\">\n",
       "      <th></th>\n",
       "      <th>Symboling</th>\n",
       "      <th>Normalized-losses</th>\n",
       "      <th>Wheel-base</th>\n",
       "      <th>Length</th>\n",
       "      <th>Width</th>\n",
       "      <th>Height</th>\n",
       "      <th>Curb-weight</th>\n",
       "      <th>Engine-size</th>\n",
       "      <th>Bore</th>\n",
       "      <th>Stroke</th>\n",
       "      <th>Compression-ratio</th>\n",
       "      <th>Horsepower</th>\n",
       "      <th>Peak-rpm</th>\n",
       "      <th>City-mpg</th>\n",
       "      <th>Highway-mpg</th>\n",
       "      <th>Price</th>\n",
       "    </tr>\n",
       "  </thead>\n",
       "  <tbody>\n",
       "    <tr>\n",
       "      <th>count</th>\n",
       "      <td>205.000000</td>\n",
       "      <td>205.000000</td>\n",
       "      <td>205.000000</td>\n",
       "      <td>205.000000</td>\n",
       "      <td>205.000000</td>\n",
       "      <td>205.000000</td>\n",
       "      <td>205.000000</td>\n",
       "      <td>205.000000</td>\n",
       "      <td>205.000000</td>\n",
       "      <td>205.000000</td>\n",
       "      <td>205.000000</td>\n",
       "      <td>205.000000</td>\n",
       "      <td>205.000000</td>\n",
       "      <td>205.000000</td>\n",
       "      <td>205.000000</td>\n",
       "      <td>205.000000</td>\n",
       "    </tr>\n",
       "    <tr>\n",
       "      <th>mean</th>\n",
       "      <td>0.834146</td>\n",
       "      <td>122.000000</td>\n",
       "      <td>98.756585</td>\n",
       "      <td>174.049268</td>\n",
       "      <td>65.907805</td>\n",
       "      <td>53.724878</td>\n",
       "      <td>2555.565854</td>\n",
       "      <td>126.907317</td>\n",
       "      <td>3.329751</td>\n",
       "      <td>3.255423</td>\n",
       "      <td>10.142537</td>\n",
       "      <td>104.256158</td>\n",
       "      <td>5125.369458</td>\n",
       "      <td>25.219512</td>\n",
       "      <td>30.751220</td>\n",
       "      <td>13207.129353</td>\n",
       "    </tr>\n",
       "    <tr>\n",
       "      <th>50%</th>\n",
       "      <td>1.000000</td>\n",
       "      <td>122.000000</td>\n",
       "      <td>97.000000</td>\n",
       "      <td>173.200000</td>\n",
       "      <td>65.500000</td>\n",
       "      <td>54.100000</td>\n",
       "      <td>2414.000000</td>\n",
       "      <td>120.000000</td>\n",
       "      <td>3.310000</td>\n",
       "      <td>3.290000</td>\n",
       "      <td>9.000000</td>\n",
       "      <td>95.000000</td>\n",
       "      <td>5200.000000</td>\n",
       "      <td>24.000000</td>\n",
       "      <td>30.000000</td>\n",
       "      <td>10595.000000</td>\n",
       "    </tr>\n",
       "    <tr>\n",
       "      <th>std</th>\n",
       "      <td>1.245307</td>\n",
       "      <td>31.681008</td>\n",
       "      <td>6.021776</td>\n",
       "      <td>12.337289</td>\n",
       "      <td>2.145204</td>\n",
       "      <td>2.443522</td>\n",
       "      <td>520.680204</td>\n",
       "      <td>41.642693</td>\n",
       "      <td>0.270844</td>\n",
       "      <td>0.313597</td>\n",
       "      <td>3.972040</td>\n",
       "      <td>39.519211</td>\n",
       "      <td>476.979093</td>\n",
       "      <td>6.542142</td>\n",
       "      <td>6.886443</td>\n",
       "      <td>7868.768212</td>\n",
       "    </tr>\n",
       "  </tbody>\n",
       "</table>\n",
       "</div>"
      ],
      "text/plain": [
       "        Symboling  Normalized-losses  Wheel-base      Length       Width  \\\n",
       "count  205.000000         205.000000  205.000000  205.000000  205.000000   \n",
       "mean     0.834146         122.000000   98.756585  174.049268   65.907805   \n",
       "50%      1.000000         122.000000   97.000000  173.200000   65.500000   \n",
       "std      1.245307          31.681008    6.021776   12.337289    2.145204   \n",
       "\n",
       "           Height  Curb-weight  Engine-size        Bore      Stroke  \\\n",
       "count  205.000000   205.000000   205.000000  205.000000  205.000000   \n",
       "mean    53.724878  2555.565854   126.907317    3.329751    3.255423   \n",
       "50%     54.100000  2414.000000   120.000000    3.310000    3.290000   \n",
       "std      2.443522   520.680204    41.642693    0.270844    0.313597   \n",
       "\n",
       "       Compression-ratio  Horsepower     Peak-rpm    City-mpg  Highway-mpg  \\\n",
       "count         205.000000  205.000000   205.000000  205.000000   205.000000   \n",
       "mean           10.142537  104.256158  5125.369458   25.219512    30.751220   \n",
       "50%             9.000000   95.000000  5200.000000   24.000000    30.000000   \n",
       "std             3.972040   39.519211   476.979093    6.542142     6.886443   \n",
       "\n",
       "              Price  \n",
       "count    205.000000  \n",
       "mean   13207.129353  \n",
       "50%    10595.000000  \n",
       "std     7868.768212  "
      ]
     },
     "execution_count": 3,
     "metadata": {},
     "output_type": "execute_result"
    }
   ],
   "source": [
    "# Calculating mean, median and standard deviation for each numeric column.\n",
    "# Here we can use pandas function \"describe\", as by default only numeric fields are returned. [2]\n",
    "\n",
    "df.describe().loc[[ 'count','mean','50%','std' ]] # 50% is the median"
   ]
  },
  {
   "cell_type": "code",
   "execution_count": 4,
   "metadata": {},
   "outputs": [
    {
     "data": {
      "text/html": [
       "<div>\n",
       "<style scoped>\n",
       "    .dataframe tbody tr th:only-of-type {\n",
       "        vertical-align: middle;\n",
       "    }\n",
       "\n",
       "    .dataframe tbody tr th {\n",
       "        vertical-align: top;\n",
       "    }\n",
       "\n",
       "    .dataframe thead th {\n",
       "        text-align: right;\n",
       "    }\n",
       "</style>\n",
       "<table border=\"1\" class=\"dataframe\">\n",
       "  <thead>\n",
       "    <tr style=\"text-align: right;\">\n",
       "      <th></th>\n",
       "      <th>Make</th>\n",
       "      <th>Price</th>\n",
       "      <th>Highway-mpg</th>\n",
       "      <th>City-mpg</th>\n",
       "    </tr>\n",
       "  </thead>\n",
       "  <tbody>\n",
       "    <tr>\n",
       "      <th>0</th>\n",
       "      <td>alfa-romero</td>\n",
       "      <td>15498.333333</td>\n",
       "      <td>26.666667</td>\n",
       "      <td>20.333333</td>\n",
       "    </tr>\n",
       "    <tr>\n",
       "      <th>1</th>\n",
       "      <td>audi</td>\n",
       "      <td>17194.589908</td>\n",
       "      <td>24.142857</td>\n",
       "      <td>18.857143</td>\n",
       "    </tr>\n",
       "    <tr>\n",
       "      <th>2</th>\n",
       "      <td>bmw</td>\n",
       "      <td>26118.750000</td>\n",
       "      <td>25.375000</td>\n",
       "      <td>19.375000</td>\n",
       "    </tr>\n",
       "    <tr>\n",
       "      <th>3</th>\n",
       "      <td>chevrolet</td>\n",
       "      <td>6007.000000</td>\n",
       "      <td>46.333333</td>\n",
       "      <td>41.000000</td>\n",
       "    </tr>\n",
       "    <tr>\n",
       "      <th>4</th>\n",
       "      <td>dodge</td>\n",
       "      <td>7875.444444</td>\n",
       "      <td>34.111111</td>\n",
       "      <td>28.000000</td>\n",
       "    </tr>\n",
       "  </tbody>\n",
       "</table>\n",
       "</div>"
      ],
      "text/plain": [
       "          Make         Price  Highway-mpg   City-mpg\n",
       "0  alfa-romero  15498.333333    26.666667  20.333333\n",
       "1         audi  17194.589908    24.142857  18.857143\n",
       "2          bmw  26118.750000    25.375000  19.375000\n",
       "3    chevrolet   6007.000000    46.333333  41.000000\n",
       "4        dodge   7875.444444    34.111111  28.000000"
      ]
     },
     "execution_count": 4,
     "metadata": {},
     "output_type": "execute_result"
    }
   ],
   "source": [
    "# Grouping the dataframe by \"make\" column, with the average, adapted from [3].\n",
    "# Reset index to keep \"Make\" as a column instead of index\n",
    "df2 = df.groupby('Make')['Price', 'Highway-mpg', 'City-mpg'].mean().reset_index()\n",
    "df2.head(5)  "
   ]
  },
  {
   "cell_type": "code",
   "execution_count": 5,
   "metadata": {},
   "outputs": [
    {
     "data": {
      "text/plain": [
       "Make           object\n",
       "Price           int64\n",
       "Highway-mpg     int64\n",
       "City-mpg        int64\n",
       "dtype: object"
      ]
     },
     "execution_count": 5,
     "metadata": {},
     "output_type": "execute_result"
    }
   ],
   "source": [
    "# Currently the datatypes are \"float64\", so we need to convert them firstly as per exercise requirement\n",
    "df2['Price'] = df2['Price'].astype('int64')\n",
    "df2['Highway-mpg'] = df2['Highway-mpg'].astype('int64')\n",
    "df2['City-mpg'] = df2['City-mpg'].astype('int64')\n",
    "df2.dtypes"
   ]
  },
  {
   "cell_type": "code",
   "execution_count": 6,
   "metadata": {},
   "outputs": [
    {
     "data": {
      "text/plain": [
       "<seaborn.axisgrid.PairGrid at 0x1c22c3cbba8>"
      ]
     },
     "execution_count": 6,
     "metadata": {},
     "output_type": "execute_result"
    },
    {
     "data": {
      "image/png": "[encoded data removed]",
      "text/plain": [
       "<Figure size 540x540 with 12 Axes>"
      ]
     },
     "metadata": {
      "needs_background": "light"
     },
     "output_type": "display_data"
    }
   ],
   "source": [
    "# Seaborn pairplots are adapted from [4]\n",
    "#sns.pairplot(df2,hue=\"Make\",vars=['Price','Highway-mpg','City-mpg'])\n",
    "sns.pairplot(df2)"
   ]
  },
  {
   "cell_type": "markdown",
   "metadata": {},
   "source": [
    "The Seaborn pairplots are showing the numerical data. The histograms show the distribution of each variable (Price, Highway-mpg, City-mpg) indivudally. The scatter plots show the relationships or correlation between the other two variables. [3]. We can see that \"Price depends more on the \"Make\" and less on mpg. However, cars with less mpg appears to be have a higher price. Furthermore, highway-mpg seems to have a higher price compared to city-mpg. Highway-mpg vs city-mpg is closely linearly correlated, so fuel consumption may be almost similar."
   ]
  },
  {
   "cell_type": "code",
   "execution_count": 7,
   "metadata": {},
   "outputs": [],
   "source": [
    "# Linear regression of city-mpg (dependant variable) vs engine-size (independant variable)\n",
    "# Functions taken from my Lab 1 submission\n",
    "\n",
    "def learn_simple_linreg(x,y):\n",
    "    x_mean = np.mean(x)\n",
    "    y_mean = np.mean(y)\n",
    "    num = np.multiply((x - x_mean), (y - y_mean))\n",
    "    denom = (x - x_mean)**2\n",
    "    b1 = np.sum(num)/np.sum(denom)\n",
    "    b0 = y_mean - b1 * x_mean\n",
    "    return b0, b1\n",
    "\n",
    "\n",
    "def predict_simple_linreg(x,b0, b1):\n",
    "    yhat = b0 + x*b1\n",
    "    return yhat"
   ]
  },
  {
   "cell_type": "code",
   "execution_count": 8,
   "metadata": {},
   "outputs": [
    {
     "name": "stdout",
     "output_type": "stream",
     "text": [
      "[130 130 152 109 136]\n",
      "[21 21 19 24 18]\n"
     ]
    }
   ],
   "source": [
    "# Get the values from original dataframe into a list\n",
    "x = df.loc[:,'Engine-size'].values\n",
    "print(x[:5])\n",
    "\n",
    "y = df.loc[:,'City-mpg'].values\n",
    "print(y[:5])"
   ]
  },
  {
   "cell_type": "code",
   "execution_count": 9,
   "metadata": {},
   "outputs": [
    {
     "name": "stdout",
     "output_type": "stream",
     "text": [
      "b0 = 38.25172970058016 \n",
      "b1 = -0.10269082828332303\n",
      "yhat =  [24.90192202 24.90192202 22.6427238  27.05842942 24.28577705]\n"
     ]
    }
   ],
   "source": [
    "# Call functions\n",
    "b0, b1 = learn_simple_linreg(x,y)\n",
    "yhat = predict_simple_linreg(x,b0,b1)\n",
    "print(\"b0 = {} \\nb1 = {}\".format(b0,b1))\n",
    "print(\"yhat = \",yhat[:5])"
   ]
  },
  {
   "cell_type": "code",
   "execution_count": 10,
   "metadata": {},
   "outputs": [
    {
     "data": {
      "image/png": "[encoded data removed]",
      "text/plain": [
       "<Figure size 432x288 with 1 Axes>"
      ]
     },
     "metadata": {
      "needs_background": "light"
     },
     "output_type": "display_data"
    }
   ],
   "source": [
    "# Plotting the data points and line of best fit\n",
    "plt.scatter(x,y)\n",
    "plt.plot(x, yhat, 'y', label='Predicted line')\n",
    "plt.legend()\n",
    "plt.title('City-MPG vs Engine-size')\n",
    "plt.xlabel('Engine-Size')\n",
    "plt.ylabel('City-MPG')\n",
    "plt.show()\n"
   ]
  },
  {
   "cell_type": "code",
   "execution_count": 11,
   "metadata": {},
   "outputs": [
    {
     "name": "stdout",
     "output_type": "stream",
     "text": [
      "SSR: 5000.587073923392\n",
      "SST: 8731.121951219513\n",
      "R_square score: 0.42726867155658743\n"
     ]
    }
   ],
   "source": [
    "# This block adapted from [5]\n",
    "# sum of square of residuals\n",
    "ssr = np.sum((yhat - y)**2)\n",
    "\n",
    "#  total sum of squares\n",
    "sst = np.sum((y - np.mean(y))**2)\n",
    "\n",
    "# R2 score\n",
    "r2_score = 1 - (ssr/sst)\n",
    "\n",
    "print(\"SSR:\", ssr)\n",
    "print(\"SST:\", sst)\n",
    "print(\"R_square score:\", r2_score)"
   ]
  },
  {
   "cell_type": "markdown",
   "metadata": {},
   "source": [
    "The plot does show somewhat of a linear correlation between Engine size and City MPG, but it's obivous there are many points far away from the line of best-fit. Hence the residual error is also high. We can calculate the Sum of Square and residuals value, including $R^2$ value to see they are quite high as well. It would be better to normalize the data in order to see the values more clearly. Anyway, this model based on only one independant variable is not so good at predicting the City-MPG. Hence it's better to include more independant variable and formulate it as multivariate linear regression model instead."
   ]
  },
  {
   "cell_type": "markdown",
   "metadata": {},
   "source": [
    "### 1.2 Linear Regression via Normal Equations (10 Points)"
   ]
  },
  {
   "cell_type": "code",
   "execution_count": 157,
   "metadata": {},
   "outputs": [
    {
     "data": {
      "text/html": [
       "<div>\n",
       "<style scoped>\n",
       "    .dataframe tbody tr th:only-of-type {\n",
       "        vertical-align: middle;\n",
       "    }\n",
       "\n",
       "    .dataframe tbody tr th {\n",
       "        vertical-align: top;\n",
       "    }\n",
       "\n",
       "    .dataframe thead th {\n",
       "        text-align: right;\n",
       "    }\n",
       "</style>\n",
       "<table border=\"1\" class=\"dataframe\">\n",
       "  <thead>\n",
       "    <tr style=\"text-align: right;\">\n",
       "      <th></th>\n",
       "      <th>Price</th>\n",
       "    </tr>\n",
       "  </thead>\n",
       "  <tbody>\n",
       "    <tr>\n",
       "      <th>0</th>\n",
       "      <td>13495.0</td>\n",
       "    </tr>\n",
       "    <tr>\n",
       "      <th>1</th>\n",
       "      <td>16500.0</td>\n",
       "    </tr>\n",
       "    <tr>\n",
       "      <th>2</th>\n",
       "      <td>16500.0</td>\n",
       "    </tr>\n",
       "    <tr>\n",
       "      <th>3</th>\n",
       "      <td>13950.0</td>\n",
       "    </tr>\n",
       "    <tr>\n",
       "      <th>4</th>\n",
       "      <td>17450.0</td>\n",
       "    </tr>\n",
       "  </tbody>\n",
       "</table>\n",
       "</div>"
      ],
      "text/plain": [
       "     Price\n",
       "0  13495.0\n",
       "1  16500.0\n",
       "2  16500.0\n",
       "3  13950.0\n",
       "4  17450.0"
      ]
     },
     "execution_count": 157,
     "metadata": {},
     "output_type": "execute_result"
    }
   ],
   "source": [
    "x_data = df.drop('Price', axis=1)  \n",
    "y_data = df[[ 'Price' ]]  # Target column to be predicted\n",
    "y_data.head(5)"
   ]
  },
  {
   "cell_type": "markdown",
   "metadata": {},
   "source": [
    "As part of the data preprocessing, we need to choose which columns in $X_{data}$ could be useful in the linear regression model. First, all categorical columns such as \"fuel-type\", \"num-of-doors\", and \"drive-wheels\" are dropped. If we want to use them, we should first convert them by one-hot encoding etc. but these seems like overkill for the little points in this exercise. Hence these columns are not used, however I concede they would be useful in a more in-depth model (with extra steps and processing to do). Next, symboling column is dropped since it's something like an index column which is not useful for this linear model purpose.\n",
    "\n",
    "From all the continuous data columns, here I decide to limit it to 5 columns for easier processing since it's a small model. The columns selected are good indicators of engine power and full consumption, which are the greater considerations for a car price as compared to the others (except for \"Make\" but as stated, it's a categorical column so it's dropped). \n",
    "\n",
    "Columns selected:\n",
    "* Compression-ratio\n",
    "* Horsepower\n",
    "* Peak-rpm\n",
    "* City-mpg\n",
    "* Highway-mpg"
   ]
  },
  {
   "cell_type": "code",
   "execution_count": 158,
   "metadata": {},
   "outputs": [
    {
     "data": {
      "text/html": [
       "<div>\n",
       "<style scoped>\n",
       "    .dataframe tbody tr th:only-of-type {\n",
       "        vertical-align: middle;\n",
       "    }\n",
       "\n",
       "    .dataframe tbody tr th {\n",
       "        vertical-align: top;\n",
       "    }\n",
       "\n",
       "    .dataframe thead th {\n",
       "        text-align: right;\n",
       "    }\n",
       "</style>\n",
       "<table border=\"1\" class=\"dataframe\">\n",
       "  <thead>\n",
       "    <tr style=\"text-align: right;\">\n",
       "      <th></th>\n",
       "      <th>Compression-ratio</th>\n",
       "      <th>Horsepower</th>\n",
       "      <th>Peak-rpm</th>\n",
       "      <th>City-mpg</th>\n",
       "      <th>Highway-mpg</th>\n",
       "    </tr>\n",
       "  </thead>\n",
       "  <tbody>\n",
       "    <tr>\n",
       "      <th>0</th>\n",
       "      <td>9.0</td>\n",
       "      <td>111.0</td>\n",
       "      <td>5000.0</td>\n",
       "      <td>21</td>\n",
       "      <td>27</td>\n",
       "    </tr>\n",
       "    <tr>\n",
       "      <th>1</th>\n",
       "      <td>9.0</td>\n",
       "      <td>111.0</td>\n",
       "      <td>5000.0</td>\n",
       "      <td>21</td>\n",
       "      <td>27</td>\n",
       "    </tr>\n",
       "    <tr>\n",
       "      <th>2</th>\n",
       "      <td>9.0</td>\n",
       "      <td>154.0</td>\n",
       "      <td>5000.0</td>\n",
       "      <td>19</td>\n",
       "      <td>26</td>\n",
       "    </tr>\n",
       "    <tr>\n",
       "      <th>3</th>\n",
       "      <td>10.0</td>\n",
       "      <td>102.0</td>\n",
       "      <td>5500.0</td>\n",
       "      <td>24</td>\n",
       "      <td>30</td>\n",
       "    </tr>\n",
       "    <tr>\n",
       "      <th>4</th>\n",
       "      <td>8.0</td>\n",
       "      <td>115.0</td>\n",
       "      <td>5500.0</td>\n",
       "      <td>18</td>\n",
       "      <td>22</td>\n",
       "    </tr>\n",
       "  </tbody>\n",
       "</table>\n",
       "</div>"
      ],
      "text/plain": [
       "   Compression-ratio  Horsepower  Peak-rpm  City-mpg  Highway-mpg\n",
       "0                9.0       111.0    5000.0        21           27\n",
       "1                9.0       111.0    5000.0        21           27\n",
       "2                9.0       154.0    5000.0        19           26\n",
       "3               10.0       102.0    5500.0        24           30\n",
       "4                8.0       115.0    5500.0        18           22"
      ]
     },
     "execution_count": 158,
     "metadata": {},
     "output_type": "execute_result"
    }
   ],
   "source": [
    "x_data = x_data[[ 'Compression-ratio', 'Horsepower', 'Peak-rpm', 'City-mpg', 'Highway-mpg' ]]\n",
    "x_data.head(5)"
   ]
  },
  {
   "cell_type": "markdown",
   "metadata": {},
   "source": [
    "As stated in the first part, it's better to normalize the data values, especially when we see so many types of integer values and different ranges. Also after we normalize, it's easier to make comparisons on the RMSE and R$^2$ values."
   ]
  },
  {
   "cell_type": "code",
   "execution_count": 159,
   "metadata": {},
   "outputs": [],
   "source": [
    "# Normalize function, adapted from [6]. Min-max normalization of values (to [0-1] range)\n",
    "def normalize_data(x):\n",
    "    min_val = np.min(x)\n",
    "    max_val = np.max(x)\n",
    "    x = (x-min_val) / (max_val-min_val)\n",
    "    return x"
   ]
  },
  {
   "cell_type": "code",
   "execution_count": 160,
   "metadata": {},
   "outputs": [
    {
     "data": {
      "text/html": [
       "<div>\n",
       "<style scoped>\n",
       "    .dataframe tbody tr th:only-of-type {\n",
       "        vertical-align: middle;\n",
       "    }\n",
       "\n",
       "    .dataframe tbody tr th {\n",
       "        vertical-align: top;\n",
       "    }\n",
       "\n",
       "    .dataframe thead th {\n",
       "        text-align: right;\n",
       "    }\n",
       "</style>\n",
       "<table border=\"1\" class=\"dataframe\">\n",
       "  <thead>\n",
       "    <tr style=\"text-align: right;\">\n",
       "      <th></th>\n",
       "      <th>Compression-ratio</th>\n",
       "      <th>Horsepower</th>\n",
       "      <th>Peak-rpm</th>\n",
       "      <th>City-mpg</th>\n",
       "      <th>Highway-mpg</th>\n",
       "    </tr>\n",
       "  </thead>\n",
       "  <tbody>\n",
       "    <tr>\n",
       "      <th>0</th>\n",
       "      <td>0.1250</td>\n",
       "      <td>0.262500</td>\n",
       "      <td>0.346939</td>\n",
       "      <td>0.222222</td>\n",
       "      <td>0.289474</td>\n",
       "    </tr>\n",
       "    <tr>\n",
       "      <th>1</th>\n",
       "      <td>0.1250</td>\n",
       "      <td>0.262500</td>\n",
       "      <td>0.346939</td>\n",
       "      <td>0.222222</td>\n",
       "      <td>0.289474</td>\n",
       "    </tr>\n",
       "    <tr>\n",
       "      <th>2</th>\n",
       "      <td>0.1250</td>\n",
       "      <td>0.441667</td>\n",
       "      <td>0.346939</td>\n",
       "      <td>0.166667</td>\n",
       "      <td>0.263158</td>\n",
       "    </tr>\n",
       "    <tr>\n",
       "      <th>3</th>\n",
       "      <td>0.1875</td>\n",
       "      <td>0.225000</td>\n",
       "      <td>0.551020</td>\n",
       "      <td>0.305556</td>\n",
       "      <td>0.368421</td>\n",
       "    </tr>\n",
       "    <tr>\n",
       "      <th>4</th>\n",
       "      <td>0.0625</td>\n",
       "      <td>0.279167</td>\n",
       "      <td>0.551020</td>\n",
       "      <td>0.138889</td>\n",
       "      <td>0.157895</td>\n",
       "    </tr>\n",
       "  </tbody>\n",
       "</table>\n",
       "</div>"
      ],
      "text/plain": [
       "   Compression-ratio  Horsepower  Peak-rpm  City-mpg  Highway-mpg\n",
       "0             0.1250    0.262500  0.346939  0.222222     0.289474\n",
       "1             0.1250    0.262500  0.346939  0.222222     0.289474\n",
       "2             0.1250    0.441667  0.346939  0.166667     0.263158\n",
       "3             0.1875    0.225000  0.551020  0.305556     0.368421\n",
       "4             0.0625    0.279167  0.551020  0.138889     0.157895"
      ]
     },
     "execution_count": 160,
     "metadata": {},
     "output_type": "execute_result"
    }
   ],
   "source": [
    "x_data = normalize_data(x_data)\n",
    "x_data.head(5)"
   ]
  },
  {
   "cell_type": "code",
   "execution_count": 161,
   "metadata": {},
   "outputs": [
    {
     "name": "stdout",
     "output_type": "stream",
     "text": [
      "[[1.         0.125      0.2625     0.34693878 0.22222222 0.28947368]\n",
      " [1.         0.125      0.2625     0.34693878 0.22222222 0.28947368]\n",
      " [1.         0.125      0.44166667 0.34693878 0.16666667 0.26315789]\n",
      " ...\n",
      " [1.         0.1125     0.35833333 0.55102041 0.13888889 0.18421053]\n",
      " [1.         1.         0.24166667 0.26530612 0.36111111 0.28947368]\n",
      " [1.         0.15625    0.275      0.51020408 0.16666667 0.23684211]]\n",
      "\n",
      "Dimensions of X_data: (205, 6)\n",
      "\n",
      "Dimensions of Y_data: (205, 1)\n"
     ]
    }
   ],
   "source": [
    "# Based on the ML lecture, we should add the intial bias of \"1\" as the first column. Code adapted from [7]\n",
    "# Don't keep running this code without refreshing x_data from intial load. Otherwise it will continously add columns of ones.\n",
    "x_data = np.hstack([np.ones([x_data.shape[0],1]), x_data])  \n",
    "print(x_data)\n",
    "print(\"\\nDimensions of X_data:\",x_data.shape)\n",
    "print(\"\\nDimensions of Y_data:\",y_data.shape)"
   ]
  },
  {
   "cell_type": "code",
   "execution_count": 162,
   "metadata": {},
   "outputs": [
    {
     "name": "stdout",
     "output_type": "stream",
     "text": [
      "Train set observations:  165\n",
      "Test set observations:  40\n"
     ]
    }
   ],
   "source": [
    "# Train-test split without Sklearn library, adapted from [8]\n",
    "mask = np.random.rand(len(x_data)) < 0.8  # This will shuffle the data\n",
    "x_train, y_train = x_data[mask], y_data[mask]\n",
    "x_test, y_test = x_data[~mask], y_data[~mask]\n",
    "\n",
    "print(\"Train set observations: \", len(x_train))\n",
    "print(\"Test set observations: \", len(x_test))"
   ]
  },
  {
   "cell_type": "markdown",
   "metadata": {},
   "source": [
    "**learn-linreg-NormEq** algorithm is following the lecture slides in [9]:\n",
    "\n",
    "<img src=\"https://i.imgur.com/py5ldxc.jpg\" style=\"height:160px\">\n",
    "\n",
    "Here, we learn the parameter value $\\beta$ for $X_{train}$ in order to predict the target values, i.e $Y_{test}$\n",
    "\n",
    "In line 6, **solve-sle** is implemented via two methods (i) Gaussian elimination and (ii) QR decomposition."
   ]
  },
  {
   "cell_type": "code",
   "execution_count": 163,
   "metadata": {},
   "outputs": [],
   "source": [
    "\"\"\"\n",
    "Gaussion elimination uses sequence of row operations on the matrix,\n",
    "in order to return the upper triangular matrix, in row echelon form\n",
    "\"\"\"\n",
    "# Outer function\n",
    "def learn_linreg_gaussian(X, y):  # Returns an array for the beta values of each predictor variable\n",
    "    A = np.matrix(X.T) * np.matrix(X)  # Transpose as per algorithm\n",
    "    b = np.matrix(X.T) * np.matrix(y)\n",
    "    beta = solve_sle_gaussian(A, b)\n",
    "    return beta"
   ]
  },
  {
   "cell_type": "code",
   "execution_count": 164,
   "metadata": {},
   "outputs": [],
   "source": [
    "# Gaussian elimination without scipy, code adapted from [10]\n",
    "def solve_sle_gaussian(A, b):\n",
    "    n = len(A)\n",
    "    A = np.column_stack((A,b))\n",
    "\n",
    "    for i in range(0, n):\n",
    "        # Search for maximum in this column\n",
    "        maxEl = abs(A[i,i])\n",
    "        maxRow = i\n",
    "        for k in range(i+1, n):\n",
    "            if abs(A[k,i]) > maxEl:\n",
    "                maxEl = abs(A[k,i])\n",
    "                maxRow = k\n",
    "\n",
    "        # Swap maximum row with current row (column by column)\n",
    "        for k in range(i, n+1):\n",
    "            tmp = A[maxRow,k]\n",
    "            A[maxRow,k] = A[i,k]\n",
    "            A[i,k] = tmp\n",
    "\n",
    "        # Make all rows below this one 0 in current column\n",
    "        for k in range(i+1, n):\n",
    "            c = -A[k,i]/A[i,i]\n",
    "            for j in range(i, n+1):\n",
    "                if i == j:\n",
    "                    A[k,j] = 0\n",
    "                else:\n",
    "                    A[k,j] += c * A[i,j]\n",
    "\n",
    "    # Solve equation Ax=b for an upper triangular matrix A\n",
    "    x = [0 for i in range(n)]\n",
    "    for i in range(n-1, -1, -1):\n",
    "        x[i] = A[i,n]/A[i,i]\n",
    "        for k in range(i-1, -1, -1):\n",
    "            A[k,n] -= A[k,i] * x[i]\n",
    "    return x"
   ]
  },
  {
   "cell_type": "code",
   "execution_count": 165,
   "metadata": {},
   "outputs": [
    {
     "name": "stdout",
     "output_type": "stream",
     "text": [
      "Beta coefficients: [12562.541301364472, 7227.072335415789, 25186.872755037934, -3954.2413425665195, 7652.676995040864, -20276.668167189036]\n"
     ]
    }
   ],
   "source": [
    "# Calculating beta coefficients via Gaussian elimination method\n",
    "betas_1 = learn_linreg_gaussian(x_train,y_train)\n",
    "print(\"Beta coefficients:\", betas_1)"
   ]
  },
  {
   "cell_type": "code",
   "execution_count": 166,
   "metadata": {},
   "outputs": [],
   "source": [
    "\"\"\"\n",
    "QR decomposition is decomposition the of a matrix into a product A = QR of an orthogonal matrix Q \n",
    "and an upper triangular matrix R. It is used to solve the linear least squares problem also.\n",
    "\"\"\"\n",
    "# Outer function\n",
    "def learn_linreg_qrd(X, y):  # Returns an array for the beta values of each predictor variable\n",
    "    A = np.matrix(X.T) * np.matrix(X)  # Transpose as per algorithm\n",
    "    b = np.matrix(X.T) * np.matrix(y)\n",
    "    beta = solve_sle_qrd(A, b)\n",
    "    return beta\n",
    "\n",
    "\n",
    "# Inner function for solve_sle\n",
    "# QR decomposition without scipy, code adapted from [11]\n",
    "def solve_sle_qrd(A, b):\n",
    "    beta = np.linalg.inv(A)\n",
    "    beta = np.matmul(beta, b)\n",
    "    beta = np.array(beta).T[0]\n",
    "    return beta"
   ]
  },
  {
   "cell_type": "code",
   "execution_count": 167,
   "metadata": {},
   "outputs": [
    {
     "name": "stdout",
     "output_type": "stream",
     "text": [
      "Beta coefficients: [ 12562.54130136   7227.07233542  25186.87275504  -3954.24134257\n",
      "   7652.67699504 -20276.66816719]\n"
     ]
    }
   ],
   "source": [
    "# Find betas by QRD method\n",
    "betas_2 = learn_linreg_qrd(x_train,y_train)\n",
    "print(\"Beta coefficients:\", betas_2)"
   ]
  },
  {
   "cell_type": "markdown",
   "metadata": {},
   "source": [
    "We can see that the $\\beta$ values for both methods are quite similar. In fact, the difference is in many decimal places only.\n",
    "\n",
    "For predicted values of $\\hat{y}$, the formula is $\\hat{y}$ = $\\hat{\\beta_0} + \\sum{\\hat{\\beta_m}x_m}$ which we can put into a matrix representation based on the calculated beta values, and $X_{test}$ dataset."
   ]
  },
  {
   "cell_type": "code",
   "execution_count": 168,
   "metadata": {},
   "outputs": [],
   "source": [
    "def predict_y(X, beta):\n",
    "    yhat = np.matmul(X, beta).round(4).T\n",
    "    return yhat"
   ]
  },
  {
   "cell_type": "code",
   "execution_count": 169,
   "metadata": {},
   "outputs": [
    {
     "name": "stdout",
     "output_type": "stream",
     "text": [
      "[14536.6328 19157.7287 12273.7626 19573.6915 11463.6162]\n"
     ]
    }
   ],
   "source": [
    "# Predicted values for Gaussian elimination method, showing sample output\n",
    "yhat_1 = predict_y(x_test,betas_1)\n",
    "print(yhat_1[:5])"
   ]
  },
  {
   "cell_type": "code",
   "execution_count": 170,
   "metadata": {},
   "outputs": [
    {
     "name": "stdout",
     "output_type": "stream",
     "text": [
      "[14536.6328 19157.7287 12273.7626 19573.6915 11463.6162]\n"
     ]
    }
   ],
   "source": [
    "# Predicted values for OR decomposition method, showing sample output\n",
    "yhat_2 = predict_y(x_test, betas_2)\n",
    "print(yhat_2[:5])"
   ]
  },
  {
   "cell_type": "markdown",
   "metadata": {},
   "source": [
    "Due to the similar $\\beta$ coefficients calculated earlier, the $\\hat{y}$ values for both methods are also similar."
   ]
  },
  {
   "cell_type": "markdown",
   "metadata": {},
   "source": [
    "In order to check model performance, we can plot the residual and calcuate the RMSE. Residual, $e$ is calcuated as the absolute value of $y_{test}$$-\\tilde{y}$."
   ]
  },
  {
   "cell_type": "code",
   "execution_count": 171,
   "metadata": {},
   "outputs": [],
   "source": [
    "# Residual plots show the difference between actual and predicted value for y\n",
    "def residual(y_test, y_hat):\n",
    "    y_test = y_test.to_numpy()  # Flatten dataframe column to numpy to list\n",
    "    y_test = y_test.ravel()\n",
    "    res = y_test - y_hat\n",
    "    res = np.absolute(res)\n",
    "    avg_res = np.mean(res)\n",
    "    return y_test, res, avg_res"
   ]
  },
  {
   "cell_type": "code",
   "execution_count": 172,
   "metadata": {},
   "outputs": [
    {
     "data": {
      "image/png": "[encoded data removed]",
      "text/plain": [
       "<Figure size 432x288 with 1 Axes>"
      ]
     },
     "metadata": {
      "needs_background": "light"
     },
     "output_type": "display_data"
    },
    {
     "name": "stdout",
     "output_type": "stream",
     "text": [
      "Average residual for Gaussian Elimination method: 3583.4744836691543\n"
     ]
    }
   ],
   "source": [
    "# For GE method\n",
    "ytest, res_ge, avg_res_ge = residual(y_test, yhat_1)\n",
    "\n",
    "plt.plot(ytest, res_ge, '.')\n",
    "plt.title(\"Residual plot for Gaussian Elimination method\")\n",
    "plt.xlabel('Ground truth, Y_test')\n",
    "plt.ylabel('Residual')\n",
    "plt.show()\n",
    "\n",
    "print(\"Average residual for Gaussian Elimination method:\", avg_res_ge)"
   ]
  },
  {
   "cell_type": "code",
   "execution_count": 183,
   "metadata": {},
   "outputs": [
    {
     "data": {
      "image/png": "[encoded data removed]",
      "text/plain": [
       "<Figure size 432x288 with 1 Axes>"
      ]
     },
     "metadata": {
      "needs_background": "light"
     },
     "output_type": "display_data"
    },
    {
     "name": "stdout",
     "output_type": "stream",
     "text": [
      "Average residual for Gaussian Elimination method: 3583.4744836691543\n"
     ]
    }
   ],
   "source": [
    "# For QRD\n",
    "ytest2, res_qrd, avg_res_qrd = residual(y_test, yhat_2)\n",
    "\n",
    "plt.plot(ytest2, res_qrd, '.')\n",
    "plt.title(\"Residual plot for QR decomposition method\")\n",
    "plt.xlabel('Ground truth, Y_test')\n",
    "plt.ylabel('Residual')\n",
    "plt.show()\n",
    "\n",
    "print(\"Average residual for Gaussian Elimination method:\", avg_res_qrd)"
   ]
  },
  {
   "cell_type": "markdown",
   "metadata": {},
   "source": [
    "Again due to the practically similar values (except for negative expotential differences), the average residual and residual plot for the two methods are the equal."
   ]
  },
  {
   "cell_type": "code",
   "execution_count": 180,
   "metadata": {},
   "outputs": [],
   "source": [
    "# Root mean square error function\n",
    "def rmse(y_test, yhat):\n",
    "    y_test = y_test.to_numpy()  # Flatten dataframe column to numpy to list\n",
    "    y_test = y_test.ravel()\n",
    "    rmse = np.sqrt(np.mean(np.square(y_test - yhat)))\n",
    "    return rmse"
   ]
  },
  {
   "cell_type": "code",
   "execution_count": 184,
   "metadata": {},
   "outputs": [
    {
     "name": "stdout",
     "output_type": "stream",
     "text": [
      "RMSE for Gaussian Elimination method: 5542.947582538135\n",
      "RMSE for QR decomposition method: 5542.947582538135\n"
     ]
    }
   ],
   "source": [
    "rmse_ge = rmse(y_test, yhat_1)\n",
    "print(\"RMSE for Gaussian Elimination method:\", rmse_ge)\n",
    "\n",
    "rmse_qrd = rmse(y_test, yhat_2)\n",
    "print(\"RMSE for QR decomposition method:\", rmse_qrd)"
   ]
  },
  {
   "cell_type": "markdown",
   "metadata": {},
   "source": [
    "Again we see that the RMSE values are similar in this case. One point to note is that the RMSE values are very large, so we can run the model for more iterations to obtain better values of $\\beta$ coefficients using gradient descent etc. Also, we could incorporate all the variables, continuous and categorial, in order to lower the RMSE and improve test accuracy."
   ]
  },
  {
   "cell_type": "markdown",
   "metadata": {},
   "source": [
    "## References:\n",
    "\n",
    "[1] https://stackoverflow.com/questions/18689823/pandas-dataframe-replace-nan-values-with-average-of-columns<br>\n",
    "[2] https://pandas.pydata.org/pandas-docs/stable/reference/api/pandas.DataFrame.describe.html  <br>\n",
    "[3] https://stackoverflow.com/questions/46938572/pandas-groupby-mean-into-a-dataframe <br>\n",
    "[4] https://towardsdatascience.com/visualizing-data-with-pair-plots-in-python-f228cf529166 <br>\n",
    "[5] https://towardsdatascience.com/linear-regression-using-python-b136c91bf0a2 <br>\n",
    "[6] https://github.com/deep-diver/CIFAR10-img-classification-tensorflow/blob/master/CIFAR10_image_classification.ipynb <br>\n",
    "[7] https://datascience.stackexchange.com/questions/24759/how-to-add-bias-consideration-into-logistic-regression-code <br>\n",
    "[8] https://stackoverflow.com/questions/24147278/how-do-i-create-test-and-train-samples-from-one-dataframe-with-pandas <br>\n",
    "[9] https://www.ismll.uni-hildesheim.de/lehre/ml-14w/script/ml-02-A1-linear-regression.pdf <br>\n",
    "[10] https://martin-thoma.com/solving-linear-equations-with-gaussian-elimination/ <br>\n",
    "[11] https://medium.com/italiandirectory-publishing/linear-equations-with-python-the-qr-decomposition-66a48b8be89d <br>"
   ]
  }
 ],
 "metadata": {
  "kernelspec": {
   "display_name": "Python 3",
   "language": "python",
   "name": "python3"
  },
  "language_info": {
   "codemirror_mode": {
    "name": "ipython",
    "version": 3
   },
   "file_extension": ".py",
   "mimetype": "text/x-python",
   "name": "python",
   "nbconvert_exporter": "python",
   "pygments_lexer": "ipython3",
   "version": "3.7.3"
  }
 },
 "nbformat": 4,
 "nbformat_minor": 2
}

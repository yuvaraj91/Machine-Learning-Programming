{
 "cells": [
  {
   "cell_type": "markdown",
   "metadata": {},
   "source": [
    "# 3115 - Lab Programming Machine Learning\n",
    "\n",
    "## Lab Exercise 8\n",
    "\n",
    "## Yuvaraj Prem Kumar, 303384"
   ]
  },
  {
   "cell_type": "code",
   "execution_count": 1,
   "metadata": {},
   "outputs": [],
   "source": [
    "import os\n",
    "import time\n",
    "import numpy as np\n",
    "import pandas as pd\n",
    "import matplotlib.pyplot as plt\n",
    "import pandas as pd\n",
    "\n",
    "%matplotlib inline\n",
    "%config InlineBackend.figure_format = 'retina'\n",
    "plt.style.use('ggplot')"
   ]
  },
  {
   "cell_type": "code",
   "execution_count": 2,
   "metadata": {},
   "outputs": [],
   "source": [
    "# Importing sklearn libraries\n",
    "import sklearn\n",
    "from sklearn.model_selection import train_test_split"
   ]
  },
  {
   "cell_type": "code",
   "execution_count": 10,
   "metadata": {},
   "outputs": [
    {
     "name": "stdout",
     "output_type": "stream",
     "text": [
      "PyTorch Version 1.3.1\n"
     ]
    }
   ],
   "source": [
    "# Importing Pytorch libraries\n",
    "import torch\n",
    "import torch.nn as nn\n",
    "from torch.autograd import Variable\n",
    "import torch.nn.functional as F\n",
    "from torch.utils.tensorboard import SummaryWriter    \n",
    "import torchvision\n",
    "print(\"PyTorch Version %s\" %torch.__version__)"
   ]
  },
  {
   "cell_type": "code",
   "execution_count": 4,
   "metadata": {},
   "outputs": [],
   "source": [
    "%load_ext tensorboard"
   ]
  },
  {
   "cell_type": "markdown",
   "metadata": {},
   "source": [
    "# Introduction\n",
    "\n",
    "This lab exercise follows the same as SoSe2019 DDA Lab - which is implementing a research paper [1] titled \"Time Series Classification Using Multi-Channels Deep Convolutional Neural Networks\". I previously implemented it using TensorFlow, however this time it's implemented using PyTorch. This is a deep learning model on a time-series classification dataset, PAMAP2. The model proposed, MC-DCNN has each channel of which takes a single dimension of multivariate time series as input and learns features individually. The model combines the learnt features of each channel and feeds them into a Multilayer Perceptron (MLP) to perform classification.\n",
    "\n",
    "A lot of explanations for the model architecture and data pre-processing are taken from my DDA Lab 6 submission (with minor changes)"
   ]
  },
  {
   "cell_type": "markdown",
   "metadata": {},
   "source": [
    "## Part A: Data Pre-processing\n",
    "\n",
    "From the dataset description [2]: \"The PAMAP2 Physical Activity Monitoring dataset contains data of 18 different physical activities (such as walking, cycling, playing soccer, etc.), performed by 9 subjects wearing 3 inertial measurement units and a heart rate monitor. The dataset can be used for activity recognition and intensity estimation, while developing and applying algorithms of data processing, segmentation, feature extraction and classification.\"\n",
    "\n",
    "A close study of the PAMAP2 readme file and in [3], the dataset creator defines which IMU measurement data is relevant. The research paper states; only 4 out of 19 activities are selected ‘standing’, ‘walking’, ‘ascending stairs, and ‘descending stairs’. As in [3], this means that the **most relevant** IMU position is the 3-D gyroscopic acceleration data. Each physical activity is a 3D time series, because of the 3D-acceleration data and corresponding activity. So we use the “3D-acceleration data (ms-2), scale: ±16g, resolution: 13-bit” measurement as the observations, with “activityID” as target. Hence, we will have 9 channels for the training / testing data.\n",
    "\n",
    "The preprocessing steps are:\n",
    "1. The train / test split is mentioned as leave-one-out cross validation (LOOCV). Here a more direct approach is chosen – one subject will be the test dataset, and the rest the training dataset. This is rotated.\n",
    "2. The paper states that two subjects are dropped: Subject 108 and 109, because 108 is left-handed, and 109 does not perform the relevant activities.\n",
    "3. Iteratively read each file. Fill NaNs with mean of other values, and drop the unwanted rows and columns.\n",
    "4. Normalize the data, using $\\frac{x-\\mu}{\\sigma}$. The data is centered to have mean of zero, and normalize its scale to [-1, 1] along each feature. The mean is computed only over the training data and then subtracted equally from all splits (train and test).\n",
    "5. Sliding window is applied, based on sliding steps of {128,64,32,16,8} and window size of 256. However due to training time limitations (it's too long) I only use a sliding step of 128.\n",
    "\n",
    "Functions *generate_data* and *sliding_window* are taken from my DDA Lab 6."
   ]
  },
  {
   "cell_type": "code",
   "execution_count": 12,
   "metadata": {},
   "outputs": [],
   "source": [
    "def generate_data(filelist, sliding_step):\n",
    "    dir = './PAMAP2_Dataset/Protocol/'\n",
    "    # Required columns\n",
    "    columns = [1,  # Activity ID\n",
    "               4, 5, 6, # IMU_hand, 3D-acceleration data\n",
    "               21, 22, 23, # IMU_chest, 3D-acceleration data\n",
    "               38, 39, 40  # IMU_ankle , 3D-acceleration data\n",
    "              ]\n",
    "    # Required rows\n",
    "    ID_rows = [3, 4, 12, 13]  # standing, walking, ascending stairs, descending stairs\n",
    "    data = []\n",
    "\n",
    "    for file in filelist:\n",
    "        input = dir + file\n",
    "        print('Reading data file: ', input)\n",
    "        df = pd.read_csv(input, header=None, delim_whitespace=True)\n",
    "        df = df.fillna(df.mean())  # Replace NaNs with mean of column\n",
    "        df = df[df[1].isin(ID_rows)]  # Keep only the required rows & drop the rest\n",
    "        df = df[columns]  # Keep only the required columns & drop the rest\n",
    "        data.append(df)\n",
    "    df = pd.concat(data)  # Merge into one dataframe\n",
    "\n",
    "    # Normalize X_dataframe as per http://cs231n.github.io/neural-networks-2/\n",
    "    x_df = df.drop(1, axis=1)  # Drop target column (Activity ID)\n",
    "    x_df -= np.mean(x_df, axis=0)\n",
    "    x_df /= np.std(x_df, axis=0)\n",
    "\n",
    "    y_df = pd.get_dummies(df[1])  # One-hot encoding for this categorical target data (Activity ID)\n",
    "\n",
    "    # Sliding window based on research paper\n",
    "    X_data,Y_data=sliding_window(x_df,y_df,sliding_step)\n",
    "    return X_data, Y_data"
   ]
  },
  {
   "cell_type": "code",
   "execution_count": 13,
   "metadata": {},
   "outputs": [],
   "source": [
    "def sliding_window(x_df,y_df,step):\n",
    "    window_size = 256  # Constant\n",
    "    ylen = len(y_df)  # Length of target\n",
    "    max_step = ylen // step  # Sliding over dataframe\n",
    "    X_data = []\n",
    "    Y_data = []\n",
    "    # https://www.geeksforgeeks.org/window-sliding-technique/\n",
    "    for i in range(0, max_step):\n",
    "        start = i * step\n",
    "        end = window_size + (i * step)\n",
    "        if end > ylen:\n",
    "            start = ylen - window_size\n",
    "            end = ylen\n",
    "        X_data.append(np.array(x_df[start:end]))\n",
    "        arr = y_df[start:end]\n",
    "        Y_data.append(np.array(arr.sum() / len(arr)))\n",
    "    # Convert to ndarray for Pytorch\n",
    "    X_data = np.array(X_data)\n",
    "    Y_data = np.argmax(np.array(Y_data), axis=1)\n",
    "\n",
    "    return X_data, Y_data"
   ]
  },
  {
   "cell_type": "markdown",
   "metadata": {},
   "source": [
    "Here we can define which subjects should be traininig data or testing data."
   ]
  },
  {
   "cell_type": "code",
   "execution_count": 14,
   "metadata": {},
   "outputs": [],
   "source": [
    "train_filelist = ['subject102.dat', 'subject103.dat', 'subject104.dat', 'subject105.dat','subject106.dat','subject107.dat']\n",
    "test_filelist = ['subject101.dat']"
   ]
  },
  {
   "cell_type": "code",
   "execution_count": 15,
   "metadata": {},
   "outputs": [
    {
     "name": "stdout",
     "output_type": "stream",
     "text": [
      "Reading data file:  ./PAMAP2_Dataset/Protocol/subject102.dat\n",
      "Reading data file:  ./PAMAP2_Dataset/Protocol/subject103.dat\n",
      "Reading data file:  ./PAMAP2_Dataset/Protocol/subject104.dat\n",
      "Reading data file:  ./PAMAP2_Dataset/Protocol/subject105.dat\n",
      "Reading data file:  ./PAMAP2_Dataset/Protocol/subject106.dat\n",
      "Reading data file:  ./PAMAP2_Dataset/Protocol/subject107.dat\n",
      "Shape of X_Train:  (3891, 256, 9)\n",
      "Shape of Y_Train:  (3891,)\n"
     ]
    }
   ],
   "source": [
    "X_data, y_data = generate_data(train_filelist, sliding_step=128)\n",
    "print('Shape of X_Train: ', X_data.shape)\n",
    "print('Shape of Y_Train: ', y_data.shape)"
   ]
  },
  {
   "cell_type": "code",
   "execution_count": 16,
   "metadata": {},
   "outputs": [
    {
     "name": "stdout",
     "output_type": "stream",
     "text": [
      "Reading data file:  ./PAMAP2_Dataset/Protocol/subject101.dat\n",
      "Shape of X_Test:  (584, 256, 9)\n",
      "Shape of Y_Test:  (584,)\n"
     ]
    }
   ],
   "source": [
    "X_valid, y_valid = generate_data(test_filelist, sliding_step=128)\n",
    "print('Shape of X_Test: ', X_valid.shape)\n",
    "print('Shape of Y_Test: ', y_valid.shape)"
   ]
  },
  {
   "cell_type": "markdown",
   "metadata": {},
   "source": [
    "In order to make use of the Pytorch DataLoader functionality, it should be in a tensor format firstly. Normally we would inherit the class \"Dataset\", however since the dataset is in numpy arrays (3D and 2D), we can directly use the DataLoader. Note the use of *permute* - in Tensorflow the expected format for convolutional layers is [batch, width, channels] but in Pytorch the format is [batch, channels, width]. Since I reused my old sliding window code, *permute* is used to swap the axes."
   ]
  },
  {
   "cell_type": "code",
   "execution_count": 17,
   "metadata": {},
   "outputs": [
    {
     "data": {
      "text/plain": [
       "(torch.Size([3891, 256, 9]),\n",
       " torch.Size([3891]),\n",
       " torch.Size([584, 256, 9]),\n",
       " torch.Size([584]))"
      ]
     },
     "execution_count": 17,
     "metadata": {},
     "output_type": "execute_result"
    }
   ],
   "source": [
    "X_train=torch.from_numpy(X_data)\n",
    "y_train=torch.from_numpy(y_data)\n",
    "X_test=torch.from_numpy(X_valid)\n",
    "y_test=torch.from_numpy(y_valid)\n",
    "\n",
    "X_train.shape,y_train.shape,X_test.shape,y_test.shape"
   ]
  },
  {
   "cell_type": "code",
   "execution_count": 18,
   "metadata": {},
   "outputs": [],
   "source": [
    "batch_size = 100\n",
    "training_dataset = torch.utils.data.TensorDataset(X_train.permute(0,2,1), y_train)\n",
    "train_loader = torch.utils.data.DataLoader(training_dataset, batch_size=batch_size, shuffle=False)\n",
    "\n",
    "testing_dataset = torch.utils.data.TensorDataset(X_test.permute(0,2,1), y_test)\n",
    "test_loader = torch.utils.data.DataLoader(testing_dataset, batch_size=batch_size, shuffle=False)"
   ]
  },
  {
   "cell_type": "code",
   "execution_count": 19,
   "metadata": {},
   "outputs": [],
   "source": [
    "writer = SummaryWriter()"
   ]
  },
  {
   "cell_type": "markdown",
   "metadata": {},
   "source": [
    "Now our custom dataset is put to the DataLoader for training and testing dataset. And we can call it iteratively during the training and testing phase."
   ]
  },
  {
   "cell_type": "markdown",
   "metadata": {},
   "source": [
    "## Part B: MC-DCNN Model Architecture"
   ]
  },
  {
   "cell_type": "markdown",
   "metadata": {},
   "source": [
    "This is the proposed model from the research paper:\n",
    "\n",
    "<img src=\"https://i.imgur.com/X2A0lPE.jpg\" width=\"65%\"/>"
   ]
  },
  {
   "cell_type": "markdown",
   "metadata": {},
   "source": [
    "We use three main types of layers to build CNN architectures [4]: \n",
    "* Convolutional Layer: which apply a specified number of convolution filters to the image. For each subregion, the layer performs a set of mathematical operations to produce a single value in the output feature map\n",
    "* Pooling Layer: down-sample the image data extracted by the convolutional layers to reduce the dimensionality of the feature map in order to decrease processing time\n",
    "* Fully-Connected Layer: perform classification on the features extracted by the convolutional layers and down-sampled by the pooling layers. In a dense layer, every node in the layer is connected to every node in the preceding layer.\n",
    "\n",
    "Instead of images as per regular use of CNNs, here the classification is of multiple 1D time-series classifications. Hence, there are N-channels input with length (window size) of 256. Each channel is fed into a 2-stages feature extractor which learns features through filter layer, activation layer, and pooling layer. For example, input channel is passed to the first 1D convolution layer (filter and activation), then goes into the first 1D pooling layer, then into the second 1D convolution layer, into the second 1D pooling layer. After the features are learned, it is passed to the fully-connected layer, after that is flattened and the softmax is computed, giving the final output (classifications). The diagram below [5] shows the overall flow, along with the dimensions."
   ]
  },
  {
   "cell_type": "markdown",
   "metadata": {},
   "source": [
    "<img src=\"https://i.imgur.com/bBr4hS1.jpg\" width=\"45%\"/>"
   ]
  },
  {
   "cell_type": "markdown",
   "metadata": {},
   "source": [
    "The CNN class code-block and subsequent training/testing code-block are adapted from the official Pytorch documentation [6] and from [7,8,9]. CNN examples online are mostly for image classification, but the same methodlogy can be applied for this time-series classification, by paying close attention to the dimensions."
   ]
  },
  {
   "cell_type": "code",
   "execution_count": 20,
   "metadata": {},
   "outputs": [],
   "source": [
    "class MC_DCNN(nn.Module):\n",
    "    def __init__(self):\n",
    "        super(MC_DCNN, self).__init__()\n",
    "        \n",
    "        # Convolutional layer 1\n",
    "        self.conv1 = nn.Sequential(\n",
    "            nn.Conv1d(9, 8, kernel_size = 5),\n",
    "            nn.ReLU(),\n",
    "            nn.AvgPool1d(kernel_size = 2, stride = 2))\n",
    "        \n",
    "        # Convolutional layer 2\n",
    "        self.conv2 = nn.Sequential(\n",
    "            nn.Conv1d(8, 4, kernel_size = 5),\n",
    "            nn.ReLU(),\n",
    "            nn.AvgPool1d(kernel_size = 2, stride = 2))\n",
    "        \n",
    "        # Fully-connected layer 1\n",
    "        self.fc1 = nn.Linear(244, 732)\n",
    "        \n",
    "        # Fully-connected layer 2\n",
    "        self.fc2 = nn.Linear(732, 4)\n",
    "\n",
    "    # Feedforward phase\n",
    "    def forward(self, x):\n",
    "        x = self.conv1(x)\n",
    "        x = self.conv2(x)\n",
    "        x = x.view(x.size(0), -1)  # Flatten output before feeding to fully-connected layers\n",
    "        x = self.fc1(x)\n",
    "        x = F.relu(x)\n",
    "        out = self.fc2(x)\n",
    "        return out"
   ]
  },
  {
   "cell_type": "code",
   "execution_count": 29,
   "metadata": {},
   "outputs": [
    {
     "name": "stdout",
     "output_type": "stream",
     "text": [
      "Model architecture: MC_DCNN(\n",
      "  (conv1): Sequential(\n",
      "    (0): Conv1d(9, 8, kernel_size=(5,), stride=(1,))\n",
      "    (1): ReLU()\n",
      "    (2): AvgPool1d(kernel_size=(2,), stride=(2,), padding=(0,))\n",
      "  )\n",
      "  (conv2): Sequential(\n",
      "    (0): Conv1d(8, 4, kernel_size=(5,), stride=(1,))\n",
      "    (1): ReLU()\n",
      "    (2): AvgPool1d(kernel_size=(2,), stride=(2,), padding=(0,))\n",
      "  )\n",
      "  (fc1): Linear(in_features=244, out_features=732, bias=True)\n",
      "  (fc2): Linear(in_features=732, out_features=4, bias=True)\n",
      ")\n"
     ]
    }
   ],
   "source": [
    "net = MC_DCNN()\n",
    "print('Model architecture:', net)"
   ]
  },
  {
   "cell_type": "markdown",
   "metadata": {},
   "source": [
    "There are various things that need to be handled in Pytorch, often discoverable after numerous debugging and errors:\n",
    "* The input (X) to the model should be float\n",
    "* The output (y_hat etc) should be of long type\n",
    "* Torch.nn.CrossEntropyLoss already combines softmax + logloss. And this function only expects 1D inputs."
   ]
  },
  {
   "cell_type": "code",
   "execution_count": 30,
   "metadata": {},
   "outputs": [],
   "source": [
    "#The following parameters are used in the training:\n",
    "epochs = 20\n",
    "learning_rate = 0.1\n",
    "criterion = nn.CrossEntropyLoss()\n",
    "optimizer = torch.optim.SGD(net.parameters(), lr=learning_rate)"
   ]
  },
  {
   "cell_type": "code",
   "execution_count": 31,
   "metadata": {},
   "outputs": [
    {
     "name": "stdout",
     "output_type": "stream",
     "text": [
      "Epoch [1/20]: Training loss: 0.1387, Test accuracy: 56.16 %\n",
      "Epoch [2/20]: Training loss: 0.8444, Test accuracy: 52.40 %\n",
      "Epoch [3/20]: Training loss: 0.6382, Test accuracy: 57.02 %\n",
      "Epoch [4/20]: Training loss: 0.3988, Test accuracy: 62.33 %\n",
      "Epoch [5/20]: Training loss: 0.4872, Test accuracy: 67.12 %\n",
      "Epoch [6/20]: Training loss: 0.5712, Test accuracy: 77.57 %\n",
      "Epoch [7/20]: Training loss: 0.5150, Test accuracy: 86.82 %\n",
      "Epoch [8/20]: Training loss: 0.6841, Test accuracy: 89.21 %\n",
      "Epoch [9/20]: Training loss: 0.6820, Test accuracy: 89.38 %\n",
      "Epoch [10/20]: Training loss: 0.7168, Test accuracy: 89.55 %\n",
      "Epoch [11/20]: Training loss: 0.7141, Test accuracy: 88.01 %\n",
      "Epoch [12/20]: Training loss: 0.7448, Test accuracy: 88.18 %\n",
      "Epoch [13/20]: Training loss: 0.7400, Test accuracy: 88.70 %\n",
      "Epoch [14/20]: Training loss: 0.7261, Test accuracy: 89.38 %\n",
      "Epoch [15/20]: Training loss: 0.6696, Test accuracy: 89.38 %\n",
      "Epoch [16/20]: Training loss: 0.6271, Test accuracy: 89.21 %\n",
      "Epoch [17/20]: Training loss: 0.6663, Test accuracy: 89.21 %\n",
      "Epoch [18/20]: Training loss: 0.6429, Test accuracy: 89.90 %\n",
      "Epoch [19/20]: Training loss: 0.6403, Test accuracy: 89.55 %\n",
      "Epoch [20/20]: Training loss: 0.6445, Test accuracy: 89.55 %\n"
     ]
    }
   ],
   "source": [
    "train_loss_hist, test_accuracy = [], []\n",
    "total_step = len(train_loader)\n",
    "\n",
    "tb = SummaryWriter()\n",
    "\n",
    "\n",
    "\n",
    "for epoch in range(epochs):\n",
    "\n",
    "    train_loss = 0.0\n",
    "    test_loss = 0.0\n",
    "    correct = 0\n",
    "    total = 0\n",
    "    \n",
    "    # SGD implementation\n",
    "    for i, data in enumerate(train_loader, 0):\n",
    "        inputs, labels = data\n",
    "        optimizer.zero_grad()\n",
    "        outputs = net(inputs.float())\n",
    "        \n",
    "        # Calculate cross entropy loss\n",
    "        loss = criterion(outputs, labels)\n",
    "        \n",
    "        # Backpropagation\n",
    "        loss.backward()\n",
    "        optimizer.step()\n",
    "        train_loss += loss.item()\n",
    "    \n",
    "    # Plotting training loss\n",
    "    epoch_train_loss = train_loss / len(data)\n",
    "    train_loss_hist.append(epoch_train_loss)\n",
    "    \n",
    "    tb.add_scalar('Loss on train set', loss.item(), epoch)\n",
    "        \n",
    "    # Predictions on test set\n",
    "    for data in test_loader:\n",
    "        images, labels = data\n",
    "        outputs = net(images.float())\n",
    "        loss = criterion(outputs, labels)\n",
    "        test_loss += loss.item()\n",
    "\n",
    "        _, predicted = torch.max(outputs.data, 1)\n",
    "        total += labels.size(0)\n",
    "        correct += (predicted == labels).sum().item()\n",
    "        \n",
    "    # Plotting test accuracy\n",
    "    \n",
    "    #test_accuracy.append((correct/total)/ len(data))\n",
    "    test_accuracy.append((correct/total))\n",
    "    \n",
    "    # Tensorboard\n",
    "    tb.add_histogram(\"Activations\", correct)\n",
    "    tb.add_scalar('Accuracy on test set', correct / total, epoch)\n",
    "        \n",
    "    if (i + 1) % 1 == 0:\n",
    "        print('Epoch [{}/{}]: Training loss: {:.4f}, Test accuracy: {:.2f} %'\n",
    "                  .format(epoch + 1, epochs, loss.item(), (correct / total) * 100))\n",
    "tb.close()"
   ]
  },
  {
   "cell_type": "code",
   "execution_count": 32,
   "metadata": {},
   "outputs": [],
   "source": [
    "def plotting(training_loss, testing_accuracy):\n",
    "    fig, ax = plt.subplots(1, 2, figsize=(15, 5))\n",
    "    fig.suptitle('MC-DCNN', fontsize=20)\n",
    "    ax[0].plot(training_loss, label='Train', color='red')\n",
    "    ax[0].set_title(\"Cross Entropy Loss on Train Set\")\n",
    "    ax[0].set_xlabel('Epochs')\n",
    "    ax[0].set_ylabel('Loss')\n",
    "    ax[0].legend()\n",
    "    \n",
    "    ax[1].plot(testing_accuracy, color='green')\n",
    "    ax[1].set_title(\"Accuracy on Test Set\")\n",
    "    ax[1].set_xlabel('Epochs')\n",
    "    ax[1].set_ylabel('Accuracy')\n",
    "\n",
    "    plt.show()"
   ]
  },
  {
   "cell_type": "code",
   "execution_count": 33,
   "metadata": {},
   "outputs": [
    {
     "data": {
      "image/png": "[encoded data removed]",
      "text/plain": [
       "<Figure size 1080x360 with 2 Axes>"
      ]
     },
     "metadata": {
      "image/png": {
       "height": 354,
       "width": 887
      }
     },
     "output_type": "display_data"
    }
   ],
   "source": [
    "plotting(train_loss_hist, test_accuracy) "
   ]
  },
  {
   "cell_type": "markdown",
   "metadata": {},
   "source": [
    "* As expected, the training loss decreases as it converges to the local minima. \n",
    "* The test accuracy increases accordinly, as model feedforwards using the learnt weights and biases to make predictions.\n",
    "* The accuracy score is similar to sklearns' accuracy metric"
   ]
  },
  {
   "cell_type": "markdown",
   "metadata": {},
   "source": [
    "Now we can run the Tensorboard to visualize the data. Actually we can use Tensorboard pretty much to visualize it real time. The code is inside the main for loop, adapted from [10]."
   ]
  },
  {
   "cell_type": "markdown",
   "metadata": {},
   "source": [
    "<img src=\"https://i.imgur.com/QGlOhmr.jpg\" align=\"left\" width=\"45%\"/><img src=\"https://i.imgur.com/ZwOYtjB.jpg\" align=\"left\" width=\"45%\"/><br>\n",
    "<img src=\"https://i.imgur.com/9qds2s2.jpg\" width=\"45%\"/>"
   ]
  },
  {
   "cell_type": "markdown",
   "metadata": {},
   "source": [
    "## Summary\n",
    "1. Obviously my implementation was not 100% the same as the research paper - as many parameters and algorithms were not clearly stated. Hence my own interpretation of the model. Also, the training phase differs from the LOOCV and sliding window size as explained. I believe that just one instance is enough for the recreation purpose, as we would like to simply see an implementation of a research paper in PyTorch and this fulfils that purpose.\n",
    "2. The code seems to be simple with few lines, but alot of work particularly the calculations of the convolving layers need to be handled before the streamlined code can be produced.\n",
    "3. One of the major changes was the use of ReLU activation functions after the convolutional and fully-connected layers instead of sigmoid as in the paper. I found better accuracies and loss minimization using ReLU activations.\n",
    "4. This was a good exercise to see the pros and cons of Pytorch versus TensorFlow. Many things are easier to implement in Pytorch. However, it is much easier to find examples and forum support for TensorFlow since that library is more mature and has a larger userbase (for now). Hence if needed to implement a CNN right now, I would go for TensorFlow (with Keras). having said that I would except PyTorch to surpass TensorFlow usage eventually.\n"
   ]
  },
  {
   "cell_type": "markdown",
   "metadata": {},
   "source": [
    "# References\n",
    "\n",
    "[1] Zheng, Y., Liu, Q., Chen, E., Ge, Y., & Zhao, J. L. (2014, June). Time series classification using multi-channels deep convolutional neural networks. In International Conference on Web-Age Information Management (pp. 298-310). Springer, Cham.<br>\n",
    "[2] https://archive.ics.uci.edu/ml/datasets/PAMAP2+Physical+Activity+Monitoring <br>\n",
    "[3] https://kluedo.ub.uni-kl.de/frontdoor/deliver/index/docId/3681/file/PhDThesis_AttilaReiss.pdf <br>\n",
    "[4] https://cs231n.github.io/neural-networks-1/ <br>\n",
    "[5] http://aqibsaeed.github.io/2016-11-04-human-activity-recognition-cnn/ <br>\n",
    "[6] https://pytorch.org/docs/stable/nn.html <br>\n",
    "[7] https://www.analyticsvidhya.com/blog/2019/10/building-image-classification-models-cnn-pytorch/ <br>\n",
    "[8] https://www.guru99.com/pytorch-tutorial.html <br>\n",
    "[9] https://adventuresinmachinelearning.com/convolutional-neural-networks-tutorial-in-pytorch/ <br>\n",
    "[10] https://pytorch.org/docs/stable/tensorboard.html <br>"
   ]
  }
 ],
 "metadata": {
  "kernelspec": {
   "display_name": "Python 3",
   "language": "python",
   "name": "python3"
  },
  "language_info": {
   "codemirror_mode": {
    "name": "ipython",
    "version": 3
   },
   "file_extension": ".py",
   "mimetype": "text/x-python",
   "name": "python",
   "nbconvert_exporter": "python",
   "pygments_lexer": "ipython3",
   "version": "3.7.3"
  }
 },
 "nbformat": 4,
 "nbformat_minor": 2
}
